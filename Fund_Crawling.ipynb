{
  "nbformat": 4,
  "nbformat_minor": 0,
  "metadata": {
    "colab": {
      "name": "Fund Crawling.ipynb",
      "provenance": [],
      "collapsed_sections": [],
      "authorship_tag": "ABX9TyOIZOjjpqsImkvpWYUoFOKy",
      "include_colab_link": true
    },
    "kernelspec": {
      "name": "python3",
      "display_name": "Python 3"
    },
    "language_info": {
      "name": "python"
    }
  },
  "cells": [
    {
      "cell_type": "markdown",
      "metadata": {
        "id": "view-in-github",
        "colab_type": "text"
      },
      "source": [
        "<a href=\"https://colab.research.google.com/github/jeffrey82221/colab/blob/main/Fund_Crawling.ipynb\" target=\"_parent\"><img src=\"https://colab.research.google.com/assets/colab-badge.svg\" alt=\"Open In Colab\"/></a>"
      ]
    },
    {
      "cell_type": "code",
      "metadata": {
        "colab": {
          "base_uri": "https://localhost:8080/"
        },
        "id": "v_7IIiegmncF",
        "outputId": "23c2f07c-c324-480a-f42a-af7c90daf837"
      },
      "source": [
        "!git clone https://github.com/jeffrey82221/fund_price_crawler.git"
      ],
      "execution_count": 19,
      "outputs": [
        {
          "output_type": "stream",
          "name": "stdout",
          "text": [
            "Cloning into 'fund_price_crawler'...\n",
            "remote: Enumerating objects: 7248, done.\u001b[K\n",
            "remote: Counting objects: 100% (7248/7248), done.\u001b[K\n",
            "remote: Compressing objects: 100% (5318/5318), done.\u001b[K\n",
            "remote: Total 7248 (delta 1378), reused 7239 (delta 1371), pack-reused 0\u001b[K\n",
            "Receiving objects: 100% (7248/7248), 4.04 MiB | 18.40 MiB/s, done.\n",
            "Resolving deltas: 100% (1378/1378), done.\n"
          ]
        }
      ]
    },
    {
      "cell_type": "code",
      "metadata": {
        "id": "byfcsWVam3ck"
      },
      "source": [
        "import os\n",
        "os.chdir('fund_price_crawler')"
      ],
      "execution_count": 20,
      "outputs": []
    },
    {
      "cell_type": "code",
      "metadata": {
        "colab": {
          "base_uri": "https://localhost:8080/"
        },
        "id": "2JOfTor5m4O9",
        "outputId": "c58b1423-c822-428b-8c2c-3b99fd625cea"
      },
      "source": [
        "!git checkout develop/mac"
      ],
      "execution_count": 21,
      "outputs": [
        {
          "output_type": "stream",
          "name": "stdout",
          "text": [
            "Checking out files: 100% (7022/7022), done.\n",
            "Branch 'develop/mac' set up to track remote branch 'develop/mac' from 'origin'.\n",
            "Switched to a new branch 'develop/mac'\n"
          ]
        }
      ]
    },
    {
      "cell_type": "code",
      "metadata": {
        "colab": {
          "base_uri": "https://localhost:8080/"
        },
        "id": "EwHXtbyym7p9",
        "outputId": "9dd9402c-4f95-4df0-c16d-572b7117ea7d"
      },
      "source": [
        "!git pull origin develop/mac"
      ],
      "execution_count": 22,
      "outputs": [
        {
          "output_type": "stream",
          "name": "stdout",
          "text": [
            "From https://github.com/jeffrey82221/fund_price_crawler\n",
            " * branch            develop/mac -> FETCH_HEAD\n",
            "Already up to date.\n"
          ]
        }
      ]
    },
    {
      "cell_type": "code",
      "metadata": {
        "colab": {
          "base_uri": "https://localhost:8080/"
        },
        "id": "A8HBoSJSnX0k",
        "outputId": "267706b5-c3af-4fd9-814a-4fc023aa7223"
      },
      "source": [
        "!git checkout -b develop/colab"
      ],
      "execution_count": 25,
      "outputs": [
        {
          "output_type": "stream",
          "name": "stdout",
          "text": [
            "Switched to a new branch 'develop/colab'\n"
          ]
        }
      ]
    },
    {
      "cell_type": "code",
      "metadata": {
        "colab": {
          "base_uri": "https://localhost:8080/"
        },
        "id": "QrgDK40Inbzc",
        "outputId": "511d0cf9-218c-4ea6-9545-7b0d2f89b9d0"
      },
      "source": [
        "!git push origin develop/colab"
      ],
      "execution_count": 26,
      "outputs": [
        {
          "output_type": "stream",
          "name": "stdout",
          "text": [
            "fatal: could not read Username for 'https://github.com': No such device or address\n"
          ]
        }
      ]
    },
    {
      "cell_type": "code",
      "metadata": {
        "colab": {
          "base_uri": "https://localhost:8080/"
        },
        "id": "bXyUoW7Um-R0",
        "outputId": "631710c0-0ecd-4cd2-a633-57674b679ca5"
      },
      "source": [
        "!pip install -r requirements.txt"
      ],
      "execution_count": 23,
      "outputs": [
        {
          "output_type": "stream",
          "name": "stdout",
          "text": [
            "Requirement already satisfied: selenium in /usr/local/lib/python3.7/dist-packages (from -r requirements.txt (line 1)) (4.0.0)\n",
            "Requirement already satisfied: binance in /usr/local/lib/python3.7/dist-packages (from -r requirements.txt (line 2)) (0.3)\n",
            "Requirement already satisfied: gluons in /usr/local/lib/python3.7/dist-packages (from -r requirements.txt (line 3)) (0.0.2)\n",
            "Requirement already satisfied: graphviz in /usr/local/lib/python3.7/dist-packages (from -r requirements.txt (line 4)) (0.10.1)\n",
            "Requirement already satisfied: scipy in /usr/local/lib/python3.7/dist-packages (from -r requirements.txt (line 5)) (1.4.1)\n",
            "Requirement already satisfied: sklearn in /usr/local/lib/python3.7/dist-packages (from -r requirements.txt (line 6)) (0.0)\n",
            "Requirement already satisfied: tqdm in /usr/local/lib/python3.7/dist-packages (from -r requirements.txt (line 7)) (4.62.3)\n",
            "Requirement already satisfied: trio~=0.17 in /usr/local/lib/python3.7/dist-packages (from selenium->-r requirements.txt (line 1)) (0.19.0)\n",
            "Requirement already satisfied: trio-websocket~=0.9 in /usr/local/lib/python3.7/dist-packages (from selenium->-r requirements.txt (line 1)) (0.9.2)\n",
            "Requirement already satisfied: urllib3[secure]~=1.26 in /usr/local/lib/python3.7/dist-packages (from selenium->-r requirements.txt (line 1)) (1.26.7)\n",
            "Requirement already satisfied: async-generator>=1.9 in /usr/local/lib/python3.7/dist-packages (from trio~=0.17->selenium->-r requirements.txt (line 1)) (1.10)\n",
            "Requirement already satisfied: idna in /usr/local/lib/python3.7/dist-packages (from trio~=0.17->selenium->-r requirements.txt (line 1)) (2.10)\n",
            "Requirement already satisfied: sniffio in /usr/local/lib/python3.7/dist-packages (from trio~=0.17->selenium->-r requirements.txt (line 1)) (1.2.0)\n",
            "Requirement already satisfied: sortedcontainers in /usr/local/lib/python3.7/dist-packages (from trio~=0.17->selenium->-r requirements.txt (line 1)) (2.4.0)\n",
            "Requirement already satisfied: attrs>=19.2.0 in /usr/local/lib/python3.7/dist-packages (from trio~=0.17->selenium->-r requirements.txt (line 1)) (21.2.0)\n",
            "Requirement already satisfied: outcome in /usr/local/lib/python3.7/dist-packages (from trio~=0.17->selenium->-r requirements.txt (line 1)) (1.1.0)\n",
            "Requirement already satisfied: wsproto>=0.14 in /usr/local/lib/python3.7/dist-packages (from trio-websocket~=0.9->selenium->-r requirements.txt (line 1)) (1.0.0)\n",
            "Requirement already satisfied: cryptography>=1.3.4 in /usr/local/lib/python3.7/dist-packages (from urllib3[secure]~=1.26->selenium->-r requirements.txt (line 1)) (35.0.0)\n",
            "Requirement already satisfied: pyOpenSSL>=0.14 in /usr/local/lib/python3.7/dist-packages (from urllib3[secure]~=1.26->selenium->-r requirements.txt (line 1)) (21.0.0)\n",
            "Requirement already satisfied: certifi in /usr/local/lib/python3.7/dist-packages (from urllib3[secure]~=1.26->selenium->-r requirements.txt (line 1)) (2021.10.8)\n",
            "Requirement already satisfied: cffi>=1.12 in /usr/local/lib/python3.7/dist-packages (from cryptography>=1.3.4->urllib3[secure]~=1.26->selenium->-r requirements.txt (line 1)) (1.15.0)\n",
            "Requirement already satisfied: pycparser in /usr/local/lib/python3.7/dist-packages (from cffi>=1.12->cryptography>=1.3.4->urllib3[secure]~=1.26->selenium->-r requirements.txt (line 1)) (2.21)\n",
            "Requirement already satisfied: six>=1.5.2 in /usr/local/lib/python3.7/dist-packages (from pyOpenSSL>=0.14->urllib3[secure]~=1.26->selenium->-r requirements.txt (line 1)) (1.15.0)\n",
            "Requirement already satisfied: h11<1,>=0.9.0 in /usr/local/lib/python3.7/dist-packages (from wsproto>=0.14->trio-websocket~=0.9->selenium->-r requirements.txt (line 1)) (0.12.0)\n",
            "Requirement already satisfied: numpy>=1.13.3 in /usr/local/lib/python3.7/dist-packages (from scipy->-r requirements.txt (line 5)) (1.19.5)\n",
            "Requirement already satisfied: scikit-learn in /usr/local/lib/python3.7/dist-packages (from sklearn->-r requirements.txt (line 6)) (0.22.2.post1)\n",
            "Requirement already satisfied: joblib>=0.11 in /usr/local/lib/python3.7/dist-packages (from scikit-learn->sklearn->-r requirements.txt (line 6)) (1.1.0)\n"
          ]
        }
      ]
    },
    {
      "cell_type": "code",
      "metadata": {
        "colab": {
          "base_uri": "https://localhost:8080/"
        },
        "id": "y0BxqBmyTZ0z",
        "outputId": "38e9389d-322f-4597-ba37-fd6f4e15b7d4"
      },
      "source": [
        "!pip install selenium\n",
        "!apt-get update\n",
        "!apt install chromium-chromedriver"
      ],
      "execution_count": 24,
      "outputs": [
        {
          "output_type": "stream",
          "name": "stdout",
          "text": [
            "Requirement already satisfied: selenium in /usr/local/lib/python3.7/dist-packages (4.0.0)\n",
            "Requirement already satisfied: trio-websocket~=0.9 in /usr/local/lib/python3.7/dist-packages (from selenium) (0.9.2)\n",
            "Requirement already satisfied: urllib3[secure]~=1.26 in /usr/local/lib/python3.7/dist-packages (from selenium) (1.26.7)\n",
            "Requirement already satisfied: trio~=0.17 in /usr/local/lib/python3.7/dist-packages (from selenium) (0.19.0)\n",
            "Requirement already satisfied: async-generator>=1.9 in /usr/local/lib/python3.7/dist-packages (from trio~=0.17->selenium) (1.10)\n",
            "Requirement already satisfied: sortedcontainers in /usr/local/lib/python3.7/dist-packages (from trio~=0.17->selenium) (2.4.0)\n",
            "Requirement already satisfied: attrs>=19.2.0 in /usr/local/lib/python3.7/dist-packages (from trio~=0.17->selenium) (21.2.0)\n",
            "Requirement already satisfied: idna in /usr/local/lib/python3.7/dist-packages (from trio~=0.17->selenium) (2.10)\n",
            "Requirement already satisfied: sniffio in /usr/local/lib/python3.7/dist-packages (from trio~=0.17->selenium) (1.2.0)\n",
            "Requirement already satisfied: outcome in /usr/local/lib/python3.7/dist-packages (from trio~=0.17->selenium) (1.1.0)\n",
            "Requirement already satisfied: wsproto>=0.14 in /usr/local/lib/python3.7/dist-packages (from trio-websocket~=0.9->selenium) (1.0.0)\n",
            "Requirement already satisfied: pyOpenSSL>=0.14 in /usr/local/lib/python3.7/dist-packages (from urllib3[secure]~=1.26->selenium) (21.0.0)\n",
            "Requirement already satisfied: certifi in /usr/local/lib/python3.7/dist-packages (from urllib3[secure]~=1.26->selenium) (2021.10.8)\n",
            "Requirement already satisfied: cryptography>=1.3.4 in /usr/local/lib/python3.7/dist-packages (from urllib3[secure]~=1.26->selenium) (35.0.0)\n",
            "Requirement already satisfied: cffi>=1.12 in /usr/local/lib/python3.7/dist-packages (from cryptography>=1.3.4->urllib3[secure]~=1.26->selenium) (1.15.0)\n",
            "Requirement already satisfied: pycparser in /usr/local/lib/python3.7/dist-packages (from cffi>=1.12->cryptography>=1.3.4->urllib3[secure]~=1.26->selenium) (2.21)\n",
            "Requirement already satisfied: six>=1.5.2 in /usr/local/lib/python3.7/dist-packages (from pyOpenSSL>=0.14->urllib3[secure]~=1.26->selenium) (1.15.0)\n",
            "Requirement already satisfied: h11<1,>=0.9.0 in /usr/local/lib/python3.7/dist-packages (from wsproto>=0.14->trio-websocket~=0.9->selenium) (0.12.0)\n",
            "Get:1 http://security.ubuntu.com/ubuntu bionic-security InRelease [88.7 kB]\n",
            "Hit:2 https://cloud.r-project.org/bin/linux/ubuntu bionic-cran40/ InRelease\n",
            "Ign:3 https://developer.download.nvidia.com/compute/cuda/repos/ubuntu1804/x86_64  InRelease\n",
            "Ign:4 https://developer.download.nvidia.com/compute/machine-learning/repos/ubuntu1804/x86_64  InRelease\n",
            "Hit:5 http://ppa.launchpad.net/c2d4u.team/c2d4u4.0+/ubuntu bionic InRelease\n",
            "Hit:6 https://developer.download.nvidia.com/compute/cuda/repos/ubuntu1804/x86_64  Release\n",
            "Hit:7 https://developer.download.nvidia.com/compute/machine-learning/repos/ubuntu1804/x86_64  Release\n",
            "Hit:8 http://archive.ubuntu.com/ubuntu bionic InRelease\n",
            "Get:9 http://archive.ubuntu.com/ubuntu bionic-updates InRelease [88.7 kB]\n",
            "Hit:10 http://ppa.launchpad.net/cran/libgit2/ubuntu bionic InRelease\n",
            "Hit:11 http://ppa.launchpad.net/deadsnakes/ppa/ubuntu bionic InRelease\n",
            "Get:12 http://archive.ubuntu.com/ubuntu bionic-backports InRelease [74.6 kB]\n",
            "Hit:13 http://ppa.launchpad.net/graphics-drivers/ppa/ubuntu bionic InRelease\n",
            "Fetched 252 kB in 3s (99.7 kB/s)\n",
            "Reading package lists... Done\n",
            "Reading package lists... Done\n",
            "Building dependency tree       \n",
            "Reading state information... Done\n",
            "chromium-chromedriver is already the newest version (95.0.4638.69-0ubuntu0.18.04.1).\n",
            "0 upgraded, 0 newly installed, 0 to remove and 61 not upgraded.\n"
          ]
        }
      ]
    },
    {
      "cell_type": "code",
      "metadata": {
        "id": "0rIqdeD5UflK",
        "colab": {
          "base_uri": "https://localhost:8080/"
        },
        "outputId": "2783bb54-2577-47da-83e1-e94298ef61da"
      },
      "source": [
        "!pwd \n",
        "!python browser2.py -u names"
      ],
      "execution_count": 27,
      "outputs": [
        {
          "output_type": "stream",
          "name": "stdout",
          "text": [
            "/content/fund_price_crawler\n",
            "browser2.py:43: DeprecationWarning: executable_path has been deprecated, please pass in a Service object\n",
            "  options=options\n",
            "Traceback (most recent call last):\n",
            "  File \"/usr/local/lib/python3.7/dist-packages/selenium/webdriver/common/service.py\", line 79, in start\n",
            "    creationflags=self.creationflags)\n",
            "  File \"/usr/lib/python3.7/subprocess.py\", line 800, in __init__\n",
            "    restore_signals, start_new_session)\n",
            "  File \"/usr/lib/python3.7/subprocess.py\", line 1551, in _execute_child\n",
            "    raise child_exception_type(errno_num, err_msg, err_filename)\n",
            "FileNotFoundError: [Errno 2] No such file or directory: '/usr/local/Cellar/geckodriver/0.30.0/bin/geckodriver': '/usr/local/Cellar/geckodriver/0.30.0/bin/geckodriver'\n",
            "\n",
            "During handling of the above exception, another exception occurred:\n",
            "\n",
            "Traceback (most recent call last):\n",
            "  File \"browser2.py\", line 43, in <module>\n",
            "    options=options\n",
            "  File \"/usr/local/lib/python3.7/dist-packages/selenium/webdriver/firefox/webdriver.py\", line 175, in __init__\n",
            "    self.service.start()\n",
            "  File \"/usr/local/lib/python3.7/dist-packages/selenium/webdriver/common/service.py\", line 86, in start\n",
            "    os.path.basename(self.path), self.start_error_message)\n",
            "selenium.common.exceptions.WebDriverException: Message: 'geckodriver' executable needs to be in PATH. \n",
            "\n"
          ]
        }
      ]
    },
    {
      "cell_type": "code",
      "metadata": {
        "colab": {
          "base_uri": "https://localhost:8080/"
        },
        "id": "NaGmsQmUdkP_",
        "outputId": "b3884a37-429b-44f3-e626-b5e2124b11d0"
      },
      "source": [
        "from browser2 import get_fund_names\n",
        "names = get_fund_names()\n",
        "print('fund count:', len(names))"
      ],
      "execution_count": 29,
      "outputs": [
        {
          "output_type": "stream",
          "name": "stdout",
          "text": [
            "fund count: 4443\n"
          ]
        }
      ]
    },
    {
      "cell_type": "code",
      "metadata": {
        "colab": {
          "base_uri": "https://localhost:8080/"
        },
        "id": "nCTNPC-XZX-j",
        "outputId": "5ae0be0c-7829-4218-b829-d0a5eb648cad"
      },
      "source": [
        "!pwd \n",
        "!python browser2.py -u link"
      ],
      "execution_count": 34,
      "outputs": [
        {
          "output_type": "stream",
          "name": "stdout",
          "text": [
            "/content/fund_price_crawler\n",
            "browser2.py:46: DeprecationWarning: use options instead of chrome_options\n",
            "  driver = webdriver.Chrome('chromedriver',chrome_options=chrome_options)\n"
          ]
        }
      ]
    },
    {
      "cell_type": "code",
      "metadata": {
        "colab": {
          "base_uri": "https://localhost:8080/"
        },
        "id": "MuRCX6WicmDX",
        "outputId": "3a061698-eafb-4f45-9a4e-143bd533e149"
      },
      "source": [
        "!pwd\n",
        "!python upgrade_nav.py"
      ],
      "execution_count": null,
      "outputs": [
        {
          "output_type": "stream",
          "name": "stdout",
          "text": [
            "摩根基金-JPM美國價值(美元)-A股(分派) Completed!\n",
            "  1% 31/4443 [02:17<5:20:20,  4.36s/it]browser2.py:46: DeprecationWarning: use options instead of chrome_options\n",
            "  driver = webdriver.Chrome('chromedriver',chrome_options=chrome_options)\n",
            "Start Download NAV of 安聯歐洲債券基金-A配息類股(歐元)\n",
            "Finish Download for 首源投資環球傘型基金-盈信世界領先可持續發展基金\n",
            "Finish Download for 安聯全球生物科技基金-A配息類股(歐元)\n",
            "Finish Download for 安聯德國基金-A配息類股(歐元)\n",
            "首源投資環球傘型基金-盈信世界領先可持續發展基金 Completed!\n",
            "安聯德國基金-A配息類股(歐元) Completed!\n",
            "安聯全球生物科技基金-A配息類股(歐元) Completed!\n",
            "browser2.py:46: DeprecationWarning: use options instead of chrome_options\n",
            "  driver = webdriver.Chrome('chromedriver',chrome_options=chrome_options)\n",
            "browser2.py:46: DeprecationWarning: use options instead of chrome_options\n",
            "  driver = webdriver.Chrome('chromedriver',chrome_options=chrome_options)\n",
            "browser2.py:46: DeprecationWarning: use options instead of chrome_options\n",
            "  driver = webdriver.Chrome('chromedriver',chrome_options=chrome_options)\n",
            "Start Download NAV of 安聯全球資源基金-A配息類股(歐元)\n",
            "Start Download NAV of 安聯歐洲基金-A配息類股(歐元)\n",
            "Start Download NAV of 安聯歐洲成長基金-A配息類股(歐元)\n",
            "摩根基金-JPM 美國複合收益債券(美元)-A股(分派)\n",
            " count: 10\t end: 2021/10/28\t last nav: 12.84\n",
            "FINISH CRAWLING: 摩根基金-JPM 美國複合收益債券(美元)-A股(分派)\n",
            "Finish Download for 摩根基金-JPM 美國複合收益債券(美元)-A股(分派)\n",
            "摩根基金-JPM 美國複合收益債券(美元)-A股(分派) Completed!\n",
            "  1% 32/4443 [02:35<8:53:24,  7.26s/it]安聯歐洲債券基金-A配息類股(歐元)\n",
            " count: 10\t end: 2021/10/31\t last nav: 55.1\n",
            "browser2.py:46: DeprecationWarning: use options instead of chrome_options\n",
            "  driver = webdriver.Chrome('chromedriver',chrome_options=chrome_options)\n",
            "Start Download NAV of 安聯國際債券基金-A配息類股(歐元)\n",
            "安聯歐洲債券基金-A配息類股(歐元)\n",
            " count: 20\t end: 2021/10/03\t last nav: 55.5\n",
            "安聯全球資源基金-A配息類股(歐元)\n",
            " count: 10\t end: 2021/10/28\t last nav: 80.36\n",
            "安聯歐洲債券基金-A配息類股(歐元)\n",
            " count: 30\t end: 2021/09/19\t last nav: 55.73\n",
            "安聯歐洲成長基金-A配息類股(歐元)\n",
            " count: 10\t end: 2021/10/31\t last nav: 195.69\n",
            "安聯歐洲基金-A配息類股(歐元)\n",
            " count: 10\t end: 2021/10/31\t last nav: 144.22\n",
            "安聯歐洲債券基金-A配息類股(歐元)\n",
            " count: 40\t end: 2021/09/05\t last nav: 55.83\n",
            "安聯歐洲債券基金-A配息類股(歐元)\n",
            " count: 50\t end: 2021/08/22\t last nav: 56.0\n",
            "安聯歐洲債券基金-A配息類股(歐元)\n",
            " count: 60\t end: 2021/08/08\t last nav: 56.16\n",
            "安聯歐洲債券基金-A配息類股(歐元)\n",
            " count: 70\t end: 2021/07/25\t last nav: 56.02\n",
            "安聯全球資源基金-A配息類股(歐元)\n",
            " count: 20\t end: 2021/10/14\t last nav: 82.7\n",
            "安聯歐洲基金-A配息類股(歐元)\n",
            " count: 20\t end: 2021/10/17\t last nav: 141.93\n",
            "安聯歐洲債券基金-A配息類股(歐元)\n",
            " count: 80\t end: 2021/07/11\t last nav: 55.81\n",
            "安聯歐洲成長基金-A配息類股(歐元)\n",
            " count: 20\t end: 2021/10/17\t last nav: 187.81\n",
            "安聯全球資源基金-A配息類股(歐元)\n",
            " count: 30\t end: 2021/09/30\t last nav: 75.24\n",
            "安聯歐洲債券基金-A配息類股(歐元)\n",
            " count: 90\t end: 2021/06/27\t last nav: 55.53\n",
            "安聯全球資源基金-A配息類股(歐元)\n",
            " count: 40\t end: 2021/09/16\t last nav: 77.5\n",
            "安聯歐洲基金-A配息類股(歐元)\n",
            " count: 30\t end: 2021/10/03\t last nav: 136.98\n",
            "Finish Download for 安聯國際債券基金-A配息類股(歐元)\n",
            "安聯歐洲成長基金-A配息類股(歐元)\n",
            " count: 30\t end: 2021/10/03\t last nav: 180.73\n",
            "安聯歐洲債券基金-A配息類股(歐元)\n",
            " count: 100\t end: 2021/06/13\t last nav: 55.76\n",
            "安聯國際債券基金-A配息類股(歐元) Completed!\n",
            "安聯全球資源基金-A配息類股(歐元)\n",
            " count: 50\t end: 2021/09/02\t last nav: 80.57\n"
          ]
        }
      ]
    },
    {
      "cell_type": "code",
      "metadata": {
        "id": "w6crN9vTpQl5"
      },
      "source": [
        ""
      ],
      "execution_count": null,
      "outputs": []
    }
  ]
}