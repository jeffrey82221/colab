{
  "nbformat": 4,
  "nbformat_minor": 0,
  "metadata": {
    "colab": {
      "name": "Fund Crawling.ipynb",
      "provenance": [],
      "collapsed_sections": [],
      "mount_file_id": "1PEBfztbLKvUiFKcFps8VLPMlQua2k8UB",
      "authorship_tag": "ABX9TyPwdaYGbTB7LOCrZg3ftfuc",
      "include_colab_link": true
    },
    "kernelspec": {
      "name": "python3",
      "display_name": "Python 3"
    },
    "language_info": {
      "name": "python"
    }
  },
  "cells": [
    {
      "cell_type": "markdown",
      "metadata": {
        "id": "view-in-github",
        "colab_type": "text"
      },
      "source": [
        "<a href=\"https://colab.research.google.com/github/jeffrey82221/colab/blob/main/Fund_Crawling.ipynb\" target=\"_parent\"><img src=\"https://colab.research.google.com/assets/colab-badge.svg\" alt=\"Open In Colab\"/></a>"
      ]
    },
    {
      "cell_type": "markdown",
      "metadata": {
        "id": "EOvQfBiQzvQg"
      },
      "source": [
        "# Initilize Environment "
      ]
    },
    {
      "cell_type": "code",
      "metadata": {
        "colab": {
          "base_uri": "https://localhost:8080/"
        },
        "id": "v_7IIiegmncF",
        "outputId": "23c2f07c-c324-480a-f42a-af7c90daf837"
      },
      "source": [
        "!git clone https://github.com/jeffrey82221/fund_price_crawler.git"
      ],
      "execution_count": 19,
      "outputs": [
        {
          "output_type": "stream",
          "name": "stdout",
          "text": [
            "Cloning into 'fund_price_crawler'...\n",
            "remote: Enumerating objects: 7248, done.\u001b[K\n",
            "remote: Counting objects: 100% (7248/7248), done.\u001b[K\n",
            "remote: Compressing objects: 100% (5318/5318), done.\u001b[K\n",
            "remote: Total 7248 (delta 1378), reused 7239 (delta 1371), pack-reused 0\u001b[K\n",
            "Receiving objects: 100% (7248/7248), 4.04 MiB | 18.40 MiB/s, done.\n",
            "Resolving deltas: 100% (1378/1378), done.\n"
          ]
        }
      ]
    },
    {
      "cell_type": "code",
      "metadata": {
        "colab": {
          "base_uri": "https://localhost:8080/"
        },
        "id": "URaW5NGBOSnt",
        "outputId": "d0ea65c7-29ce-49eb-cb1e-7e6128faf7e5"
      },
      "source": [
        "!pwd"
      ],
      "execution_count": 15,
      "outputs": [
        {
          "output_type": "stream",
          "name": "stdout",
          "text": [
            "/content/drive/MyDrive/github/fund_price_crawler\n"
          ]
        }
      ]
    },
    {
      "cell_type": "code",
      "metadata": {
        "id": "byfcsWVam3ck"
      },
      "source": [
        "import os\n",
        "os.chdir('drive/MyDrive/github/fund_price_crawler')"
      ],
      "execution_count": 9,
      "outputs": []
    },
    {
      "cell_type": "code",
      "metadata": {
        "colab": {
          "base_uri": "https://localhost:8080/"
        },
        "id": "2JOfTor5m4O9",
        "outputId": "c58b1423-c822-428b-8c2c-3b99fd625cea"
      },
      "source": [
        "!git checkout develop/mac"
      ],
      "execution_count": 21,
      "outputs": [
        {
          "output_type": "stream",
          "name": "stdout",
          "text": [
            "Checking out files: 100% (7022/7022), done.\n",
            "Branch 'develop/mac' set up to track remote branch 'develop/mac' from 'origin'.\n",
            "Switched to a new branch 'develop/mac'\n"
          ]
        }
      ]
    },
    {
      "cell_type": "code",
      "metadata": {
        "colab": {
          "base_uri": "https://localhost:8080/"
        },
        "id": "EwHXtbyym7p9",
        "outputId": "9dd9402c-4f95-4df0-c16d-572b7117ea7d"
      },
      "source": [
        "!git pull origin develop/mac"
      ],
      "execution_count": 22,
      "outputs": [
        {
          "output_type": "stream",
          "name": "stdout",
          "text": [
            "From https://github.com/jeffrey82221/fund_price_crawler\n",
            " * branch            develop/mac -> FETCH_HEAD\n",
            "Already up to date.\n"
          ]
        }
      ]
    },
    {
      "cell_type": "code",
      "metadata": {
        "colab": {
          "base_uri": "https://localhost:8080/"
        },
        "id": "A8HBoSJSnX0k",
        "outputId": "267706b5-c3af-4fd9-814a-4fc023aa7223"
      },
      "source": [
        "!git checkout -b develop/colab"
      ],
      "execution_count": 25,
      "outputs": [
        {
          "output_type": "stream",
          "name": "stdout",
          "text": [
            "Switched to a new branch 'develop/colab'\n"
          ]
        }
      ]
    },
    {
      "cell_type": "code",
      "metadata": {
        "colab": {
          "base_uri": "https://localhost:8080/"
        },
        "id": "QrgDK40Inbzc",
        "outputId": "511d0cf9-218c-4ea6-9545-7b0d2f89b9d0"
      },
      "source": [
        "!git push origin develop/colab"
      ],
      "execution_count": 26,
      "outputs": [
        {
          "output_type": "stream",
          "name": "stdout",
          "text": [
            "fatal: could not read Username for 'https://github.com': No such device or address\n"
          ]
        }
      ]
    },
    {
      "cell_type": "code",
      "metadata": {
        "colab": {
          "base_uri": "https://localhost:8080/"
        },
        "id": "bXyUoW7Um-R0",
        "outputId": "631710c0-0ecd-4cd2-a633-57674b679ca5"
      },
      "source": [
        "!pip install -r requirements.txt"
      ],
      "execution_count": 23,
      "outputs": [
        {
          "output_type": "stream",
          "name": "stdout",
          "text": [
            "Requirement already satisfied: selenium in /usr/local/lib/python3.7/dist-packages (from -r requirements.txt (line 1)) (4.0.0)\n",
            "Requirement already satisfied: binance in /usr/local/lib/python3.7/dist-packages (from -r requirements.txt (line 2)) (0.3)\n",
            "Requirement already satisfied: gluons in /usr/local/lib/python3.7/dist-packages (from -r requirements.txt (line 3)) (0.0.2)\n",
            "Requirement already satisfied: graphviz in /usr/local/lib/python3.7/dist-packages (from -r requirements.txt (line 4)) (0.10.1)\n",
            "Requirement already satisfied: scipy in /usr/local/lib/python3.7/dist-packages (from -r requirements.txt (line 5)) (1.4.1)\n",
            "Requirement already satisfied: sklearn in /usr/local/lib/python3.7/dist-packages (from -r requirements.txt (line 6)) (0.0)\n",
            "Requirement already satisfied: tqdm in /usr/local/lib/python3.7/dist-packages (from -r requirements.txt (line 7)) (4.62.3)\n",
            "Requirement already satisfied: trio~=0.17 in /usr/local/lib/python3.7/dist-packages (from selenium->-r requirements.txt (line 1)) (0.19.0)\n",
            "Requirement already satisfied: trio-websocket~=0.9 in /usr/local/lib/python3.7/dist-packages (from selenium->-r requirements.txt (line 1)) (0.9.2)\n",
            "Requirement already satisfied: urllib3[secure]~=1.26 in /usr/local/lib/python3.7/dist-packages (from selenium->-r requirements.txt (line 1)) (1.26.7)\n",
            "Requirement already satisfied: async-generator>=1.9 in /usr/local/lib/python3.7/dist-packages (from trio~=0.17->selenium->-r requirements.txt (line 1)) (1.10)\n",
            "Requirement already satisfied: idna in /usr/local/lib/python3.7/dist-packages (from trio~=0.17->selenium->-r requirements.txt (line 1)) (2.10)\n",
            "Requirement already satisfied: sniffio in /usr/local/lib/python3.7/dist-packages (from trio~=0.17->selenium->-r requirements.txt (line 1)) (1.2.0)\n",
            "Requirement already satisfied: sortedcontainers in /usr/local/lib/python3.7/dist-packages (from trio~=0.17->selenium->-r requirements.txt (line 1)) (2.4.0)\n",
            "Requirement already satisfied: attrs>=19.2.0 in /usr/local/lib/python3.7/dist-packages (from trio~=0.17->selenium->-r requirements.txt (line 1)) (21.2.0)\n",
            "Requirement already satisfied: outcome in /usr/local/lib/python3.7/dist-packages (from trio~=0.17->selenium->-r requirements.txt (line 1)) (1.1.0)\n",
            "Requirement already satisfied: wsproto>=0.14 in /usr/local/lib/python3.7/dist-packages (from trio-websocket~=0.9->selenium->-r requirements.txt (line 1)) (1.0.0)\n",
            "Requirement already satisfied: cryptography>=1.3.4 in /usr/local/lib/python3.7/dist-packages (from urllib3[secure]~=1.26->selenium->-r requirements.txt (line 1)) (35.0.0)\n",
            "Requirement already satisfied: pyOpenSSL>=0.14 in /usr/local/lib/python3.7/dist-packages (from urllib3[secure]~=1.26->selenium->-r requirements.txt (line 1)) (21.0.0)\n",
            "Requirement already satisfied: certifi in /usr/local/lib/python3.7/dist-packages (from urllib3[secure]~=1.26->selenium->-r requirements.txt (line 1)) (2021.10.8)\n",
            "Requirement already satisfied: cffi>=1.12 in /usr/local/lib/python3.7/dist-packages (from cryptography>=1.3.4->urllib3[secure]~=1.26->selenium->-r requirements.txt (line 1)) (1.15.0)\n",
            "Requirement already satisfied: pycparser in /usr/local/lib/python3.7/dist-packages (from cffi>=1.12->cryptography>=1.3.4->urllib3[secure]~=1.26->selenium->-r requirements.txt (line 1)) (2.21)\n",
            "Requirement already satisfied: six>=1.5.2 in /usr/local/lib/python3.7/dist-packages (from pyOpenSSL>=0.14->urllib3[secure]~=1.26->selenium->-r requirements.txt (line 1)) (1.15.0)\n",
            "Requirement already satisfied: h11<1,>=0.9.0 in /usr/local/lib/python3.7/dist-packages (from wsproto>=0.14->trio-websocket~=0.9->selenium->-r requirements.txt (line 1)) (0.12.0)\n",
            "Requirement already satisfied: numpy>=1.13.3 in /usr/local/lib/python3.7/dist-packages (from scipy->-r requirements.txt (line 5)) (1.19.5)\n",
            "Requirement already satisfied: scikit-learn in /usr/local/lib/python3.7/dist-packages (from sklearn->-r requirements.txt (line 6)) (0.22.2.post1)\n",
            "Requirement already satisfied: joblib>=0.11 in /usr/local/lib/python3.7/dist-packages (from scikit-learn->sklearn->-r requirements.txt (line 6)) (1.1.0)\n"
          ]
        }
      ]
    },
    {
      "cell_type": "code",
      "metadata": {
        "colab": {
          "base_uri": "https://localhost:8080/"
        },
        "id": "y0BxqBmyTZ0z",
        "outputId": "38e9389d-322f-4597-ba37-fd6f4e15b7d4"
      },
      "source": [
        "!pip install selenium\n",
        "!apt-get update\n",
        "!apt install chromium-chromedriver"
      ],
      "execution_count": 24,
      "outputs": [
        {
          "output_type": "stream",
          "name": "stdout",
          "text": [
            "Requirement already satisfied: selenium in /usr/local/lib/python3.7/dist-packages (4.0.0)\n",
            "Requirement already satisfied: trio-websocket~=0.9 in /usr/local/lib/python3.7/dist-packages (from selenium) (0.9.2)\n",
            "Requirement already satisfied: urllib3[secure]~=1.26 in /usr/local/lib/python3.7/dist-packages (from selenium) (1.26.7)\n",
            "Requirement already satisfied: trio~=0.17 in /usr/local/lib/python3.7/dist-packages (from selenium) (0.19.0)\n",
            "Requirement already satisfied: async-generator>=1.9 in /usr/local/lib/python3.7/dist-packages (from trio~=0.17->selenium) (1.10)\n",
            "Requirement already satisfied: sortedcontainers in /usr/local/lib/python3.7/dist-packages (from trio~=0.17->selenium) (2.4.0)\n",
            "Requirement already satisfied: attrs>=19.2.0 in /usr/local/lib/python3.7/dist-packages (from trio~=0.17->selenium) (21.2.0)\n",
            "Requirement already satisfied: idna in /usr/local/lib/python3.7/dist-packages (from trio~=0.17->selenium) (2.10)\n",
            "Requirement already satisfied: sniffio in /usr/local/lib/python3.7/dist-packages (from trio~=0.17->selenium) (1.2.0)\n",
            "Requirement already satisfied: outcome in /usr/local/lib/python3.7/dist-packages (from trio~=0.17->selenium) (1.1.0)\n",
            "Requirement already satisfied: wsproto>=0.14 in /usr/local/lib/python3.7/dist-packages (from trio-websocket~=0.9->selenium) (1.0.0)\n",
            "Requirement already satisfied: pyOpenSSL>=0.14 in /usr/local/lib/python3.7/dist-packages (from urllib3[secure]~=1.26->selenium) (21.0.0)\n",
            "Requirement already satisfied: certifi in /usr/local/lib/python3.7/dist-packages (from urllib3[secure]~=1.26->selenium) (2021.10.8)\n",
            "Requirement already satisfied: cryptography>=1.3.4 in /usr/local/lib/python3.7/dist-packages (from urllib3[secure]~=1.26->selenium) (35.0.0)\n",
            "Requirement already satisfied: cffi>=1.12 in /usr/local/lib/python3.7/dist-packages (from cryptography>=1.3.4->urllib3[secure]~=1.26->selenium) (1.15.0)\n",
            "Requirement already satisfied: pycparser in /usr/local/lib/python3.7/dist-packages (from cffi>=1.12->cryptography>=1.3.4->urllib3[secure]~=1.26->selenium) (2.21)\n",
            "Requirement already satisfied: six>=1.5.2 in /usr/local/lib/python3.7/dist-packages (from pyOpenSSL>=0.14->urllib3[secure]~=1.26->selenium) (1.15.0)\n",
            "Requirement already satisfied: h11<1,>=0.9.0 in /usr/local/lib/python3.7/dist-packages (from wsproto>=0.14->trio-websocket~=0.9->selenium) (0.12.0)\n",
            "Get:1 http://security.ubuntu.com/ubuntu bionic-security InRelease [88.7 kB]\n",
            "Hit:2 https://cloud.r-project.org/bin/linux/ubuntu bionic-cran40/ InRelease\n",
            "Ign:3 https://developer.download.nvidia.com/compute/cuda/repos/ubuntu1804/x86_64  InRelease\n",
            "Ign:4 https://developer.download.nvidia.com/compute/machine-learning/repos/ubuntu1804/x86_64  InRelease\n",
            "Hit:5 http://ppa.launchpad.net/c2d4u.team/c2d4u4.0+/ubuntu bionic InRelease\n",
            "Hit:6 https://developer.download.nvidia.com/compute/cuda/repos/ubuntu1804/x86_64  Release\n",
            "Hit:7 https://developer.download.nvidia.com/compute/machine-learning/repos/ubuntu1804/x86_64  Release\n",
            "Hit:8 http://archive.ubuntu.com/ubuntu bionic InRelease\n",
            "Get:9 http://archive.ubuntu.com/ubuntu bionic-updates InRelease [88.7 kB]\n",
            "Hit:10 http://ppa.launchpad.net/cran/libgit2/ubuntu bionic InRelease\n",
            "Hit:11 http://ppa.launchpad.net/deadsnakes/ppa/ubuntu bionic InRelease\n",
            "Get:12 http://archive.ubuntu.com/ubuntu bionic-backports InRelease [74.6 kB]\n",
            "Hit:13 http://ppa.launchpad.net/graphics-drivers/ppa/ubuntu bionic InRelease\n",
            "Fetched 252 kB in 3s (99.7 kB/s)\n",
            "Reading package lists... Done\n",
            "Reading package lists... Done\n",
            "Building dependency tree       \n",
            "Reading state information... Done\n",
            "chromium-chromedriver is already the newest version (95.0.4638.69-0ubuntu0.18.04.1).\n",
            "0 upgraded, 0 newly installed, 0 to remove and 61 not upgraded.\n"
          ]
        }
      ]
    },
    {
      "cell_type": "code",
      "metadata": {
        "id": "vJZgSTzsMYDX"
      },
      "source": [
        "!cp -r fund_price_crawler drive/MyDrive/github/fund_price_crawler"
      ],
      "execution_count": null,
      "outputs": []
    },
    {
      "cell_type": "markdown",
      "metadata": {
        "id": "tM_O3Kgn0BSm"
      },
      "source": [
        "# Test Sync Status "
      ]
    },
    {
      "cell_type": "code",
      "metadata": {
        "id": "0rIqdeD5UflK",
        "colab": {
          "base_uri": "https://localhost:8080/"
        },
        "outputId": "a3b638fc-6065-4e77-b129-8226e6d82dbf"
      },
      "source": [
        "!pwd \n",
        "!python browser2.py -u names"
      ],
      "execution_count": 21,
      "outputs": [
        {
          "output_type": "stream",
          "name": "stdout",
          "text": [
            "/content/drive/My Drive/github/fund_price_crawler\n",
            "browser2.py:46: DeprecationWarning: use options instead of chrome_options\n",
            "  driver = webdriver.Chrome('chromedriver',chrome_options=chrome_options)\n"
          ]
        }
      ]
    },
    {
      "cell_type": "code",
      "metadata": {
        "colab": {
          "base_uri": "https://localhost:8080/"
        },
        "id": "NaGmsQmUdkP_",
        "outputId": "9f078451-3609-4a5a-84db-a99bf4e243fc"
      },
      "source": [
        "from browser2 import get_fund_names\n",
        "names = get_fund_names()\n",
        "print('fund count:', len(names))"
      ],
      "execution_count": 22,
      "outputs": [
        {
          "output_type": "stream",
          "name": "stdout",
          "text": [
            "fund count: 4443\n"
          ]
        }
      ]
    },
    {
      "cell_type": "code",
      "metadata": {
        "colab": {
          "base_uri": "https://localhost:8080/"
        },
        "id": "nCTNPC-XZX-j",
        "outputId": "743733c0-91c5-4085-ce02-c701b60cf5ef"
      },
      "source": [
        "!pwd \n",
        "!python browser2.py -u link"
      ],
      "execution_count": 18,
      "outputs": [
        {
          "output_type": "stream",
          "name": "stdout",
          "text": [
            "/content/drive/My Drive/github/fund_price_crawler\n",
            "browser2.py:46: DeprecationWarning: use options instead of chrome_options\n",
            "  driver = webdriver.Chrome('chromedriver',chrome_options=chrome_options)\n"
          ]
        }
      ]
    },
    {
      "cell_type": "markdown",
      "metadata": {
        "id": "jx0jU1fm0F6m"
      },
      "source": [
        "# Run nav download "
      ]
    },
    {
      "cell_type": "code",
      "metadata": {
        "colab": {
          "base_uri": "https://localhost:8080/"
        },
        "id": "MuRCX6WicmDX",
        "outputId": "a2c1c2ea-b954-49ca-cd8e-e45d7fe9b560"
      },
      "source": [
        "!pwd\n",
        "!python upgrade_nav.py"
      ],
      "execution_count": null,
      "outputs": [
        {
          "output_type": "stream",
          "name": "stdout",
          "text": [
            "/content/drive/My Drive/github/fund_price_crawler\n",
            "number of funds with link: 4443\n",
            "  0% 0/4443 [00:00<?, ?it/s]browser2.py:46: DeprecationWarning: use options instead of chrome_options\n",
            "  driver = webdriver.Chrome('chromedriver',chrome_options=chrome_options)\n",
            "browser2.py:46: DeprecationWarning: use options instead of chrome_options\n",
            "  driver = webdriver.Chrome('chromedriver',chrome_options=chrome_options)\n",
            "browser2.py:46: DeprecationWarning: use options instead of chrome_options\n",
            "  driver = webdriver.Chrome('chromedriver',chrome_options=chrome_options)\n",
            "browser2.py:46: DeprecationWarning: use options instead of chrome_options\n",
            "  driver = webdriver.Chrome('chromedriver',chrome_options=chrome_options)\n",
            "browser2.py:46: DeprecationWarning: use options instead of chrome_options\n",
            "  driver = webdriver.Chrome('chromedriver',chrome_options=chrome_options)\n",
            "browser2.py:46: DeprecationWarning: use options instead of chrome_options\n",
            "  driver = webdriver.Chrome('chromedriver',chrome_options=chrome_options)\n",
            "browser2.py:46: DeprecationWarning: use options instead of chrome_options\n",
            "  driver = webdriver.Chrome('chromedriver',chrome_options=chrome_options)\n",
            "browser2.py:46: DeprecationWarning: use options instead of chrome_options\n",
            "  driver = webdriver.Chrome('chromedriver',chrome_options=chrome_options)\n",
            "browser2.py:46: DeprecationWarning: use options instead of chrome_options\n",
            "  driver = webdriver.Chrome('chromedriver',chrome_options=chrome_options)\n",
            "browser2.py:46: DeprecationWarning: use options instead of chrome_options\n",
            "  driver = webdriver.Chrome('chromedriver',chrome_options=chrome_options)\n",
            "Start Download NAV of 群益葛萊美基金\n",
            "Start Download NAV of 華南永昌麒麟貨幣市場基金\n",
            "Start Download NAV of 元大台灣中型100基金\n",
            "Start Download NAV of 群益奧斯卡基金\n",
            "Start Download NAV of 街口台灣基金\n",
            "Start Download NAV of 台新主流基金\n",
            "Start Download NAV of 街口平安貨幣市場基金\n",
            "Start Download NAV of 街口中小型基金\n",
            "Start Download NAV of 中國信託台灣活力基金\n",
            "Start Download NAV of 元大台灣電子科技基金\n",
            "Finish Download for 華南永昌麒麟貨幣市場基金\n",
            "Finish Download for 群益葛萊美基金\n",
            "華南永昌麒麟貨幣市場基金 Completed!\n",
            "群益葛萊美基金 Completed!\n",
            "  0% 1/4443 [00:42<52:01:37, 42.17s/it]Finish Download for 元大台灣中型100基金\n",
            "Finish Download for 街口平安貨幣市場基金\n",
            "Finish Download for 街口台灣基金\n",
            "Finish Download for 街口中小型基金\n",
            "Finish Download for 中國信託台灣活力基金\n",
            "Finish Download for 台新主流基金\n",
            "Finish Download for 群益奧斯卡基金\n",
            "Finish Download for 元大台灣電子科技基金\n",
            "元大台灣中型100基金 Completed!\n",
            "街口平安貨幣市場基金 Completed!\n",
            "街口台灣基金 Completed!\n",
            "台新主流基金 Completed!\n",
            "群益奧斯卡基金 Completed!\n",
            "街口中小型基金 Completed!\n",
            "中國信託台灣活力基金 Completed!\n",
            "  0% 3/4443 [00:48<14:19:16, 11.61s/it]元大台灣電子科技基金 Completed!\n",
            "  0% 4/4443 [00:49<8:52:45,  7.20s/it] browser2.py:46: DeprecationWarning: use options instead of chrome_options\n",
            "  driver = webdriver.Chrome('chromedriver',chrome_options=chrome_options)\n",
            "browser2.py:46: DeprecationWarning: use options instead of chrome_options\n",
            "  driver = webdriver.Chrome('chromedriver',chrome_options=chrome_options)\n",
            "browser2.py:46: DeprecationWarning: use options instead of chrome_options\n",
            "  driver = webdriver.Chrome('chromedriver',chrome_options=chrome_options)\n",
            "browser2.py:46: DeprecationWarning: use options instead of chrome_options\n",
            "  driver = webdriver.Chrome('chromedriver',chrome_options=chrome_options)\n",
            "Start Download NAV of 元大台商收成基金\n",
            "Start Download NAV of 元大台灣金融基金\n",
            "browser2.py:46: DeprecationWarning: use options instead of chrome_options\n",
            "  driver = webdriver.Chrome('chromedriver',chrome_options=chrome_options)\n",
            "browser2.py:46: DeprecationWarning: use options instead of chrome_options\n",
            "  driver = webdriver.Chrome('chromedriver',chrome_options=chrome_options)\n",
            "browser2.py:46: DeprecationWarning: use options instead of chrome_options\n",
            "  driver = webdriver.Chrome('chromedriver',chrome_options=chrome_options)\n",
            "browser2.py:46: DeprecationWarning: use options instead of chrome_options\n",
            "  driver = webdriver.Chrome('chromedriver',chrome_options=chrome_options)\n",
            "browser2.py:46: DeprecationWarning: use options instead of chrome_options\n",
            "  driver = webdriver.Chrome('chromedriver',chrome_options=chrome_options)\n",
            "browser2.py:46: DeprecationWarning: use options instead of chrome_options\n",
            "  driver = webdriver.Chrome('chromedriver',chrome_options=chrome_options)\n",
            "Start Download NAV of 日盛首選基金\n",
            "Start Download NAV of 統一台灣動力基金\n",
            "Start Download NAV of 施羅德台灣樂活中小基金-A類型\n",
            "Start Download NAV of 安聯台灣智慧基金\n",
            "Start Download NAV of 元大台灣高股息基金\n",
            "Start Download NAV of 兆豐國際豐台灣基金\n",
            "Start Download NAV of 凱基台灣精五門基金\n",
            "Start Download NAV of 元大標智滬深300基金\n"
          ]
        }
      ]
    },
    {
      "cell_type": "markdown",
      "metadata": {
        "id": "SeNC9PyS0L4u"
      },
      "source": [
        "# Git commit and push "
      ]
    },
    {
      "cell_type": "code",
      "metadata": {
        "colab": {
          "base_uri": "https://localhost:8080/"
        },
        "id": "th7a7nBwLmGI",
        "outputId": "af3f2406-7324-43d0-9650-16fae4d04d3e"
      },
      "source": [
        "!git status"
      ],
      "execution_count": 4,
      "outputs": [
        {
          "output_type": "stream",
          "name": "stdout",
          "text": [
            "On branch develop/colab\n",
            "Changes not staged for commit:\n",
            "  (use \"git add <file>...\" to update what will be committed)\n",
            "  (use \"git checkout -- <file>...\" to discard changes in working directory)\n",
            "\n",
            "\t\u001b[31mmodified:   \"nav/\\346\\221\\251\\346\\240\\271\\345\\237\\272\\351\\207\\221-JPM \\347\\276\\216\\345\\234\\213\\350\\244\\207\\345\\220\\210\\346\\224\\266\\347\\233\\212\\345\\202\\265\\345\\210\\270(\\347\\276\\216\\345\\205\\203)-A\\350\\202\\241(\\345\\210\\206\\346\\264\\276).csv\"\u001b[m\n",
            "\t\u001b[31mmodified:   upgrade_nav.py\u001b[m\n",
            "\n",
            "Untracked files:\n",
            "  (use \"git add <file>...\" to include in what will be committed)\n",
            "\n",
            "\t\u001b[31m\"nav/\\345\\256\\211\\350\\201\\257\\345\\205\\250\\347\\220\\203\\350\\263\\207\\346\\272\\220\\345\\237\\272\\351\\207\\221-A\\351\\205\\215\\346\\201\\257\\351\\241\\236\\350\\202\\241(\\346\\255\\220\\345\\205\\203).csv\"\u001b[m\n",
            "\t\u001b[31m\"nav/\\345\\256\\211\\350\\201\\257\\346\\255\\220\\346\\264\\262\\345\\202\\265\\345\\210\\270\\345\\237\\272\\351\\207\\221-A\\351\\205\\215\\346\\201\\257\\351\\241\\236\\350\\202\\241(\\346\\255\\220\\345\\205\\203).csv\"\u001b[m\n",
            "\t\u001b[31m\"nav/\\345\\256\\211\\350\\201\\257\\346\\255\\220\\346\\264\\262\\345\\237\\272\\351\\207\\221-A\\351\\205\\215\\346\\201\\257\\351\\241\\236\\350\\202\\241(\\346\\255\\220\\345\\205\\203).csv\"\u001b[m\n",
            "\t\u001b[31m\"nav/\\345\\256\\211\\350\\201\\257\\346\\255\\220\\346\\264\\262\\346\\210\\220\\351\\225\\267\\345\\237\\272\\351\\207\\221-A\\351\\205\\215\\346\\201\\257\\351\\241\\236\\350\\202\\241(\\346\\255\\220\\345\\205\\203).csv\"\u001b[m\n",
            "\t\u001b[31m\"nav/\\345\\257\\214\\350\\230\\255\\345\\205\\213\\346\\236\\227\\345\\235\\246\\344\\274\\257\\351\\240\\223\\345\\205\\250\\347\\220\\203\\346\\212\\225\\350\\263\\207\\347\\263\\273\\345\\210\\227-\\344\\270\\255\\345\\260\\217\\345\\236\\213\\344\\274\\201\\346\\245\\255\\345\\237\\272\\351\\207\\221\\347\\276\\216\\345\\205\\203A (acc)\\350\\202\\241.csv\"\u001b[m\n",
            "\t\u001b[31m\"nav/\\345\\257\\214\\350\\230\\255\\345\\205\\213\\346\\236\\227\\345\\235\\246\\344\\274\\257\\351\\240\\223\\345\\205\\250\\347\\220\\203\\346\\212\\225\\350\\263\\207\\347\\263\\273\\345\\210\\227-\\344\\272\\222\\345\\210\\251\\347\\276\\216\\345\\234\\213\\345\\203\\271\\345\\200\\274\\345\\237\\272\\351\\207\\221\\347\\276\\216\\345\\205\\203A (acc)\\350\\202\\241.csv\"\u001b[m\n",
            "\t\u001b[31m\"nav/\\345\\257\\214\\350\\230\\255\\345\\205\\213\\346\\236\\227\\345\\235\\246\\344\\274\\257\\351\\240\\223\\345\\205\\250\\347\\220\\203\\346\\212\\225\\350\\263\\207\\347\\263\\273\\345\\210\\227-\\344\\272\\236\\346\\264\\262\\346\\210\\220\\351\\225\\267\\345\\237\\272\\351\\207\\221\\347\\276\\216\\345\\205\\203A (acc)\\350\\202\\241.csv\"\u001b[m\n",
            "\t\u001b[31m\"nav/\\345\\257\\214\\350\\230\\255\\345\\205\\213\\346\\236\\227\\345\\235\\246\\344\\274\\257\\351\\240\\223\\345\\205\\250\\347\\220\\203\\346\\212\\225\\350\\263\\207\\347\\263\\273\\345\\210\\227-\\345\\205\\250\\347\\220\\203\\345\\237\\272\\351\\207\\221\\347\\276\\216\\345\\205\\203 A (acc)\\350\\202\\241.csv\"\u001b[m\n",
            "\t\u001b[31m\"nav/\\345\\257\\214\\350\\230\\255\\345\\205\\213\\346\\236\\227\\345\\235\\246\\344\\274\\257\\351\\240\\223\\345\\205\\250\\347\\220\\203\\346\\212\\225\\350\\263\\207\\347\\263\\273\\345\\210\\227-\\345\\205\\250\\347\\220\\203\\345\\271\\263\\350\\241\\241\\345\\237\\272\\351\\207\\221\\347\\276\\216\\345\\205\\203A (Qdis)\\350\\202\\241.csv\"\u001b[m\n",
            "\t\u001b[31m\"nav/\\345\\257\\214\\350\\230\\255\\345\\205\\213\\346\\236\\227\\345\\235\\246\\344\\274\\257\\351\\240\\223\\345\\205\\250\\347\\220\\203\\346\\212\\225\\350\\263\\207\\347\\263\\273\\345\\210\\227-\\345\\205\\250\\347\\220\\203\\346\\260\\243\\345\\200\\231\\350\\256\\212\\351\\201\\267\\345\\237\\272\\351\\207\\221\\346\\255\\220\\345\\205\\203A (Ydis)\\350\\202\\241.csv\"\u001b[m\n",
            "\t\u001b[31m\"nav/\\345\\257\\214\\350\\230\\255\\345\\205\\213\\346\\236\\227\\345\\235\\246\\344\\274\\257\\351\\240\\223\\345\\205\\250\\347\\220\\203\\346\\212\\225\\350\\263\\207\\347\\263\\273\\345\\210\\227-\\345\\244\\247\\344\\270\\255\\350\\217\\257\\345\\237\\272\\351\\207\\221\\347\\276\\216\\345\\205\\203A (acc)\\350\\202\\241.csv\"\u001b[m\n",
            "\t\u001b[31m\"nav/\\345\\257\\214\\350\\230\\255\\345\\205\\213\\346\\236\\227\\345\\235\\246\\344\\274\\257\\351\\240\\223\\345\\205\\250\\347\\220\\203\\346\\212\\225\\350\\263\\207\\347\\263\\273\\345\\210\\227-\\346\\213\\211\\344\\270\\201\\347\\276\\216\\346\\264\\262\\345\\237\\272\\351\\207\\221\\347\\276\\216\\345\\205\\203A (acc)\\350\\202\\241.csv\"\u001b[m\n",
            "\t\u001b[31m\"nav/\\345\\257\\214\\350\\230\\255\\345\\205\\213\\346\\236\\227\\345\\235\\246\\344\\274\\257\\351\\240\\223\\345\\205\\250\\347\\220\\203\\346\\212\\225\\350\\263\\207\\347\\263\\273\\345\\210\\227-\\346\\226\\260\\350\\210\\210\\345\\234\\213\\345\\256\\266\\345\\237\\272\\351\\207\\221\\347\\276\\216\\345\\205\\203A (acc)\\350\\202\\241.csv\"\u001b[m\n",
            "\t\u001b[31m\"nav/\\347\\221\\236\\351\\212\\200 (\\347\\233\\247\\346\\243\\256\\345\\240\\241) \\345\\244\\247\\344\\270\\255\\350\\217\\257\\350\\202\\241\\347\\245\\250\\345\\237\\272\\351\\207\\221 (\\347\\276\\216\\345\\205\\203).csv\"\u001b[m\n",
            "\t\u001b[31m\"nav/\\350\\262\\235\\350\\220\\212\\345\\276\\267\\344\\270\\226\\347\\225\\214\\347\\244\\246\\346\\245\\255\\345\\237\\272\\351\\207\\221 A2.csv\"\u001b[m\n",
            "\t\u001b[31m\"nav/\\350\\262\\235\\350\\220\\212\\345\\276\\267\\344\\270\\226\\347\\225\\214\\351\\273\\203\\351\\207\\221\\345\\237\\272\\351\\207\\221 A2.csv\"\u001b[m\n",
            "\t\u001b[31m\"nav/\\350\\262\\235\\350\\220\\212\\345\\276\\267\\346\\213\\211\\344\\270\\201\\347\\276\\216\\346\\264\\262\\345\\237\\272\\351\\207\\221 A2.csv\"\u001b[m\n",
            "\t\u001b[31m\"nav/\\350\\262\\235\\350\\220\\212\\345\\276\\267\\346\\231\\272\\346\\205\\247\\346\\225\\270\\346\\223\\232\\347\\222\\260\\347\\220\\203\\345\\260\\217\\345\\236\\213\\344\\274\\201\\346\\245\\255\\345\\237\\272\\351\\207\\221 A2 \\347\\276\\216\\345\\205\\203.csv\"\u001b[m\n",
            "\t\u001b[31m\"nav/\\350\\262\\235\\350\\220\\212\\345\\276\\267\\347\\222\\260\\347\\220\\203\\346\\224\\277\\345\\272\\234\\345\\202\\265\\345\\210\\270\\345\\237\\272\\351\\207\\221 A2 \\347\\276\\216\\345\\205\\203.csv\"\u001b[m\n",
            "\t\u001b[31m\"nav/\\350\\262\\235\\350\\220\\212\\345\\276\\267\\347\\222\\260\\347\\220\\203\\350\\263\\207\\347\\224\\242\\351\\205\\215\\347\\275\\256\\345\\237\\272\\351\\207\\221 A2.csv\"\u001b[m\n",
            "\n",
            "no changes added to commit (use \"git add\" and/or \"git commit -a\")\n"
          ]
        }
      ]
    },
    {
      "cell_type": "code",
      "metadata": {
        "id": "w6crN9vTpQl5"
      },
      "source": [
        "!git add .\n",
        "!git commit -m '[fix] compatibility of moving to google drive'"
      ],
      "execution_count": null,
      "outputs": []
    },
    {
      "cell_type": "code",
      "metadata": {
        "colab": {
          "base_uri": "https://localhost:8080/"
        },
        "id": "5w1J7pJesDFg",
        "outputId": "b8fad267-c218-4231-c772-680ad063c3a1"
      },
      "source": [
        "!git push origin develop/colab"
      ],
      "execution_count": 24,
      "outputs": [
        {
          "output_type": "stream",
          "name": "stdout",
          "text": [
            "Warning: Permanently added the RSA host key for IP address '140.82.112.3' to the list of known hosts.\n",
            "Counting objects: 4, done.\n",
            "Delta compression using up to 2 threads.\n",
            "Compressing objects: 100% (3/3), done.\n",
            "Writing objects: 100% (4/4), 468 bytes | 93.00 KiB/s, done.\n",
            "Total 4 (delta 1), reused 0 (delta 0)\n",
            "remote: Resolving deltas: 100% (1/1), completed with 1 local object.\u001b[K\n",
            "To github.com:jeffrey82221/fund_price_crawler.git\n",
            "   ec1d501..1b36f5f  develop/colab -> develop/colab\n"
          ]
        }
      ]
    },
    {
      "cell_type": "code",
      "metadata": {
        "colab": {
          "base_uri": "https://localhost:8080/"
        },
        "id": "suR2975ASEWi",
        "outputId": "251f1fe4-9b52-4821-d5ea-e0593222bd27"
      },
      "source": [
        "!git status"
      ],
      "execution_count": 25,
      "outputs": [
        {
          "output_type": "stream",
          "name": "stdout",
          "text": [
            "On branch develop/colab\n",
            "Changes not staged for commit:\n",
            "  (use \"git add <file>...\" to update what will be committed)\n",
            "  (use \"git checkout -- <file>...\" to discard changes in working directory)\n",
            "  (commit or discard the untracked or modified content in submodules)\n",
            "\n",
            "\t\u001b[31mmodified:   fund_price_crawler\u001b[m (modified content)\n",
            "\n",
            "no changes added to commit (use \"git add\" and/or \"git commit -a\")\n"
          ]
        }
      ]
    },
    {
      "cell_type": "code",
      "metadata": {
        "id": "Ee_q3fpHsYR2"
      },
      "source": [
        "!git remote rm origin"
      ],
      "execution_count": 26,
      "outputs": []
    },
    {
      "cell_type": "code",
      "metadata": {
        "colab": {
          "base_uri": "https://localhost:8080/"
        },
        "id": "AQBxQMmWqRuO",
        "outputId": "37843b9c-b9f9-4ea1-eaf1-cf504085867e"
      },
      "source": [
        "!git remote add origin 'git@github.com:jeffrey82221/fund_price_crawler.git'"
      ],
      "execution_count": 53,
      "outputs": [
        {
          "output_type": "stream",
          "name": "stdout",
          "text": [
            "fatal: remote origin already exists.\n"
          ]
        }
      ]
    },
    {
      "cell_type": "code",
      "metadata": {
        "colab": {
          "base_uri": "https://localhost:8080/"
        },
        "id": "JjqRcYTItjOu",
        "outputId": "07f8a57e-56d8-47e3-8352-993fa1b60c35"
      },
      "source": [
        "!ssh-keygen -t ed25519 -C 'jeffrey82221@gmail.com'\n",
        "!eval `ssh-agent -s`\n",
        "!ssh-add /root/.ssh/id_rsa_colab "
      ],
      "execution_count": 57,
      "outputs": [
        {
          "output_type": "stream",
          "name": "stdout",
          "text": [
            "Generating public/private ed25519 key pair.\n",
            "Enter file in which to save the key (/root/.ssh/id_ed25519): ^C\n"
          ]
        }
      ]
    },
    {
      "cell_type": "code",
      "metadata": {
        "colab": {
          "base_uri": "https://localhost:8080/"
        },
        "id": "QoQKARUnq3ZS",
        "outputId": "b5ba9c1d-9a2d-431b-8351-bffeb2333517"
      },
      "source": [
        "!bash"
      ],
      "execution_count": 52,
      "outputs": [
        {
          "output_type": "stream",
          "name": "stdout",
          "text": [
            "bash: cannot set terminal process group (9991): Inappropriate ioctl for device\n",
            "bash: no job control in this shell\n",
            "\u001b[1;36m/content\u001b[m# eval `ssh-agent -s`\n",
            "Agent pid 10565\n",
            "\u001b[1;36m/content\u001b[m# ssh-add /root/.ssh/id_ed25519_colab \n",
            "/root/.ssh/id_ed25519_colab: No such file or directory\n",
            "\u001b[1;36m/content\u001b[m# exit\n",
            "exit\n"
          ]
        }
      ]
    },
    {
      "cell_type": "code",
      "metadata": {
        "id": "9iG2gLUIrCcx"
      },
      "source": [
        "!cp /root/.ssh/id_rsa_colab.pub ../id_rsa_colab.pub\n",
        "!cp /root/.ssh/config ../config\n",
        "!cp ../config /root/.ssh/config "
      ],
      "execution_count": 49,
      "outputs": []
    },
    {
      "cell_type": "code",
      "metadata": {
        "id": "T4zMpodOxPln"
      },
      "source": [
        ""
      ],
      "execution_count": null,
      "outputs": []
    }
  ]
}