{
  "nbformat": 4,
  "nbformat_minor": 0,
  "metadata": {
    "colab": {
      "name": "Fund Crawling.ipynb",
      "provenance": [],
      "collapsed_sections": [],
      "mount_file_id": "1PEBfztbLKvUiFKcFps8VLPMlQua2k8UB",
      "authorship_tag": "ABX9TyPyfrTbvOWePd9XQaLDhUZV",
      "include_colab_link": true
    },
    "kernelspec": {
      "name": "python3",
      "display_name": "Python 3"
    },
    "language_info": {
      "name": "python"
    },
    "accelerator": "TPU"
  },
  "cells": [
    {
      "cell_type": "markdown",
      "metadata": {
        "id": "view-in-github",
        "colab_type": "text"
      },
      "source": [
        "<a href=\"https://colab.research.google.com/github/jeffrey82221/colab/blob/main/Fund_Crawling.ipynb\" target=\"_parent\"><img src=\"https://colab.research.google.com/assets/colab-badge.svg\" alt=\"Open In Colab\"/></a>"
      ]
    },
    {
      "cell_type": "markdown",
      "metadata": {
        "id": "EOvQfBiQzvQg"
      },
      "source": [
        "# Initilize Environment "
      ]
    },
    {
      "cell_type": "code",
      "metadata": {
        "colab": {
          "base_uri": "https://localhost:8080/"
        },
        "id": "v_7IIiegmncF",
        "outputId": "e58b1064-97ee-4013-e09e-e7da04cb0b49"
      },
      "source": [
        "!git clone git@github.com:jeffrey82221/fund_price_crawler.git"
      ],
      "execution_count": 2,
      "outputs": [
        {
          "output_type": "stream",
          "name": "stdout",
          "text": [
            "Cloning into 'fund_price_crawler'...\n",
            "Host key verification failed.\n",
            "fatal: Could not read from remote repository.\n",
            "\n",
            "Please make sure you have the correct access rights\n",
            "and the repository exists.\n"
          ]
        }
      ]
    },
    {
      "cell_type": "code",
      "metadata": {
        "id": "byfcsWVam3ck"
      },
      "source": [
        "import os\n",
        "os.chdir('/content/drive/MyDrive/github/fund_price_crawler')"
      ],
      "execution_count": 2,
      "outputs": []
    },
    {
      "cell_type": "code",
      "metadata": {
        "colab": {
          "base_uri": "https://localhost:8080/"
        },
        "id": "2JOfTor5m4O9",
        "outputId": "c58b1423-c822-428b-8c2c-3b99fd625cea"
      },
      "source": [
        "!git checkout develop/mac"
      ],
      "execution_count": 21,
      "outputs": [
        {
          "output_type": "stream",
          "name": "stdout",
          "text": [
            "Checking out files: 100% (7022/7022), done.\n",
            "Branch 'develop/mac' set up to track remote branch 'develop/mac' from 'origin'.\n",
            "Switched to a new branch 'develop/mac'\n"
          ]
        }
      ]
    },
    {
      "cell_type": "code",
      "metadata": {
        "colab": {
          "base_uri": "https://localhost:8080/"
        },
        "id": "EwHXtbyym7p9",
        "outputId": "9dd9402c-4f95-4df0-c16d-572b7117ea7d"
      },
      "source": [
        "!git pull origin develop/mac"
      ],
      "execution_count": 22,
      "outputs": [
        {
          "output_type": "stream",
          "name": "stdout",
          "text": [
            "From https://github.com/jeffrey82221/fund_price_crawler\n",
            " * branch            develop/mac -> FETCH_HEAD\n",
            "Already up to date.\n"
          ]
        }
      ]
    },
    {
      "cell_type": "code",
      "metadata": {
        "colab": {
          "base_uri": "https://localhost:8080/"
        },
        "id": "A8HBoSJSnX0k",
        "outputId": "267706b5-c3af-4fd9-814a-4fc023aa7223"
      },
      "source": [
        "!git checkout -b develop/colab"
      ],
      "execution_count": 25,
      "outputs": [
        {
          "output_type": "stream",
          "name": "stdout",
          "text": [
            "Switched to a new branch 'develop/colab'\n"
          ]
        }
      ]
    },
    {
      "cell_type": "code",
      "metadata": {
        "colab": {
          "base_uri": "https://localhost:8080/"
        },
        "id": "QrgDK40Inbzc",
        "outputId": "511d0cf9-218c-4ea6-9545-7b0d2f89b9d0"
      },
      "source": [
        "!git push origin develop/colab"
      ],
      "execution_count": 26,
      "outputs": [
        {
          "output_type": "stream",
          "name": "stdout",
          "text": [
            "fatal: could not read Username for 'https://github.com': No such device or address\n"
          ]
        }
      ]
    },
    {
      "cell_type": "code",
      "metadata": {
        "colab": {
          "base_uri": "https://localhost:8080/"
        },
        "id": "bXyUoW7Um-R0",
        "outputId": "116ebf62-1182-48de-fe55-2942827de90b"
      },
      "source": [
        "!pip install -r requirements.txt"
      ],
      "execution_count": 3,
      "outputs": [
        {
          "output_type": "stream",
          "name": "stdout",
          "text": [
            "Collecting selenium\n",
            "  Downloading selenium-4.0.0-py3-none-any.whl (954 kB)\n",
            "\u001b[K     |████████████████████████████████| 954 kB 7.8 MB/s \n",
            "\u001b[?25hCollecting binance\n",
            "  Downloading binance-0.3-py2.py3-none-any.whl (3.8 kB)\n",
            "Collecting gluons\n",
            "  Downloading gluons-0.0.2-py3-none-any.whl (1.6 kB)\n",
            "Requirement already satisfied: graphviz in /usr/local/lib/python3.7/dist-packages (from -r requirements.txt (line 4)) (0.10.1)\n",
            "Requirement already satisfied: scipy in /usr/local/lib/python3.7/dist-packages (from -r requirements.txt (line 5)) (1.4.1)\n",
            "Requirement already satisfied: sklearn in /usr/local/lib/python3.7/dist-packages (from -r requirements.txt (line 6)) (0.0)\n",
            "Requirement already satisfied: tqdm in /usr/local/lib/python3.7/dist-packages (from -r requirements.txt (line 7)) (4.62.3)\n",
            "Collecting urllib3[secure]~=1.26\n",
            "  Downloading urllib3-1.26.7-py2.py3-none-any.whl (138 kB)\n",
            "\u001b[K     |████████████████████████████████| 138 kB 53.2 MB/s \n",
            "\u001b[?25hCollecting trio~=0.17\n",
            "  Downloading trio-0.19.0-py3-none-any.whl (356 kB)\n",
            "\u001b[K     |████████████████████████████████| 356 kB 57.5 MB/s \n",
            "\u001b[?25hCollecting trio-websocket~=0.9\n",
            "  Downloading trio_websocket-0.9.2-py3-none-any.whl (16 kB)\n",
            "Collecting outcome\n",
            "  Downloading outcome-1.1.0-py2.py3-none-any.whl (9.7 kB)\n",
            "Collecting async-generator>=1.9\n",
            "  Downloading async_generator-1.10-py3-none-any.whl (18 kB)\n",
            "Requirement already satisfied: attrs>=19.2.0 in /usr/local/lib/python3.7/dist-packages (from trio~=0.17->selenium->-r requirements.txt (line 1)) (21.2.0)\n",
            "Collecting sniffio\n",
            "  Downloading sniffio-1.2.0-py3-none-any.whl (10 kB)\n",
            "Requirement already satisfied: sortedcontainers in /usr/local/lib/python3.7/dist-packages (from trio~=0.17->selenium->-r requirements.txt (line 1)) (2.4.0)\n",
            "Requirement already satisfied: idna in /usr/local/lib/python3.7/dist-packages (from trio~=0.17->selenium->-r requirements.txt (line 1)) (2.10)\n",
            "Collecting wsproto>=0.14\n",
            "  Downloading wsproto-1.0.0-py3-none-any.whl (24 kB)\n",
            "Collecting pyOpenSSL>=0.14\n",
            "  Downloading pyOpenSSL-21.0.0-py2.py3-none-any.whl (55 kB)\n",
            "\u001b[K     |████████████████████████████████| 55 kB 3.9 MB/s \n",
            "\u001b[?25hCollecting cryptography>=1.3.4\n",
            "  Downloading cryptography-35.0.0-cp36-abi3-manylinux_2_24_x86_64.whl (3.5 MB)\n",
            "\u001b[K     |████████████████████████████████| 3.5 MB 42.5 MB/s \n",
            "\u001b[?25hRequirement already satisfied: certifi in /usr/local/lib/python3.7/dist-packages (from urllib3[secure]~=1.26->selenium->-r requirements.txt (line 1)) (2021.10.8)\n",
            "Requirement already satisfied: cffi>=1.12 in /usr/local/lib/python3.7/dist-packages (from cryptography>=1.3.4->urllib3[secure]~=1.26->selenium->-r requirements.txt (line 1)) (1.15.0)\n",
            "Requirement already satisfied: pycparser in /usr/local/lib/python3.7/dist-packages (from cffi>=1.12->cryptography>=1.3.4->urllib3[secure]~=1.26->selenium->-r requirements.txt (line 1)) (2.21)\n",
            "Requirement already satisfied: six>=1.5.2 in /usr/local/lib/python3.7/dist-packages (from pyOpenSSL>=0.14->urllib3[secure]~=1.26->selenium->-r requirements.txt (line 1)) (1.15.0)\n",
            "Collecting h11<1,>=0.9.0\n",
            "  Downloading h11-0.12.0-py3-none-any.whl (54 kB)\n",
            "\u001b[K     |████████████████████████████████| 54 kB 3.7 MB/s \n",
            "\u001b[?25hRequirement already satisfied: numpy>=1.13.3 in /usr/local/lib/python3.7/dist-packages (from scipy->-r requirements.txt (line 5)) (1.19.5)\n",
            "Requirement already satisfied: scikit-learn in /usr/local/lib/python3.7/dist-packages (from sklearn->-r requirements.txt (line 6)) (0.22.2.post1)\n",
            "Requirement already satisfied: joblib>=0.11 in /usr/local/lib/python3.7/dist-packages (from scikit-learn->sklearn->-r requirements.txt (line 6)) (1.1.0)\n",
            "Installing collected packages: sniffio, outcome, h11, cryptography, async-generator, wsproto, urllib3, trio, pyOpenSSL, trio-websocket, selenium, gluons, binance\n",
            "  Attempting uninstall: urllib3\n",
            "    Found existing installation: urllib3 1.24.3\n",
            "    Uninstalling urllib3-1.24.3:\n",
            "      Successfully uninstalled urllib3-1.24.3\n",
            "\u001b[31mERROR: pip's dependency resolver does not currently take into account all the packages that are installed. This behaviour is the source of the following dependency conflicts.\n",
            "requests 2.23.0 requires urllib3!=1.25.0,!=1.25.1,<1.26,>=1.21.1, but you have urllib3 1.26.7 which is incompatible.\n",
            "datascience 0.10.6 requires folium==0.2.1, but you have folium 0.8.3 which is incompatible.\u001b[0m\n",
            "Successfully installed async-generator-1.10 binance-0.3 cryptography-35.0.0 gluons-0.0.2 h11-0.12.0 outcome-1.1.0 pyOpenSSL-21.0.0 selenium-4.0.0 sniffio-1.2.0 trio-0.19.0 trio-websocket-0.9.2 urllib3-1.26.7 wsproto-1.0.0\n"
          ]
        }
      ]
    },
    {
      "cell_type": "code",
      "metadata": {
        "colab": {
          "base_uri": "https://localhost:8080/"
        },
        "id": "y0BxqBmyTZ0z",
        "outputId": "66c4a81e-5717-44f1-cf64-c6f66cc4d0c1"
      },
      "source": [
        "!apt-get update\n",
        "!apt install chromium-chromedriver"
      ],
      "execution_count": 4,
      "outputs": [
        {
          "output_type": "stream",
          "name": "stdout",
          "text": [
            "Requirement already satisfied: selenium in /usr/local/lib/python3.7/dist-packages (4.0.0)\n",
            "Requirement already satisfied: trio~=0.17 in /usr/local/lib/python3.7/dist-packages (from selenium) (0.19.0)\n",
            "Requirement already satisfied: urllib3[secure]~=1.26 in /usr/local/lib/python3.7/dist-packages (from selenium) (1.26.7)\n",
            "Requirement already satisfied: trio-websocket~=0.9 in /usr/local/lib/python3.7/dist-packages (from selenium) (0.9.2)\n",
            "Requirement already satisfied: attrs>=19.2.0 in /usr/local/lib/python3.7/dist-packages (from trio~=0.17->selenium) (21.2.0)\n",
            "Requirement already satisfied: sniffio in /usr/local/lib/python3.7/dist-packages (from trio~=0.17->selenium) (1.2.0)\n",
            "Requirement already satisfied: async-generator>=1.9 in /usr/local/lib/python3.7/dist-packages (from trio~=0.17->selenium) (1.10)\n",
            "Requirement already satisfied: sortedcontainers in /usr/local/lib/python3.7/dist-packages (from trio~=0.17->selenium) (2.4.0)\n",
            "Requirement already satisfied: idna in /usr/local/lib/python3.7/dist-packages (from trio~=0.17->selenium) (2.10)\n",
            "Requirement already satisfied: outcome in /usr/local/lib/python3.7/dist-packages (from trio~=0.17->selenium) (1.1.0)\n",
            "Requirement already satisfied: wsproto>=0.14 in /usr/local/lib/python3.7/dist-packages (from trio-websocket~=0.9->selenium) (1.0.0)\n",
            "Requirement already satisfied: pyOpenSSL>=0.14 in /usr/local/lib/python3.7/dist-packages (from urllib3[secure]~=1.26->selenium) (21.0.0)\n",
            "Requirement already satisfied: cryptography>=1.3.4 in /usr/local/lib/python3.7/dist-packages (from urllib3[secure]~=1.26->selenium) (35.0.0)\n",
            "Requirement already satisfied: certifi in /usr/local/lib/python3.7/dist-packages (from urllib3[secure]~=1.26->selenium) (2021.10.8)\n",
            "Requirement already satisfied: cffi>=1.12 in /usr/local/lib/python3.7/dist-packages (from cryptography>=1.3.4->urllib3[secure]~=1.26->selenium) (1.15.0)\n",
            "Requirement already satisfied: pycparser in /usr/local/lib/python3.7/dist-packages (from cffi>=1.12->cryptography>=1.3.4->urllib3[secure]~=1.26->selenium) (2.21)\n",
            "Requirement already satisfied: six>=1.5.2 in /usr/local/lib/python3.7/dist-packages (from pyOpenSSL>=0.14->urllib3[secure]~=1.26->selenium) (1.15.0)\n",
            "Requirement already satisfied: h11<1,>=0.9.0 in /usr/local/lib/python3.7/dist-packages (from wsproto>=0.14->trio-websocket~=0.9->selenium) (0.12.0)\n",
            "Ign:1 https://developer.download.nvidia.com/compute/cuda/repos/ubuntu1804/x86_64  InRelease\n",
            "Ign:2 https://developer.download.nvidia.com/compute/machine-learning/repos/ubuntu1804/x86_64  InRelease\n",
            "Get:3 https://developer.download.nvidia.com/compute/cuda/repos/ubuntu1804/x86_64  Release [696 B]\n",
            "Hit:4 https://developer.download.nvidia.com/compute/machine-learning/repos/ubuntu1804/x86_64  Release\n",
            "Get:5 https://cloud.r-project.org/bin/linux/ubuntu bionic-cran40/ InRelease [3,626 B]\n",
            "Get:6 https://developer.download.nvidia.com/compute/cuda/repos/ubuntu1804/x86_64  Release.gpg [836 B]\n",
            "Hit:8 http://archive.ubuntu.com/ubuntu bionic InRelease\n",
            "Get:9 http://ppa.launchpad.net/c2d4u.team/c2d4u4.0+/ubuntu bionic InRelease [15.9 kB]\n",
            "Get:10 http://security.ubuntu.com/ubuntu bionic-security InRelease [88.7 kB]\n",
            "Get:11 http://archive.ubuntu.com/ubuntu bionic-updates InRelease [88.7 kB]\n",
            "Get:12 https://cloud.r-project.org/bin/linux/ubuntu bionic-cran40/ Packages [73.0 kB]\n",
            "Get:13 https://developer.download.nvidia.com/compute/cuda/repos/ubuntu1804/x86_64  Packages [808 kB]\n",
            "Hit:14 http://ppa.launchpad.net/cran/libgit2/ubuntu bionic InRelease\n",
            "Get:15 http://archive.ubuntu.com/ubuntu bionic-backports InRelease [74.6 kB]\n",
            "Hit:16 http://ppa.launchpad.net/deadsnakes/ppa/ubuntu bionic InRelease\n",
            "Hit:17 http://ppa.launchpad.net/graphics-drivers/ppa/ubuntu bionic InRelease\n",
            "Get:18 http://security.ubuntu.com/ubuntu bionic-security/main amd64 Packages [2,430 kB]\n",
            "Get:19 http://ppa.launchpad.net/c2d4u.team/c2d4u4.0+/ubuntu bionic/main Sources [1,812 kB]\n",
            "Get:20 http://archive.ubuntu.com/ubuntu bionic-updates/multiverse amd64 Packages [34.4 kB]\n",
            "Get:21 http://archive.ubuntu.com/ubuntu bionic-updates/universe amd64 Packages [2,219 kB]\n",
            "Get:22 http://security.ubuntu.com/ubuntu bionic-security/multiverse amd64 Packages [26.8 kB]\n",
            "Get:23 http://security.ubuntu.com/ubuntu bionic-security/universe amd64 Packages [1,439 kB]\n",
            "Get:24 http://security.ubuntu.com/ubuntu bionic-security/restricted amd64 Packages [666 kB]\n",
            "Get:25 http://archive.ubuntu.com/ubuntu bionic-updates/main amd64 Packages [2,867 kB]\n",
            "Get:26 http://archive.ubuntu.com/ubuntu bionic-updates/restricted amd64 Packages [699 kB]\n",
            "Get:27 http://ppa.launchpad.net/c2d4u.team/c2d4u4.0+/ubuntu bionic/main amd64 Packages [928 kB]\n",
            "Fetched 14.3 MB in 4s (3,806 kB/s)\n",
            "Reading package lists... Done\n",
            "Reading package lists... Done\n",
            "Building dependency tree       \n",
            "Reading state information... Done\n",
            "The following additional packages will be installed:\n",
            "  chromium-browser chromium-browser-l10n chromium-codecs-ffmpeg-extra\n",
            "Suggested packages:\n",
            "  webaccounts-chromium-extension unity-chromium-extension\n",
            "The following NEW packages will be installed:\n",
            "  chromium-browser chromium-browser-l10n chromium-chromedriver\n",
            "  chromium-codecs-ffmpeg-extra\n",
            "0 upgraded, 4 newly installed, 0 to remove and 61 not upgraded.\n",
            "Need to get 94.0 MB of archives.\n",
            "After this operation, 324 MB of additional disk space will be used.\n",
            "Get:1 http://archive.ubuntu.com/ubuntu bionic-updates/universe amd64 chromium-codecs-ffmpeg-extra amd64 95.0.4638.69-0ubuntu0.18.04.1 [1,135 kB]\n",
            "Get:2 http://archive.ubuntu.com/ubuntu bionic-updates/universe amd64 chromium-browser amd64 95.0.4638.69-0ubuntu0.18.04.1 [83.6 MB]\n",
            "Get:3 http://archive.ubuntu.com/ubuntu bionic-updates/universe amd64 chromium-browser-l10n all 95.0.4638.69-0ubuntu0.18.04.1 [4,249 kB]\n",
            "Get:4 http://archive.ubuntu.com/ubuntu bionic-updates/universe amd64 chromium-chromedriver amd64 95.0.4638.69-0ubuntu0.18.04.1 [4,986 kB]\n",
            "Fetched 94.0 MB in 6s (16.0 MB/s)\n",
            "Selecting previously unselected package chromium-codecs-ffmpeg-extra.\n",
            "(Reading database ... 155219 files and directories currently installed.)\n",
            "Preparing to unpack .../chromium-codecs-ffmpeg-extra_95.0.4638.69-0ubuntu0.18.04.1_amd64.deb ...\n",
            "Unpacking chromium-codecs-ffmpeg-extra (95.0.4638.69-0ubuntu0.18.04.1) ...\n",
            "Selecting previously unselected package chromium-browser.\n",
            "Preparing to unpack .../chromium-browser_95.0.4638.69-0ubuntu0.18.04.1_amd64.deb ...\n",
            "Unpacking chromium-browser (95.0.4638.69-0ubuntu0.18.04.1) ...\n",
            "Selecting previously unselected package chromium-browser-l10n.\n",
            "Preparing to unpack .../chromium-browser-l10n_95.0.4638.69-0ubuntu0.18.04.1_all.deb ...\n",
            "Unpacking chromium-browser-l10n (95.0.4638.69-0ubuntu0.18.04.1) ...\n",
            "Selecting previously unselected package chromium-chromedriver.\n",
            "Preparing to unpack .../chromium-chromedriver_95.0.4638.69-0ubuntu0.18.04.1_amd64.deb ...\n",
            "Unpacking chromium-chromedriver (95.0.4638.69-0ubuntu0.18.04.1) ...\n",
            "Setting up chromium-codecs-ffmpeg-extra (95.0.4638.69-0ubuntu0.18.04.1) ...\n",
            "Setting up chromium-browser (95.0.4638.69-0ubuntu0.18.04.1) ...\n",
            "update-alternatives: using /usr/bin/chromium-browser to provide /usr/bin/x-www-browser (x-www-browser) in auto mode\n",
            "update-alternatives: using /usr/bin/chromium-browser to provide /usr/bin/gnome-www-browser (gnome-www-browser) in auto mode\n",
            "Setting up chromium-chromedriver (95.0.4638.69-0ubuntu0.18.04.1) ...\n",
            "Setting up chromium-browser-l10n (95.0.4638.69-0ubuntu0.18.04.1) ...\n",
            "Processing triggers for man-db (2.8.3-2ubuntu0.1) ...\n",
            "Processing triggers for hicolor-icon-theme (0.17-2) ...\n",
            "Processing triggers for mime-support (3.60ubuntu1) ...\n",
            "Processing triggers for libc-bin (2.27-3ubuntu1.3) ...\n",
            "/sbin/ldconfig.real: /usr/local/lib/python3.7/dist-packages/ideep4py/lib/libmkldnn.so.0 is not a symbolic link\n",
            "\n"
          ]
        }
      ]
    },
    {
      "cell_type": "code",
      "metadata": {
        "id": "vJZgSTzsMYDX"
      },
      "source": [
        "!cp -r fund_price_crawler drive/MyDrive/github/fund_price_crawler"
      ],
      "execution_count": null,
      "outputs": []
    },
    {
      "cell_type": "markdown",
      "metadata": {
        "id": "tM_O3Kgn0BSm"
      },
      "source": [
        "# Test Sync Status "
      ]
    },
    {
      "cell_type": "code",
      "metadata": {
        "id": "0rIqdeD5UflK",
        "colab": {
          "base_uri": "https://localhost:8080/"
        },
        "outputId": "c850a55b-26c1-47b7-cec3-036e1dd249f0"
      },
      "source": [
        "!pwd \n",
        "!python browser2.py -u names"
      ],
      "execution_count": 2,
      "outputs": [
        {
          "output_type": "stream",
          "name": "stdout",
          "text": [
            "/content/drive/My Drive/github/fund_price_crawler\n",
            "browser2.py:47: DeprecationWarning: use options instead of chrome_options\n",
            "  driver = webdriver.Chrome('chromedriver',chrome_options=chrome_options)\n"
          ]
        }
      ]
    },
    {
      "cell_type": "code",
      "metadata": {
        "colab": {
          "base_uri": "https://localhost:8080/"
        },
        "id": "NaGmsQmUdkP_",
        "outputId": "1d4dfb68-171e-4aa4-ec1e-67c7bb7c15df"
      },
      "source": [
        "from browser2 import get_fund_names\n",
        "names = get_fund_names()\n",
        "print('fund count:', len(names))"
      ],
      "execution_count": 7,
      "outputs": [
        {
          "output_type": "stream",
          "name": "stdout",
          "text": [
            "fund count: 4443\n"
          ]
        }
      ]
    },
    {
      "cell_type": "code",
      "metadata": {
        "id": "knDa4uap0mya"
      },
      "source": [
        "from browser2 import get_all_fund_name_n_links\n",
        "fund_url_dict = get_all_fund_name_n_links()"
      ],
      "execution_count": 6,
      "outputs": []
    },
    {
      "cell_type": "code",
      "metadata": {
        "colab": {
          "base_uri": "https://localhost:8080/"
        },
        "id": "76WY4Jfd08-K",
        "outputId": "bac53a69-07a2-486a-ee96-d82263f62bf6"
      },
      "source": [
        "all([n in fund_url_dict.keys() for n in names])"
      ],
      "execution_count": 8,
      "outputs": [
        {
          "output_type": "execute_result",
          "data": {
            "text/plain": [
              "True"
            ]
          },
          "metadata": {},
          "execution_count": 8
        }
      ]
    },
    {
      "cell_type": "code",
      "metadata": {
        "colab": {
          "base_uri": "https://localhost:8080/"
        },
        "id": "nCTNPC-XZX-j",
        "outputId": "2393f2b0-f118-4ce8-87d9-537e3e019b77"
      },
      "source": [
        "!pwd \n",
        "!python browser2.py -u link"
      ],
      "execution_count": 9,
      "outputs": [
        {
          "output_type": "stream",
          "name": "stdout",
          "text": [
            "/content/drive/My Drive/github/fund_price_crawler\n",
            "browser2.py:47: DeprecationWarning: use options instead of chrome_options\n",
            "  driver = webdriver.Chrome('chromedriver',chrome_options=chrome_options)\n"
          ]
        }
      ]
    },
    {
      "cell_type": "markdown",
      "metadata": {
        "id": "jx0jU1fm0F6m"
      },
      "source": [
        "# Run nav download "
      ]
    },
    {
      "cell_type": "code",
      "metadata": {
        "colab": {
          "base_uri": "https://localhost:8080/"
        },
        "id": "MuRCX6WicmDX",
        "outputId": "138d2cd0-78c7-4fda-db8c-5994d66db404"
      },
      "source": [
        "!pwd\n",
        "!python upgrade_nav.py"
      ],
      "execution_count": null,
      "outputs": [
        {
          "output_type": "stream",
          "name": "stdout",
          "text": [
            "/content/drive/My Drive/github/fund_price_crawler\n",
            "number of funds with link: 2443\n",
            "  0% 0/2443 [00:00<?, ?it/s]browser2.py:47: DeprecationWarning: use options instead of chrome_options\n",
            "  driver = webdriver.Chrome('chromedriver',chrome_options=chrome_options)\n",
            "Start Download NAV of 聯博-全球高收益債券基金AA(穩定月配)級別港幣\n",
            "  0% 0/7100 [00:00<?, ?it/s]GET FUND LINKS OF PAGE 1\n",
            "GET FUND LINKS OF PAGE 2\n",
            "START EXTRACT: 1\n",
            "GET FUND LINKS OF PAGE 16\n",
            "GET FUND LINKS OF PAGE 23\n",
            "GET FUND LINKS OF PAGE 27\n",
            "GET FUND LINKS OF PAGE 36\n",
            "FINISH EXTRACT: 1\n",
            "  0% 1/7100 [00:00<41:47,  2.83it/s]START EXTRACT: 2\n",
            "GET FUND LINKS OF PAGE 46\n",
            "FINISH EXTRACT: 2\n",
            "  0% 21/7100 [00:00<02:28, 47.81it/s]START EXTRACT: 3\n",
            "FINISH EXTRACT: 3\n",
            "  1% 41/7100 [00:00<01:44, 67.59it/s]START EXTRACT: 4\n",
            "GET FUND LINKS OF PAGE 62\n",
            "FINISH EXTRACT: 4\n",
            "  1% 61/7100 [00:00<01:29, 78.37it/s]START EXTRACT: 5\n",
            "GET FUND LINKS OF PAGE 66\n",
            "FINISH EXTRACT: 5\n",
            "  1% 81/7100 [00:01<01:14, 94.18it/s]START EXTRACT: 6\n",
            "FINISH EXTRACT: 6\n",
            "  1% 101/7100 [00:01<01:08, 102.69it/s]START EXTRACT: 7\n",
            "FINISH EXTRACT: 7\n",
            "  2% 121/7100 [00:01<01:02, 112.55it/s]START EXTRACT: 8\n",
            "FINISH EXTRACT: 8\n",
            "  2% 141/7100 [00:01<00:58, 119.25it/s]START EXTRACT: 9\n",
            "FINISH EXTRACT: 9\n",
            "  2% 161/7100 [00:01<00:59, 117.54it/s]START EXTRACT: 10\n",
            "GET FUND LINKS OF PAGE 78\n",
            "FINISH EXTRACT: 10\n",
            "  3% 181/7100 [00:01<01:02, 110.69it/s]START EXTRACT: 11\n",
            "FINISH EXTRACT: 11\n",
            "  3% 201/7100 [00:02<00:59, 116.11it/s]START EXTRACT: 12\n",
            "FINISH EXTRACT: 12\n",
            "  3% 221/7100 [00:02<01:05, 104.47it/s]START EXTRACT: 13\n",
            "FINISH EXTRACT: 13\n",
            "  3% 241/7100 [00:02<01:10, 97.81it/s] START EXTRACT: 14\n",
            "FINISH EXTRACT: 14\n",
            "  4% 261/7100 [00:02<01:02, 110.30it/s]START EXTRACT: 15\n",
            "FINISH EXTRACT: 15\n",
            "  4% 281/7100 [00:02<00:56, 119.66it/s]START EXTRACT: 16\n",
            "FINISH EXTRACT: 16\n",
            "  4% 301/7100 [00:02<00:54, 125.52it/s]START EXTRACT: 17\n",
            "FINISH EXTRACT: 17\n",
            "  5% 321/7100 [00:03<00:54, 125.30it/s]START EXTRACT: 18\n",
            "FINISH EXTRACT: 18\n",
            "  5% 341/7100 [00:03<00:51, 130.90it/s]START EXTRACT: 19\n",
            "FINISH EXTRACT: 19\n",
            "  5% 361/7100 [00:03<00:48, 139.32it/s]START EXTRACT: 20\n",
            "FINISH EXTRACT: 20\n",
            "  5% 381/7100 [00:03<00:47, 141.31it/s]START EXTRACT: 21\n",
            "FINISH EXTRACT: 21\n",
            "  6% 401/7100 [00:03<00:47, 141.61it/s]START EXTRACT: 22\n",
            "FINISH EXTRACT: 22\n",
            "  6% 421/7100 [00:03<00:45, 147.79it/s]START EXTRACT: 23\n",
            "FINISH EXTRACT: 23\n",
            "  6% 441/7100 [00:03<00:53, 123.80it/s]START EXTRACT: 24\n",
            "FINISH EXTRACT: 24\n",
            "  6% 461/7100 [00:04<00:53, 125.22it/s]START EXTRACT: 25\n",
            "FINISH EXTRACT: 25\n",
            "  7% 481/7100 [00:04<00:52, 125.97it/s]START EXTRACT: 26\n",
            "FINISH EXTRACT: 26\n",
            "  7% 501/7100 [00:04<00:50, 130.52it/s]START EXTRACT: 27\n",
            "FINISH EXTRACT: 27\n",
            "  7% 521/7100 [00:04<00:50, 131.23it/s]START EXTRACT: 28\n",
            "FINISH EXTRACT: 28\n",
            "  8% 541/7100 [00:04<00:47, 139.32it/s]START EXTRACT: 29\n",
            "FINISH EXTRACT: 29\n",
            "  8% 561/7100 [00:04<00:48, 135.32it/s]START EXTRACT: 30\n",
            "FINISH EXTRACT: 30\n",
            "  8% 581/7100 [00:05<00:48, 135.68it/s]START EXTRACT: 31\n",
            "FINISH EXTRACT: 31\n",
            "  8% 601/7100 [00:05<00:46, 139.85it/s]START EXTRACT: 32\n",
            "FINISH EXTRACT: 32\n",
            "  9% 621/7100 [00:05<00:55, 116.14it/s]START EXTRACT: 33\n",
            "FINISH EXTRACT: 33\n",
            "  9% 641/7100 [00:05<00:52, 123.71it/s]START EXTRACT: 34\n",
            "FINISH EXTRACT: 34\n",
            "  9% 661/7100 [00:05<00:50, 126.87it/s]START EXTRACT: 35\n",
            "FINISH EXTRACT: 35\n",
            " 10% 681/7100 [00:05<00:48, 133.03it/s]START EXTRACT: 36\n",
            "FINISH EXTRACT: 36\n",
            " 10% 701/7100 [00:05<00:47, 135.79it/s]START EXTRACT: 37\n",
            "FINISH EXTRACT: 37\n",
            " 10% 721/7100 [00:06<00:47, 135.16it/s]START EXTRACT: 38\n",
            "FINISH EXTRACT: 38\n",
            " 10% 741/7100 [00:06<00:47, 133.23it/s]START EXTRACT: 39\n",
            "FINISH EXTRACT: 39\n",
            " 11% 761/7100 [00:06<00:47, 134.36it/s]START EXTRACT: 40\n",
            "FINISH EXTRACT: 40\n",
            " 11% 781/7100 [00:06<00:45, 137.73it/s]START EXTRACT: 41\n",
            "FINISH EXTRACT: 41\n",
            " 11% 801/7100 [00:06<00:45, 137.62it/s]START EXTRACT: 42\n",
            "FINISH EXTRACT: 42\n",
            " 12% 821/7100 [00:06<00:52, 120.32it/s]START EXTRACT: 43\n",
            "FINISH EXTRACT: 43\n",
            " 12% 841/7100 [00:07<00:49, 126.21it/s]START EXTRACT: 44\n",
            "FINISH EXTRACT: 44\n",
            " 12% 861/7100 [00:07<00:48, 129.88it/s]START EXTRACT: 45\n",
            "FINISH EXTRACT: 45\n",
            " 12% 881/7100 [00:07<00:45, 135.39it/s]START EXTRACT: 46\n",
            "FINISH EXTRACT: 46\n",
            " 13% 901/7100 [00:07<00:43, 142.91it/s]START EXTRACT: 47\n",
            "FINISH EXTRACT: 47\n",
            " 13% 921/7100 [00:07<00:43, 143.46it/s]START EXTRACT: 48\n",
            "FINISH EXTRACT: 48\n",
            " 13% 941/7100 [00:07<00:47, 130.59it/s]START EXTRACT: 49\n",
            "FINISH EXTRACT: 49\n",
            " 14% 961/7100 [00:07<00:46, 132.57it/s]START EXTRACT: 50\n",
            "FINISH EXTRACT: 50\n",
            " 14% 981/7100 [00:08<00:44, 136.88it/s]START EXTRACT: 51\n",
            "FINISH EXTRACT: 51\n",
            " 14% 1001/7100 [00:08<00:46, 131.18it/s]START EXTRACT: 52\n",
            "FINISH EXTRACT: 52\n",
            " 14% 1021/7100 [00:08<00:50, 120.12it/s]START EXTRACT: 53\n",
            "FINISH EXTRACT: 53\n",
            " 15% 1041/7100 [00:08<00:48, 124.73it/s]START EXTRACT: 54\n",
            "FINISH EXTRACT: 54\n",
            " 15% 1061/7100 [00:08<00:45, 132.28it/s]START EXTRACT: 55\n",
            "FINISH EXTRACT: 55\n",
            " 15% 1081/7100 [00:08<00:43, 138.01it/s]START EXTRACT: 56\n",
            "FINISH EXTRACT: 56\n",
            " 16% 1101/7100 [00:08<00:42, 140.68it/s]START EXTRACT: 57\n",
            "FINISH EXTRACT: 57\n",
            " 16% 1121/7100 [00:09<00:42, 141.44it/s]START EXTRACT: 58\n",
            "FINISH EXTRACT: 58\n",
            " 16% 1141/7100 [00:09<00:46, 127.43it/s]START EXTRACT: 59\n",
            "FINISH EXTRACT: 59\n",
            " 16% 1161/7100 [00:09<00:44, 133.63it/s]START EXTRACT: 60\n",
            "FINISH EXTRACT: 60\n",
            " 17% 1181/7100 [00:09<00:42, 137.91it/s]START EXTRACT: 61\n",
            "FINISH EXTRACT: 61\n",
            " 17% 1201/7100 [00:09<00:44, 133.80it/s]START EXTRACT: 62\n",
            "FINISH EXTRACT: 62\n",
            " 17% 1221/7100 [00:09<00:51, 113.14it/s]START EXTRACT: 63\n",
            "FINISH EXTRACT: 63\n",
            " 17% 1241/7100 [00:10<00:48, 121.06it/s]START EXTRACT: 64\n",
            "FINISH EXTRACT: 64\n",
            " 18% 1261/7100 [00:10<00:47, 121.81it/s]START EXTRACT: 65\n",
            "FINISH EXTRACT: 65\n",
            " 18% 1281/7100 [00:10<00:48, 120.86it/s]START EXTRACT: 66\n",
            "FINISH EXTRACT: 66\n",
            " 18% 1301/7100 [00:10<00:44, 131.40it/s]START EXTRACT: 67\n",
            "FINISH EXTRACT: 67\n",
            " 19% 1321/7100 [00:10<00:43, 133.00it/s]START EXTRACT: 68\n",
            "FINISH EXTRACT: 68\n",
            " 19% 1341/7100 [00:10<00:48, 118.96it/s]START EXTRACT: 69\n",
            "GET FUND LINKS OF PAGE 81\n",
            "FINISH EXTRACT: 69\n",
            " 19% 1361/7100 [00:18<10:53,  8.78it/s] START EXTRACT: 70\n",
            "FINISH EXTRACT: 70\n",
            " 19% 1381/7100 [00:18<08:01, 11.87it/s]START EXTRACT: 71\n",
            "GET FUND LINKS OF PAGE 94\n",
            "GET FUND LINKS OF PAGE 95\n",
            "FINISH EXTRACT: 71\n",
            " 20% 1401/7100 [00:18<06:05, 15.61it/s]START EXTRACT: 72\n",
            "FINISH EXTRACT: 72\n",
            " 20% 1421/7100 [00:18<04:32, 20.81it/s]START EXTRACT: 73\n",
            "GET FUND LINKS OF PAGE 112\n",
            "GET FUND LINKS OF PAGE 113\n",
            "FINISH EXTRACT: 73\n",
            " 20% 1441/7100 [00:19<03:34, 26.42it/s]START EXTRACT: 74\n",
            "GET FUND LINKS OF PAGE 118\n",
            "FINISH EXTRACT: 74\n",
            " 21% 1461/7100 [00:19<02:43, 34.46it/s]START EXTRACT: 75\n",
            "FINISH EXTRACT: 75\n",
            "GET FUND LINKS OF PAGE 134\n",
            "GET FUND LINKS OF PAGE 136\n",
            " 21% 1481/7100 [00:19<02:08, 43.75it/s]START EXTRACT: 76\n",
            "FINISH EXTRACT: 76\n",
            " 21% 1501/7100 [00:19<01:43, 53.87it/s]START EXTRACT: 77\n",
            "FINISH EXTRACT: 77\n",
            " 21% 1521/7100 [00:19<01:25, 65.29it/s]START EXTRACT: 78\n",
            "FINISH EXTRACT: 78\n",
            " 22% 1541/7100 [00:20<01:13, 75.65it/s]START EXTRACT: 79\n",
            "FINISH EXTRACT: 79\n",
            " 22% 1561/7100 [00:20<01:04, 85.97it/s]START EXTRACT: 80\n",
            "FINISH EXTRACT: 80\n",
            " 22% 1581/7100 [00:20<00:59, 93.03it/s]START EXTRACT: 81\n",
            "FINISH EXTRACT: 81\n",
            " 23% 1601/7100 [00:20<01:08, 79.77it/s]START EXTRACT: 82\n",
            "FINISH EXTRACT: 82\n",
            " 23% 1621/7100 [00:20<01:03, 86.56it/s]START EXTRACT: 83\n",
            "GET FUND LINKS OF PAGE 157\n",
            "FINISH EXTRACT: 83\n",
            " 23% 1641/7100 [00:21<00:58, 92.73it/s]START EXTRACT: 84\n",
            "FINISH EXTRACT: 84\n",
            " 23% 1661/7100 [00:21<00:53, 102.17it/s]START EXTRACT: 85\n",
            "GET FUND LINKS OF PAGE 158\n",
            "FINISH EXTRACT: 85\n",
            " 24% 1681/7100 [00:21<00:51, 106.08it/s]START EXTRACT: 86\n",
            "FINISH EXTRACT: 86\n",
            " 24% 1701/7100 [00:21<00:49, 110.08it/s]START EXTRACT: 87\n",
            "FINISH EXTRACT: 87\n",
            " 24% 1721/7100 [00:21<00:44, 121.40it/s]START EXTRACT: 88\n",
            "FINISH EXTRACT: 88\n",
            " 25% 1741/7100 [00:21<00:41, 128.05it/s]START EXTRACT: 89\n",
            "FINISH EXTRACT: 89\n",
            " 25% 1761/7100 [00:21<00:41, 130.05it/s]START EXTRACT: 90\n",
            "FINISH EXTRACT: 90\n",
            " 25% 1781/7100 [00:22<00:39, 135.94it/s]START EXTRACT: 91\n",
            "FINISH EXTRACT: 91\n",
            " 25% 1801/7100 [00:22<00:47, 111.32it/s]START EXTRACT: 92\n",
            "FINISH EXTRACT: 92\n",
            " 26% 1821/7100 [00:22<00:47, 111.17it/s]START EXTRACT: 93\n",
            "FINISH EXTRACT: 93\n",
            " 26% 1841/7100 [00:22<00:47, 111.76it/s]START EXTRACT: 94\n",
            "FINISH EXTRACT: 94\n",
            " 26% 1861/7100 [00:22<00:42, 122.47it/s]START EXTRACT: 95\n",
            "FINISH EXTRACT: 95\n",
            " 26% 1881/7100 [00:23<00:41, 125.16it/s]START EXTRACT: 96\n",
            "FINISH EXTRACT: 96\n",
            " 27% 1901/7100 [00:23<00:40, 128.21it/s]START EXTRACT: 97\n",
            "FINISH EXTRACT: 97\n",
            " 27% 1921/7100 [00:23<00:39, 129.59it/s]START EXTRACT: 98\n",
            "FINISH EXTRACT: 98\n",
            " 27% 1941/7100 [00:23<00:40, 127.84it/s]START EXTRACT: 99\n",
            "FINISH EXTRACT: 99\n",
            " 28% 1961/7100 [00:23<00:39, 128.62it/s]START EXTRACT: 100\n",
            "FINISH EXTRACT: 100\n",
            " 28% 1981/7100 [00:23<00:38, 134.52it/s]START EXTRACT: 101\n",
            "FINISH EXTRACT: 101\n",
            " 28% 2001/7100 [00:24<00:44, 114.92it/s]START EXTRACT: 102\n",
            "FINISH EXTRACT: 102\n",
            " 28% 2021/7100 [00:24<00:41, 123.64it/s]START EXTRACT: 103\n",
            "FINISH EXTRACT: 103\n",
            " 29% 2041/7100 [00:24<00:39, 129.06it/s]START EXTRACT: 104\n",
            "FINISH EXTRACT: 104\n",
            " 29% 2061/7100 [00:24<00:37, 135.54it/s]START EXTRACT: 105\n",
            "FINISH EXTRACT: 105\n",
            " 29% 2081/7100 [00:24<00:38, 131.04it/s]START EXTRACT: 106\n",
            "FINISH EXTRACT: 106\n",
            " 30% 2101/7100 [00:24<00:37, 134.82it/s]START EXTRACT: 107\n",
            "FINISH EXTRACT: 107\n",
            " 30% 2121/7100 [00:24<00:35, 140.43it/s]START EXTRACT: 108\n",
            "FINISH EXTRACT: 108\n",
            " 30% 2141/7100 [00:24<00:35, 139.89it/s]START EXTRACT: 109\n",
            "FINISH EXTRACT: 109\n",
            " 30% 2161/7100 [00:25<00:33, 145.91it/s]START EXTRACT: 110\n",
            "FINISH EXTRACT: 110\n",
            " 31% 2181/7100 [00:25<00:39, 124.34it/s]START EXTRACT: 111\n",
            "FINISH EXTRACT: 111\n",
            " 31% 2201/7100 [00:25<00:39, 125.02it/s]START EXTRACT: 112\n",
            "FINISH EXTRACT: 112\n",
            " 31% 2221/7100 [00:25<00:37, 129.14it/s]START EXTRACT: 113\n",
            "FINISH EXTRACT: 113\n",
            " 32% 2241/7100 [00:25<00:37, 130.23it/s]START EXTRACT: 114\n",
            "FINISH EXTRACT: 114\n",
            " 32% 2261/7100 [00:25<00:35, 137.32it/s]START EXTRACT: 115\n",
            "FINISH EXTRACT: 115\n",
            " 32% 2281/7100 [00:26<00:35, 135.44it/s]START EXTRACT: 116\n",
            "FINISH EXTRACT: 116\n",
            " 32% 2301/7100 [00:26<00:35, 136.78it/s]START EXTRACT: 117\n",
            "FINISH EXTRACT: 117\n",
            " 33% 2321/7100 [00:26<00:34, 140.43it/s]START EXTRACT: 118\n",
            "FINISH EXTRACT: 118\n",
            " 33% 2341/7100 [00:26<00:33, 141.70it/s]START EXTRACT: 119\n",
            "FINISH EXTRACT: 119\n",
            " 33% 2361/7100 [00:26<00:32, 145.24it/s]START EXTRACT: 120\n",
            "FINISH EXTRACT: 120\n",
            " 34% 2381/7100 [00:26<00:39, 118.68it/s]START EXTRACT: 121\n",
            "FINISH EXTRACT: 121\n",
            " 34% 2401/7100 [00:26<00:38, 123.23it/s]START EXTRACT: 122\n",
            "FINISH EXTRACT: 122\n",
            " 34% 2421/7100 [00:27<00:35, 130.36it/s]START EXTRACT: 123\n",
            "FINISH EXTRACT: 123\n",
            " 34% 2441/7100 [00:27<00:33, 139.10it/s]START EXTRACT: 124\n",
            "FINISH EXTRACT: 124\n",
            " 35% 2461/7100 [00:27<00:30, 150.33it/s]START EXTRACT: 125\n",
            "FINISH EXTRACT: 125\n",
            " 35% 2481/7100 [00:27<00:33, 137.07it/s]START EXTRACT: 126\n",
            "FINISH EXTRACT: 126\n",
            " 35% 2501/7100 [00:27<00:36, 127.49it/s]START EXTRACT: 127\n",
            "FINISH EXTRACT: 127\n",
            " 36% 2521/7100 [00:27<00:34, 133.15it/s]START EXTRACT: 128\n",
            "FINISH EXTRACT: 128\n",
            " 36% 2541/7100 [00:27<00:34, 132.21it/s]START EXTRACT: 129\n",
            "FINISH EXTRACT: 129\n",
            " 36% 2561/7100 [00:28<00:34, 130.65it/s]START EXTRACT: 130\n",
            "FINISH EXTRACT: 130\n",
            " 36% 2581/7100 [00:28<00:40, 111.90it/s]START EXTRACT: 131\n",
            "FINISH EXTRACT: 131\n",
            " 37% 2601/7100 [00:28<00:37, 119.53it/s]START EXTRACT: 132\n",
            "FINISH EXTRACT: 132\n",
            " 37% 2621/7100 [00:28<00:35, 126.88it/s]START EXTRACT: 133\n",
            "FINISH EXTRACT: 133\n",
            " 37% 2641/7100 [00:28<00:38, 116.85it/s]START EXTRACT: 134\n",
            "FINISH EXTRACT: 134\n",
            " 37% 2661/7100 [00:29<00:36, 120.44it/s]START EXTRACT: 135\n",
            "FINISH EXTRACT: 135\n",
            " 38% 2681/7100 [00:29<00:40, 110.05it/s]START EXTRACT: 136\n",
            "FINISH EXTRACT: 136\n",
            " 38% 2701/7100 [00:29<00:38, 114.11it/s]START EXTRACT: 137\n",
            "FINISH EXTRACT: 137\n",
            " 38% 2721/7100 [00:29<00:36, 119.13it/s]START EXTRACT: 138\n",
            "FINISH EXTRACT: 138\n",
            " 39% 2741/7100 [00:29<00:34, 124.71it/s]START EXTRACT: 139\n",
            "FINISH EXTRACT: 139\n",
            " 39% 2761/7100 [00:29<00:39, 110.62it/s]START EXTRACT: 140\n",
            "FINISH EXTRACT: 140\n",
            " 39% 2781/7100 [00:30<00:44, 97.97it/s] START EXTRACT: 141\n",
            "FINISH EXTRACT: 141\n",
            " 39% 2801/7100 [00:30<00:40, 107.21it/s]START EXTRACT: 142\n",
            "FINISH EXTRACT: 142\n",
            " 40% 2821/7100 [00:30<00:36, 116.05it/s]START EXTRACT: 143\n",
            "FINISH EXTRACT: 143\n",
            " 40% 2841/7100 [00:30<00:34, 123.15it/s]START EXTRACT: 144\n",
            "FINISH EXTRACT: 144\n",
            " 40% 2861/7100 [00:30<00:34, 124.56it/s]START EXTRACT: 145\n",
            "FINISH EXTRACT: 145\n",
            " 41% 2881/7100 [00:30<00:32, 129.89it/s]START EXTRACT: 146\n",
            "FINISH EXTRACT: 146\n",
            " 41% 2901/7100 [00:31<00:31, 131.78it/s]START EXTRACT: 147\n",
            "FINISH EXTRACT: 147\n",
            " 41% 2921/7100 [00:31<00:30, 135.76it/s]START EXTRACT: 148\n",
            "FINISH EXTRACT: 148\n",
            " 41% 2941/7100 [00:31<00:30, 136.87it/s]START EXTRACT: 149\n",
            "GET FUND LINKS OF PAGE 159\n",
            "FINISH EXTRACT: 149\n",
            " 42% 2961/7100 [00:34<03:46, 18.29it/s] START EXTRACT: 150\n",
            "FINISH EXTRACT: 150\n",
            " 42% 2981/7100 [00:37<05:36, 12.23it/s]START EXTRACT: 151\n",
            "GET FUND LINKS OF PAGE 165\n",
            "FINISH EXTRACT: 151\n",
            " 42% 3001/7100 [00:37<04:09, 16.46it/s]START EXTRACT: 152\n",
            "GET FUND LINKS OF PAGE 171\n",
            "FINISH EXTRACT: 152\n",
            " 43% 3021/7100 [00:37<03:08, 21.70it/s]START EXTRACT: 153\n",
            "GET FUND LINKS OF PAGE 177\n",
            "FINISH EXTRACT: 153\n",
            " 43% 3041/7100 [00:38<02:19, 29.09it/s]START EXTRACT: 154\n",
            "FINISH EXTRACT: 154\n",
            " 43% 3061/7100 [00:38<01:45, 38.25it/s]START EXTRACT: 155\n",
            "FINISH EXTRACT: 155\n",
            " 43% 3081/7100 [00:38<01:20, 50.13it/s]START EXTRACT: 156\n",
            "FINISH EXTRACT: 156\n",
            " 44% 3101/7100 [00:38<01:04, 61.63it/s]START EXTRACT: 157\n",
            "FINISH EXTRACT: 157\n",
            " 44% 3121/7100 [00:38<00:56, 70.83it/s]START EXTRACT: 158\n",
            "FINISH EXTRACT: 158\n",
            " 44% 3141/7100 [00:38<00:49, 80.47it/s]START EXTRACT: 159\n",
            "FINISH EXTRACT: 159\n",
            " 45% 3161/7100 [00:39<00:44, 88.61it/s]START EXTRACT: 160\n",
            "FINISH EXTRACT: 160\n",
            " 45% 3181/7100 [00:39<00:47, 82.30it/s]START EXTRACT: 161\n",
            "FINISH EXTRACT: 161\n",
            " 45% 3201/7100 [00:39<00:42, 90.95it/s]START EXTRACT: 162\n",
            "FINISH EXTRACT: 162\n",
            " 45% 3221/7100 [00:39<00:46, 83.43it/s]START EXTRACT: 163\n",
            "FINISH EXTRACT: 163\n",
            " 46% 3241/7100 [00:40<00:51, 74.79it/s]START EXTRACT: 164\n",
            "FINISH EXTRACT: 164\n",
            " 46% 3261/7100 [00:40<00:50, 75.33it/s]START EXTRACT: 165\n",
            "FINISH EXTRACT: 165\n",
            " 46% 3281/7100 [00:40<00:42, 89.03it/s]START EXTRACT: 166\n",
            "FINISH EXTRACT: 166\n",
            " 46% 3301/7100 [00:40<00:41, 91.86it/s]START EXTRACT: 167\n",
            "FINISH EXTRACT: 167\n",
            " 47% 3321/7100 [00:40<00:39, 94.99it/s]START EXTRACT: 168\n",
            "GET FUND LINKS OF PAGE 282\n",
            "FINISH EXTRACT: 168\n",
            " 47% 3341/7100 [00:41<00:39, 95.62it/s]START EXTRACT: 169\n",
            "FINISH EXTRACT: 169\n",
            " 47% 3361/7100 [00:41<00:37, 98.50it/s]START EXTRACT: 170\n",
            "FINISH EXTRACT: 170\n",
            " 48% 3381/7100 [00:41<00:43, 86.11it/s]START EXTRACT: 171\n",
            "FINISH EXTRACT: 171\n",
            " 48% 3401/7100 [00:41<00:39, 94.42it/s]START EXTRACT: 172\n",
            "FINISH EXTRACT: 172\n",
            " 48% 3421/7100 [00:41<00:34, 105.40it/s]START EXTRACT: 173\n",
            "FINISH EXTRACT: 173\n",
            " 48% 3441/7100 [00:42<00:34, 107.57it/s]START EXTRACT: 174\n",
            "FINISH EXTRACT: 174\n",
            " 49% 3461/7100 [00:42<00:34, 104.65it/s]START EXTRACT: 175\n",
            "GET FUND LINKS OF PAGE 300\n",
            "FINISH EXTRACT: 175\n",
            " 49% 3481/7100 [00:42<00:38, 93.38it/s] START EXTRACT: 176\n",
            "FINISH EXTRACT: 176\n",
            " 49% 3501/7100 [00:42<00:35, 102.17it/s]START EXTRACT: 177\n",
            "FINISH EXTRACT: 177\n",
            " 50% 3521/7100 [00:42<00:34, 104.58it/s]START EXTRACT: 178\n",
            "GET FUND LINKS OF PAGE 302\n",
            "FINISH EXTRACT: 178\n",
            " 50% 3541/7100 [00:43<00:31, 113.58it/s]START EXTRACT: 179\n",
            "FINISH EXTRACT: 179\n",
            " 50% 3561/7100 [00:43<00:30, 116.30it/s]START EXTRACT: 180\n",
            "FINISH EXTRACT: 180\n",
            " 50% 3581/7100 [00:43<00:34, 101.50it/s]START EXTRACT: 181\n",
            "FINISH EXTRACT: 181\n",
            " 51% 3601/7100 [00:43<00:31, 109.92it/s]START EXTRACT: 182\n",
            "FINISH EXTRACT: 182\n",
            " 51% 3621/7100 [00:43<00:30, 114.92it/s]START EXTRACT: 183\n",
            "GET FUND LINKS OF PAGE 309\n",
            "FINISH EXTRACT: 183\n",
            " 51% 3641/7100 [00:43<00:29, 116.91it/s]START EXTRACT: 184\n",
            "FINISH EXTRACT: 184\n",
            " 52% 3661/7100 [00:44<00:27, 123.29it/s]START EXTRACT: 185\n",
            "FINISH EXTRACT: 185\n",
            " 52% 3681/7100 [00:44<00:27, 125.79it/s]START EXTRACT: 186\n",
            "FINISH EXTRACT: 186\n",
            " 52% 3701/7100 [00:44<00:26, 129.17it/s]START EXTRACT: 187\n",
            "FINISH EXTRACT: 187\n",
            " 52% 3721/7100 [00:44<00:25, 135.07it/s]START EXTRACT: 188\n",
            "FINISH EXTRACT: 188\n",
            " 53% 3741/7100 [00:44<00:23, 141.07it/s]START EXTRACT: 189\n",
            "FINISH EXTRACT: 189\n",
            " 53% 3761/7100 [00:44<00:29, 113.96it/s]START EXTRACT: 190\n",
            "FINISH EXTRACT: 190\n",
            " 53% 3781/7100 [00:45<00:27, 121.76it/s]START EXTRACT: 191\n",
            "FINISH EXTRACT: 191\n",
            " 54% 3801/7100 [00:45<00:26, 125.11it/s]START EXTRACT: 192\n",
            "FINISH EXTRACT: 192\n",
            " 54% 3821/7100 [00:45<00:27, 120.86it/s]START EXTRACT: 193\n",
            "FINISH EXTRACT: 193\n",
            " 54% 3841/7100 [00:45<00:27, 119.80it/s]START EXTRACT: 194\n",
            "FINISH EXTRACT: 194\n",
            " 54% 3861/7100 [00:45<00:26, 121.50it/s]START EXTRACT: 195\n",
            "FINISH EXTRACT: 195\n",
            " 55% 3881/7100 [00:45<00:27, 116.87it/s]START EXTRACT: 196\n",
            "FINISH EXTRACT: 196\n",
            " 55% 3901/7100 [00:46<00:26, 120.01it/s]START EXTRACT: 197\n",
            "FINISH EXTRACT: 197\n",
            " 55% 3921/7100 [00:46<00:26, 119.26it/s]START EXTRACT: 198\n",
            "FINISH EXTRACT: 198\n",
            " 56% 3941/7100 [00:46<00:25, 122.10it/s]START EXTRACT: 199\n",
            "GET FUND LINKS OF PAGE 318\n",
            "FINISH EXTRACT: 199\n",
            " 56% 3961/7100 [00:46<00:33, 94.68it/s] START EXTRACT: 200\n",
            "FINISH EXTRACT: 200\n",
            " 56% 3981/7100 [00:46<00:32, 97.36it/s]START EXTRACT: 201\n",
            "FINISH EXTRACT: 201\n",
            " 56% 4001/7100 [00:47<00:29, 104.73it/s]START EXTRACT: 202\n",
            "FINISH EXTRACT: 202\n",
            " 57% 4021/7100 [00:47<00:29, 105.19it/s]START EXTRACT: 203\n",
            "GET FUND LINKS OF PAGE 323\n",
            "FINISH EXTRACT: 203\n",
            " 57% 4041/7100 [00:47<00:30, 99.79it/s] START EXTRACT: 204\n",
            "FINISH EXTRACT: 204\n",
            " 57% 4061/7100 [00:47<00:28, 107.68it/s]START EXTRACT: 205\n",
            "FINISH EXTRACT: 205\n",
            " 57% 4081/7100 [00:47<00:26, 112.29it/s]START EXTRACT: 206\n",
            "FINISH EXTRACT: 206\n",
            " 58% 4101/7100 [00:47<00:25, 115.63it/s]START EXTRACT: 207\n",
            "FINISH EXTRACT: 207\n",
            " 58% 4121/7100 [00:48<00:24, 120.56it/s]START EXTRACT: 208\n",
            "FINISH EXTRACT: 208\n",
            " 58% 4141/7100 [00:48<00:25, 115.42it/s]START EXTRACT: 209\n",
            "FINISH EXTRACT: 209\n",
            " 59% 4161/7100 [00:48<00:32, 90.98it/s] START EXTRACT: 210\n",
            "FINISH EXTRACT: 210\n",
            " 59% 4181/7100 [00:48<00:29, 98.25it/s]START EXTRACT: 211\n",
            "FINISH EXTRACT: 211\n",
            " 59% 4201/7100 [00:48<00:28, 103.40it/s]START EXTRACT: 212\n",
            "FINISH EXTRACT: 212\n",
            " 59% 4221/7100 [00:49<00:26, 107.33it/s]START EXTRACT: 213\n",
            "FINISH EXTRACT: 213\n",
            " 60% 4241/7100 [00:49<00:24, 116.62it/s]START EXTRACT: 214\n",
            "FINISH EXTRACT: 214\n",
            " 60% 4261/7100 [00:49<00:23, 119.58it/s]START EXTRACT: 215\n",
            "FINISH EXTRACT: 215\n",
            " 60% 4281/7100 [00:49<00:22, 126.63it/s]START EXTRACT: 216\n",
            "FINISH EXTRACT: 216\n",
            " 61% 4301/7100 [00:49<00:21, 132.51it/s]START EXTRACT: 217\n",
            "FINISH EXTRACT: 217\n",
            " 61% 4321/7100 [00:49<00:19, 139.96it/s]START EXTRACT: 218\n",
            "FINISH EXTRACT: 218\n",
            " 61% 4341/7100 [00:49<00:19, 143.03it/s]START EXTRACT: 219\n",
            "FINISH EXTRACT: 219\n",
            " 61% 4361/7100 [00:50<00:22, 123.39it/s]START EXTRACT: 220\n",
            "FINISH EXTRACT: 220\n",
            " 62% 4381/7100 [00:50<00:20, 131.68it/s]START EXTRACT: 221\n",
            "FINISH EXTRACT: 221\n",
            " 62% 4401/7100 [00:50<00:21, 127.61it/s]START EXTRACT: 222\n",
            "FINISH EXTRACT: 222\n",
            " 62% 4421/7100 [00:50<00:19, 137.24it/s]START EXTRACT: 223\n",
            "FINISH EXTRACT: 223\n",
            "START EXTRACT: 224\n",
            "FINISH EXTRACT: 224\n",
            " 63% 4461/7100 [00:50<00:17, 147.67it/s]START EXTRACT: 225\n",
            "FINISH EXTRACT: 225\n",
            " 63% 4481/7100 [00:50<00:18, 143.96it/s]START EXTRACT: 226\n",
            "FINISH EXTRACT: 226\n",
            " 63% 4501/7100 [00:51<00:18, 142.06it/s]START EXTRACT: 227\n",
            "FINISH EXTRACT: 227\n",
            " 64% 4521/7100 [00:51<00:18, 140.38it/s]START EXTRACT: 228\n",
            "FINISH EXTRACT: 228\n",
            " 64% 4541/7100 [00:51<00:19, 131.43it/s]START EXTRACT: 229\n",
            "FINISH EXTRACT: 229\n",
            " 64% 4561/7100 [00:51<00:20, 123.88it/s]START EXTRACT: 230\n",
            "GET FUND LINKS OF PAGE 342\n",
            "FINISH EXTRACT: 230\n",
            " 65% 4581/7100 [00:51<00:20, 120.70it/s]START EXTRACT: 231\n",
            "FINISH EXTRACT: 231\n",
            " 65% 4601/7100 [00:51<00:20, 119.90it/s]START EXTRACT: 232\n",
            "FINISH EXTRACT: 232\n",
            " 65% 4621/7100 [00:52<00:20, 121.44it/s]START EXTRACT: 233\n",
            "FINISH EXTRACT: 233\n",
            " 65% 4641/7100 [00:52<00:19, 125.29it/s]START EXTRACT: 234\n",
            "FINISH EXTRACT: 234\n",
            " 66% 4661/7100 [00:52<00:19, 127.57it/s]START EXTRACT: 235\n",
            "FINISH EXTRACT: 235\n",
            " 66% 4681/7100 [00:52<00:18, 128.06it/s]START EXTRACT: 236\n",
            "FINISH EXTRACT: 236\n",
            " 66% 4701/7100 [00:52<00:18, 132.09it/s]START EXTRACT: 237\n",
            "FINISH EXTRACT: 237\n",
            " 66% 4721/7100 [00:52<00:18, 125.86it/s]START EXTRACT: 238\n",
            "FINISH EXTRACT: 238\n",
            " 67% 4741/7100 [00:53<00:18, 124.67it/s]START EXTRACT: 239\n",
            "FINISH EXTRACT: 239\n",
            " 67% 4761/7100 [00:53<00:22, 105.15it/s]START EXTRACT: 240\n",
            "FINISH EXTRACT: 240\n",
            " 67% 4781/7100 [00:53<00:20, 111.61it/s]START EXTRACT: 241\n",
            "FINISH EXTRACT: 241\n",
            " 68% 4801/7100 [00:53<00:19, 120.11it/s]START EXTRACT: 242\n",
            "FINISH EXTRACT: 242\n",
            " 68% 4821/7100 [00:53<00:18, 123.87it/s]START EXTRACT: 243\n",
            "FINISH EXTRACT: 243\n",
            " 68% 4841/7100 [00:53<00:17, 126.14it/s]START EXTRACT: 244\n",
            "FINISH EXTRACT: 244\n",
            " 68% 4861/7100 [00:54<00:17, 130.87it/s]START EXTRACT: 245\n",
            "FINISH EXTRACT: 245\n",
            " 69% 4881/7100 [00:54<00:16, 131.68it/s]START EXTRACT: 246\n",
            "FINISH EXTRACT: 246\n",
            " 69% 4901/7100 [00:54<00:16, 132.26it/s]START EXTRACT: 247\n",
            "FINISH EXTRACT: 247\n",
            " 69% 4921/7100 [00:54<00:17, 125.67it/s]START EXTRACT: 248\n",
            "FINISH EXTRACT: 248\n",
            " 70% 4941/7100 [00:54<00:18, 119.07it/s]START EXTRACT: 249\n",
            "FINISH EXTRACT: 249\n",
            " 70% 4961/7100 [00:54<00:20, 103.19it/s]START EXTRACT: 250\n",
            "FINISH EXTRACT: 250\n",
            "START EXTRACT: 251\n",
            "FINISH EXTRACT: 251\n",
            " 70% 5001/7100 [00:55<00:15, 134.58it/s]START EXTRACT: 252\n",
            "FINISH EXTRACT: 252\n",
            " 71% 5021/7100 [00:55<00:15, 137.93it/s]START EXTRACT: 253\n",
            "FINISH EXTRACT: 253\n",
            " 71% 5041/7100 [00:55<00:14, 139.37it/s]START EXTRACT: 254\n",
            "FINISH EXTRACT: 254\n",
            " 71% 5061/7100 [00:55<00:15, 135.81it/s]START EXTRACT: 255\n",
            "FINISH EXTRACT: 255\n",
            " 72% 5081/7100 [00:55<00:14, 143.08it/s]START EXTRACT: 256\n",
            "FINISH EXTRACT: 256\n",
            " 72% 5101/7100 [00:55<00:15, 130.43it/s]START EXTRACT: 257\n",
            "FINISH EXTRACT: 257\n",
            " 72% 5121/7100 [00:55<00:14, 132.82it/s]START EXTRACT: 258\n",
            "FINISH EXTRACT: 258\n",
            " 72% 5141/7100 [00:56<00:13, 140.76it/s]START EXTRACT: 259\n",
            "FINISH EXTRACT: 259\n",
            " 73% 5161/7100 [00:56<00:15, 121.29it/s]START EXTRACT: 260\n",
            "FINISH EXTRACT: 260\n",
            " 73% 5181/7100 [00:56<00:15, 124.06it/s]START EXTRACT: 261\n",
            "FINISH EXTRACT: 261\n",
            " 73% 5201/7100 [00:56<00:14, 128.92it/s]START EXTRACT: 262\n",
            "FINISH EXTRACT: 262\n",
            " 74% 5221/7100 [00:56<00:14, 129.66it/s]START EXTRACT: 263\n",
            "FINISH EXTRACT: 263\n",
            " 74% 5241/7100 [00:56<00:13, 134.04it/s]START EXTRACT: 264\n",
            "FINISH EXTRACT: 264\n",
            " 74% 5261/7100 [00:57<00:15, 122.14it/s]START EXTRACT: 265\n",
            "FINISH EXTRACT: 265\n",
            " 74% 5281/7100 [00:57<00:16, 113.29it/s]START EXTRACT: 266\n",
            "FINISH EXTRACT: 266\n",
            " 75% 5301/7100 [00:57<00:17, 102.37it/s]START EXTRACT: 267\n",
            "FINISH EXTRACT: 267\n",
            " 75% 5321/7100 [00:57<00:16, 108.43it/s]START EXTRACT: 268\n",
            "FINISH EXTRACT: 268\n",
            " 75% 5341/7100 [00:57<00:15, 115.86it/s]START EXTRACT: 269\n",
            "FINISH EXTRACT: 269\n",
            " 76% 5361/7100 [00:58<00:16, 103.56it/s]START EXTRACT: 270\n",
            "FINISH EXTRACT: 270\n",
            " 76% 5381/7100 [00:58<00:15, 111.63it/s]START EXTRACT: 271\n",
            "FINISH EXTRACT: 271\n",
            " 76% 5401/7100 [00:58<00:14, 120.80it/s]START EXTRACT: 272\n",
            "FINISH EXTRACT: 272\n",
            " 76% 5421/7100 [00:58<00:13, 126.81it/s]START EXTRACT: 273\n",
            "FINISH EXTRACT: 273\n",
            " 77% 5441/7100 [00:58<00:12, 133.05it/s]START EXTRACT: 274\n",
            "FINISH EXTRACT: 274\n",
            " 77% 5461/7100 [00:58<00:12, 133.17it/s]START EXTRACT: 275\n",
            "FINISH EXTRACT: 275\n",
            " 77% 5481/7100 [00:58<00:12, 133.38it/s]START EXTRACT: 276\n",
            "FINISH EXTRACT: 276\n",
            " 77% 5501/7100 [00:59<00:11, 138.66it/s]START EXTRACT: 277\n",
            "FINISH EXTRACT: 277\n",
            " 78% 5521/7100 [00:59<00:11, 138.63it/s]START EXTRACT: 278\n",
            "FINISH EXTRACT: 278\n",
            " 78% 5541/7100 [00:59<00:12, 123.68it/s]START EXTRACT: 279\n",
            "FINISH EXTRACT: 279\n",
            " 78% 5561/7100 [00:59<00:16, 93.77it/s] START EXTRACT: 280\n",
            "FINISH EXTRACT: 280\n",
            " 79% 5581/7100 [00:59<00:15, 100.41it/s]START EXTRACT: 281\n",
            "FINISH EXTRACT: 281\n",
            " 79% 5601/7100 [01:00<00:13, 111.75it/s]START EXTRACT: 282\n",
            "FINISH EXTRACT: 282\n",
            " 79% 5621/7100 [01:00<00:12, 117.99it/s]START EXTRACT: 283\n",
            "FINISH EXTRACT: 283\n",
            " 79% 5641/7100 [01:00<00:11, 124.52it/s]START EXTRACT: 284\n",
            "FINISH EXTRACT: 284\n",
            " 80% 5661/7100 [01:00<00:11, 129.90it/s]START EXTRACT: 285\n",
            "FINISH EXTRACT: 285\n",
            " 80% 5681/7100 [01:00<00:10, 131.81it/s]START EXTRACT: 286\n",
            "FINISH EXTRACT: 286\n",
            " 80% 5701/7100 [01:00<00:10, 131.00it/s]START EXTRACT: 287\n",
            "FINISH EXTRACT: 287\n",
            " 81% 5721/7100 [01:00<00:11, 122.63it/s]START EXTRACT: 288\n",
            "FINISH EXTRACT: 288\n",
            " 81% 5741/7100 [01:01<00:10, 129.42it/s]START EXTRACT: 289\n",
            "FINISH EXTRACT: 289\n",
            " 81% 5761/7100 [01:01<00:11, 111.96it/s]START EXTRACT: 290\n",
            "FINISH EXTRACT: 290\n",
            " 81% 5781/7100 [01:01<00:10, 123.38it/s]START EXTRACT: 291\n",
            "FINISH EXTRACT: 291\n",
            " 82% 5801/7100 [01:01<00:11, 111.09it/s]START EXTRACT: 292\n",
            "FINISH EXTRACT: 292\n",
            " 82% 5821/7100 [01:01<00:10, 116.57it/s]START EXTRACT: 293\n",
            "FINISH EXTRACT: 293\n",
            " 82% 5841/7100 [01:02<00:11, 106.56it/s]START EXTRACT: 294\n",
            "FINISH EXTRACT: 294\n",
            " 83% 5861/7100 [01:02<00:11, 108.98it/s]START EXTRACT: 295\n",
            "FINISH EXTRACT: 295\n",
            " 83% 5881/7100 [01:02<00:11, 109.30it/s]START EXTRACT: 296\n",
            "FINISH EXTRACT: 296\n",
            " 83% 5901/7100 [01:02<00:11, 106.63it/s]START EXTRACT: 297\n",
            "FINISH EXTRACT: 297\n",
            " 83% 5921/7100 [01:02<00:10, 115.17it/s]START EXTRACT: 298\n",
            "FINISH EXTRACT: 298\n",
            "START EXTRACT: 299\n",
            "FINISH EXTRACT: 299\n",
            " 84% 5961/7100 [01:02<00:08, 137.47it/s]START EXTRACT: 300\n",
            "FINISH EXTRACT: 300\n",
            "START EXTRACT: 301\n",
            "FINISH EXTRACT: 301\n",
            " 85% 6001/7100 [01:03<00:06, 173.42it/s]START EXTRACT: 302\n",
            "FINISH EXTRACT: 302\n",
            "START EXTRACT: 303\n",
            "FINISH EXTRACT: 303\n",
            " 85% 6041/7100 [01:03<00:05, 196.46it/s]START EXTRACT: 304\n",
            "FINISH EXTRACT: 304\n",
            "START EXTRACT: 305\n",
            "FINISH EXTRACT: 305\n",
            " 86% 6081/7100 [01:03<00:04, 222.69it/s]START EXTRACT: 306\n",
            "FINISH EXTRACT: 306\n",
            "START EXTRACT: 307\n",
            "FINISH EXTRACT: 307\n",
            " 86% 6121/7100 [01:03<00:04, 236.63it/s]START EXTRACT: 308\n",
            "FINISH EXTRACT: 308\n",
            "START EXTRACT: 309\n",
            "FINISH EXTRACT: 309\n",
            " 87% 6161/7100 [01:03<00:04, 219.54it/s]START EXTRACT: 310\n",
            "FINISH EXTRACT: 310\n",
            "START EXTRACT: 311\n",
            "FINISH EXTRACT: 311\n",
            " 87% 6201/7100 [01:03<00:03, 237.62it/s]START EXTRACT: 312\n",
            "FINISH EXTRACT: 312\n",
            "START EXTRACT: 313\n",
            "FINISH EXTRACT: 313\n",
            " 88% 6241/7100 [01:04<00:03, 249.67it/s]START EXTRACT: 314\n",
            "FINISH EXTRACT: 314\n",
            "START EXTRACT: 315\n",
            "FINISH EXTRACT: 315\n",
            " 88% 6281/7100 [01:04<00:03, 262.01it/s]START EXTRACT: 316\n",
            "FINISH EXTRACT: 316\n",
            "START EXTRACT: 317\n",
            "FINISH EXTRACT: 317\n",
            " 89% 6321/7100 [01:04<00:02, 274.27it/s]START EXTRACT: 318\n",
            "FINISH EXTRACT: 318\n",
            "START EXTRACT: 319\n",
            "FINISH EXTRACT: 319\n",
            " 90% 6361/7100 [01:04<00:03, 242.41it/s]START EXTRACT: 320\n",
            "FINISH EXTRACT: 320\n",
            "START EXTRACT: 321\n",
            "FINISH EXTRACT: 321\n",
            " 90% 6401/7100 [01:04<00:02, 250.60it/s]START EXTRACT: 322\n",
            "FINISH EXTRACT: 322\n",
            "START EXTRACT: 323\n",
            "FINISH EXTRACT: 323\n",
            " 91% 6441/7100 [01:04<00:02, 264.23it/s]START EXTRACT: 324\n",
            "FINISH EXTRACT: 324\n",
            "START EXTRACT: 325\n",
            "FINISH EXTRACT: 325\n",
            " 91% 6481/7100 [01:04<00:02, 274.27it/s]START EXTRACT: 326\n",
            "FINISH EXTRACT: 326\n",
            "START EXTRACT: 327\n",
            "FINISH EXTRACT: 327\n",
            " 92% 6521/7100 [01:05<00:02, 262.99it/s]START EXTRACT: 328\n",
            "FINISH EXTRACT: 328\n",
            " 92% 6548/7100 [01:05<00:02, 250.79it/s]START EXTRACT: 329\n",
            "FINISH EXTRACT: 329\n",
            " 93% 6574/7100 [01:05<00:02, 213.08it/s]START EXTRACT: 330\n",
            "FINISH EXTRACT: 330\n",
            "START EXTRACT: 331\n",
            "FINISH EXTRACT: 331\n",
            " 93% 6601/7100 [01:05<00:02, 206.14it/s]START EXTRACT: 332\n",
            "FINISH EXTRACT: 332\n",
            "START EXTRACT: 333\n",
            "FINISH EXTRACT: 333\n",
            " 94% 6641/7100 [01:05<00:02, 220.69it/s]START EXTRACT: 334\n",
            "FINISH EXTRACT: 334\n",
            "START EXTRACT: 335\n",
            "FINISH EXTRACT: 335\n",
            " 94% 6681/7100 [01:05<00:01, 237.50it/s]START EXTRACT: 336\n",
            "FINISH EXTRACT: 336\n",
            "START EXTRACT: 337\n",
            "FINISH EXTRACT: 337\n",
            " 95% 6721/7100 [01:06<00:01, 252.84it/s]START EXTRACT: 338\n",
            "FINISH EXTRACT: 338\n",
            "START EXTRACT: 339\n",
            "FINISH EXTRACT: 339\n",
            " 95% 6761/7100 [01:06<00:01, 230.67it/s]START EXTRACT: 340\n",
            "FINISH EXTRACT: 340\n",
            "START EXTRACT: 341\n",
            "FINISH EXTRACT: 341\n",
            " 96% 6801/7100 [01:06<00:01, 245.01it/s]START EXTRACT: 342\n",
            "FINISH EXTRACT: 342\n",
            "START EXTRACT: 343\n",
            "FINISH EXTRACT: 343\n",
            "START EXTRACT: 344\n",
            "FINISH EXTRACT: 344\n",
            " 96% 6841/7100 [01:06<00:01, 231.83it/s]START EXTRACT: 345\n",
            "FINISH EXTRACT: 345\n",
            "START EXTRACT: 346\n",
            "FINISH EXTRACT: 346\n",
            " 97% 6873/7100 [01:06<00:00, 235.46it/s]START EXTRACT: 347\n",
            "FINISH EXTRACT: 347\n",
            "START EXTRACT: 348\n",
            "FINISH EXTRACT: 348\n",
            " 97% 6898/7100 [01:06<00:00, 217.61it/s]START EXTRACT: 349\n",
            "FINISH EXTRACT: 349\n",
            "START EXTRACT: 350\n",
            "FINISH EXTRACT: 350\n",
            " 97% 6921/7100 [01:07<00:00, 185.24it/s]START EXTRACT: 351\n",
            "FINISH EXTRACT: 351\n",
            "START EXTRACT: 352\n",
            "FINISH EXTRACT: 352\n",
            " 98% 6953/7100 [01:07<00:00, 199.29it/s]START EXTRACT: 353\n",
            "FINISH EXTRACT: 353\n",
            "START EXTRACT: 354\n",
            "FINISH EXTRACT: 354\n",
            " 98% 6993/7100 [01:07<00:00, 216.44it/s]START EXTRACT: 355\n",
            "FINISH EXTRACT: 355\n",
            "START EXTRACT: 356\n",
            "FINISH EXTRACT: 356\n",
            " 99% 7052/7100 [01:07<00:00, 104.58it/s]\n",
            "Traceback (most recent call last):\n",
            "  File \"browser2.py\", line 434, in <module>\n",
            "    upgrade_nav(name)\n",
            "  File \"browser2.py\", line 400, in upgrade_nav\n",
            "    outdated, original_table = is_outdated(fund_name)\n",
            "  File \"browser2.py\", line 390, in is_outdated\n",
            "    last_date = get_last_date_of_nav_remote(fund_name)\n",
            "  File \"browser2.py\", line 199, in get_last_date_of_nav_remote\n",
            "    fund_url = get_all_fund_name_n_links()[fund_name]\n",
            "KeyError: '聯博-全球高收益債券基金AA(穩定月配)級別港幣'\n",
            "聯博-全球高收益債券基金AA(穩定月配)級別港幣 Completed!\n",
            "  0% 1/2443 [01:14<50:19:43, 74.19s/it]browser2.py:47: DeprecationWarning: use options instead of chrome_options\n",
            "  driver = webdriver.Chrome('chromedriver',chrome_options=chrome_options)\n",
            "Start Download NAV of 晉達環球策略基金 - 歐洲股票基金 A 累積股份 (美元避險)\n",
            "Traceback (most recent call last):\n",
            "  File \"browser2.py\", line 434, in <module>\n",
            "    upgrade_nav(name)\n",
            "  File \"browser2.py\", line 400, in upgrade_nav\n",
            "    outdated, original_table = is_outdated(fund_name)\n",
            "  File \"browser2.py\", line 390, in is_outdated\n",
            "    last_date = get_last_date_of_nav_remote(fund_name)\n",
            "  File \"browser2.py\", line 199, in get_last_date_of_nav_remote\n",
            "    fund_url = get_all_fund_name_n_links()[fund_name]\n",
            "KeyError: '晉達環球策略基金 - 歐洲股票基金 A 累積股份 (美元避險)'\n",
            "晉達環球策略基金 - 歐洲股票基金 A 累積股份 (美元避險) Completed!\n",
            "  0% 2/2443 [01:15<21:18:39, 31.43s/it]browser2.py:47: DeprecationWarning: use options instead of chrome_options\n",
            "  driver = webdriver.Chrome('chromedriver',chrome_options=chrome_options)\n",
            "Start Download NAV of 晉達環球策略基金 - 歐洲股票基金 C 累積股份 (美元避險)\n",
            "Traceback (most recent call last):\n",
            "  File \"browser2.py\", line 434, in <module>\n",
            "    upgrade_nav(name)\n",
            "  File \"browser2.py\", line 400, in upgrade_nav\n",
            "    outdated, original_table = is_outdated(fund_name)\n",
            "  File \"browser2.py\", line 390, in is_outdated\n",
            "    last_date = get_last_date_of_nav_remote(fund_name)\n",
            "  File \"browser2.py\", line 199, in get_last_date_of_nav_remote\n",
            "    fund_url = get_all_fund_name_n_links()[fund_name]\n",
            "KeyError: '晉達環球策略基金 - 歐洲股票基金 C 累積股份 (美元避險)'\n",
            "晉達環球策略基金 - 歐洲股票基金 C 累積股份 (美元避險) Completed!\n",
            "  0% 3/2443 [01:17<12:02:27, 17.77s/it]browser2.py:47: DeprecationWarning: use options instead of chrome_options\n",
            "  driver = webdriver.Chrome('chromedriver',chrome_options=chrome_options)\n",
            "Start Download NAV of 國泰全球多重收益平衡基金-新台幣B(配息)\n",
            "Traceback (most recent call last):\n",
            "  File \"browser2.py\", line 434, in <module>\n",
            "    upgrade_nav(name)\n",
            "  File \"browser2.py\", line 400, in upgrade_nav\n",
            "    outdated, original_table = is_outdated(fund_name)\n",
            "  File \"browser2.py\", line 390, in is_outdated\n",
            "    last_date = get_last_date_of_nav_remote(fund_name)\n",
            "  File \"browser2.py\", line 199, in get_last_date_of_nav_remote\n",
            "    fund_url = get_all_fund_name_n_links()[fund_name]\n",
            "KeyError: '國泰全球多重收益平衡基金-新台幣B(配息)'\n",
            "國泰全球多重收益平衡基金-新台幣B(配息) Completed!\n",
            "  0% 4/2443 [01:18<7:40:36, 11.33s/it] browser2.py:47: DeprecationWarning: use options instead of chrome_options\n",
            "  driver = webdriver.Chrome('chromedriver',chrome_options=chrome_options)\n",
            "Start Download NAV of 國泰全球多重收益平衡基金-美元B(配息型)\n",
            "Traceback (most recent call last):\n",
            "  File \"browser2.py\", line 434, in <module>\n",
            "    upgrade_nav(name)\n",
            "  File \"browser2.py\", line 400, in upgrade_nav\n",
            "    outdated, original_table = is_outdated(fund_name)\n",
            "  File \"browser2.py\", line 390, in is_outdated\n",
            "    last_date = get_last_date_of_nav_remote(fund_name)\n",
            "  File \"browser2.py\", line 199, in get_last_date_of_nav_remote\n",
            "    fund_url = get_all_fund_name_n_links()[fund_name]\n",
            "KeyError: '國泰全球多重收益平衡基金-美元B(配息型)'\n",
            "國泰全球多重收益平衡基金-美元B(配息型) Completed!\n",
            "  0% 5/2443 [01:20<5:16:25,  7.79s/it]browser2.py:47: DeprecationWarning: use options instead of chrome_options\n",
            "  driver = webdriver.Chrome('chromedriver',chrome_options=chrome_options)\n",
            "Start Download NAV of 法巴消費創新股票基金C(美元)\n",
            "Traceback (most recent call last):\n",
            "  File \"browser2.py\", line 434, in <module>\n",
            "    upgrade_nav(name)\n",
            "  File \"browser2.py\", line 400, in upgrade_nav\n",
            "    outdated, original_table = is_outdated(fund_name)\n",
            "  File \"browser2.py\", line 390, in is_outdated\n",
            "    last_date = get_last_date_of_nav_remote(fund_name)\n",
            "  File \"browser2.py\", line 199, in get_last_date_of_nav_remote\n",
            "    fund_url = get_all_fund_name_n_links()[fund_name]\n",
            "KeyError: '法巴消費創新股票基金C(美元)'\n",
            "法巴消費創新股票基金C(美元) Completed!\n",
            "  0% 6/2443 [01:21<3:49:10,  5.64s/it]browser2.py:47: DeprecationWarning: use options instead of chrome_options\n",
            "  driver = webdriver.Chrome('chromedriver',chrome_options=chrome_options)\n",
            "Start Download NAV of 富邦中國貨幣市場基金-人民幣\n",
            "Traceback (most recent call last):\n",
            "  File \"browser2.py\", line 434, in <module>\n",
            "    upgrade_nav(name)\n",
            "  File \"browser2.py\", line 400, in upgrade_nav\n",
            "    outdated, original_table = is_outdated(fund_name)\n",
            "  File \"browser2.py\", line 390, in is_outdated\n",
            "    last_date = get_last_date_of_nav_remote(fund_name)\n",
            "  File \"browser2.py\", line 199, in get_last_date_of_nav_remote\n",
            "    fund_url = get_all_fund_name_n_links()[fund_name]\n",
            "KeyError: '富邦中國貨幣市場基金-人民幣'\n",
            "富邦中國貨幣市場基金-人民幣 Completed!\n",
            "  0% 7/2443 [01:23<2:54:21,  4.29s/it]browser2.py:47: DeprecationWarning: use options instead of chrome_options\n",
            "  driver = webdriver.Chrome('chromedriver',chrome_options=chrome_options)\n",
            "Start Download NAV of 聯博-全球核心股票基金A級別美元\n",
            "Traceback (most recent call last):\n",
            "  File \"browser2.py\", line 434, in <module>\n",
            "    upgrade_nav(name)\n",
            "  File \"browser2.py\", line 402, in upgrade_nav\n",
            "    nav_upgrade_whole_new(fund_name, original_table)\n",
            "  File \"browser2.py\", line 328, in nav_upgrade_whole_new\n",
            "    get_all_fund_name_n_links()[fund_name]\n",
            "KeyError: '聯博-全球核心股票基金A級別美元'\n",
            "聯博-全球核心股票基金A級別美元 Completed!\n",
            "  0% 8/2443 [01:24<2:19:17,  3.43s/it]browser2.py:47: DeprecationWarning: use options instead of chrome_options\n",
            "  driver = webdriver.Chrome('chromedriver',chrome_options=chrome_options)\n",
            "Start Download NAV of 安盛環球基金-泛靈頓歐洲房地產基金A Cap (美元避險)\n",
            "安盛環球基金-泛靈頓歐洲房地產基金A Cap (美元避險)\n",
            " count: 10\t end: 2021/10/28\t last nav: 214.02\n",
            "安盛環球基金-泛靈頓歐洲房地產基金A Cap (美元避險)\n",
            " count: 20\t end: 2021/10/14\t last nav: 212.05\n",
            "安盛環球基金-泛靈頓歐洲房地產基金A Cap (美元避險)\n",
            " count: 30\t end: 2021/09/30\t last nav: 201.28\n",
            "安盛環球基金-泛靈頓歐洲房地產基金A Cap (美元避險)\n",
            " count: 40\t end: 2021/09/16\t last nav: 207.06\n",
            "安盛環球基金-泛靈頓歐洲房地產基金A Cap (美元避險)\n",
            " count: 50\t end: 2021/09/02\t last nav: 214.63\n",
            "安盛環球基金-泛靈頓歐洲房地產基金A Cap (美元避險)\n",
            " count: 60\t end: 2021/08/19\t last nav: 217.46\n",
            "安盛環球基金-泛靈頓歐洲房地產基金A Cap (美元避險)\n",
            " count: 70\t end: 2021/08/05\t last nav: 216.13\n",
            "安盛環球基金-泛靈頓歐洲房地產基金A Cap (美元避險)\n",
            " count: 80\t end: 2021/07/22\t last nav: 209.23\n",
            "安盛環球基金-泛靈頓歐洲房地產基金A Cap (美元避險)\n",
            " count: 90\t end: 2021/07/08\t last nav: 207.76\n",
            "安盛環球基金-泛靈頓歐洲房地產基金A Cap (美元避險)\n",
            " count: 100\t end: 2021/06/24\t last nav: 200.81\n",
            "安盛環球基金-泛靈頓歐洲房地產基金A Cap (美元避險)\n",
            " count: 110\t end: 2021/06/09\t last nav: 201.91\n",
            "安盛環球基金-泛靈頓歐洲房地產基金A Cap (美元避險)\n",
            " count: 120\t end: 2021/05/26\t last nav: 193.79\n",
            "安盛環球基金-泛靈頓歐洲房地產基金A Cap (美元避險)\n",
            " count: 130\t end: 2021/05/10\t last nav: 186.43\n",
            "安盛環球基金-泛靈頓歐洲房地產基金A Cap (美元避險)\n",
            " count: 140\t end: 2021/04/26\t last nav: 187.67\n",
            "安盛環球基金-泛靈頓歐洲房地產基金A Cap (美元避險)\n",
            " count: 150\t end: 2021/04/12\t last nav: 183.38\n",
            "安盛環球基金-泛靈頓歐洲房地產基金A Cap (美元避險)\n",
            " count: 160\t end: 2021/03/25\t last nav: 177.69\n",
            "安盛環球基金-泛靈頓歐洲房地產基金A Cap (美元避險)\n",
            " count: 170\t end: 2021/03/11\t last nav: 175.88\n",
            "安盛環球基金-泛靈頓歐洲房地產基金A Cap (美元避險)\n",
            " count: 180\t end: 2021/02/25\t last nav: 171.96\n",
            "安盛環球基金-泛靈頓歐洲房地產基金A Cap (美元避險)\n",
            " count: 190\t end: 2021/02/11\t last nav: 174.63\n",
            "安盛環球基金-泛靈頓歐洲房地產基金A Cap (美元避險)\n",
            " count: 200\t end: 2021/01/28\t last nav: 175.91\n",
            "安盛環球基金-泛靈頓歐洲房地產基金A Cap (美元避險)\n",
            " count: 210\t end: 2021/01/14\t last nav: 176.91\n",
            "安盛環球基金-泛靈頓歐洲房地產基金A Cap (美元避險)\n",
            " count: 220\t end: 2020/12/30\t last nav: 180.03\n",
            "安盛環球基金-泛靈頓歐洲房地產基金A Cap (美元避險)\n",
            " count: 230\t end: 2020/12/14\t last nav: 174.6\n",
            "安盛環球基金-泛靈頓歐洲房地產基金A Cap (美元避險)\n",
            " count: 240\t end: 2020/11/30\t last nav: 175.76\n",
            "安盛環球基金-泛靈頓歐洲房地產基金A Cap (美元避險)\n",
            " count: 250\t end: 2020/11/16\t last nav: 176.34\n",
            "安盛環球基金-泛靈頓歐洲房地產基金A Cap (美元避險)\n",
            " count: 260\t end: 2020/11/02\t last nav: 163.83\n",
            "安盛環球基金-泛靈頓歐洲房地產基金A Cap (美元避險)\n",
            " count: 270\t end: 2020/10/19\t last nav: 168.19\n",
            "安盛環球基金-泛靈頓歐洲房地產基金A Cap (美元避險)\n",
            " count: 280\t end: 2020/10/05\t last nav: 171.11\n",
            "安盛環球基金-泛靈頓歐洲房地產基金A Cap (美元避險)\n",
            " count: 290\t end: 2020/09/21\t last nav: 165.29\n",
            "安盛環球基金-泛靈頓歐洲房地產基金A Cap (美元避險)\n",
            " count: 300\t end: 2020/09/07\t last nav: 168.19\n",
            "安盛環球基金-泛靈頓歐洲房地產基金A Cap (美元避險)\n",
            " count: 310\t end: 2020/08/24\t last nav: 167.64\n",
            "安盛環球基金-泛靈頓歐洲房地產基金A Cap (美元避險)\n",
            " count: 320\t end: 2020/08/10\t last nav: 169.15\n",
            "安盛環球基金-泛靈頓歐洲房地產基金A Cap (美元避險)\n",
            " count: 330\t end: 2020/07/27\t last nav: 161.57\n",
            "安盛環球基金-泛靈頓歐洲房地產基金A Cap (美元避險)\n",
            " count: 340\t end: 2020/07/13\t last nav: 162.91\n",
            "安盛環球基金-泛靈頓歐洲房地產基金A Cap (美元避險)\n",
            " count: 350\t end: 2020/06/29\t last nav: 160.25\n",
            "安盛環球基金-泛靈頓歐洲房地產基金A Cap (美元避險)\n",
            " count: 360\t end: 2020/06/14\t last nav: 162.94\n",
            "安盛環球基金-泛靈頓歐洲房地產基金A Cap (美元避險)\n",
            " count: 370\t end: 2020/05/28\t last nav: 158.31\n",
            "安盛環球基金-泛靈頓歐洲房地產基金A Cap (美元避險)\n",
            " count: 380\t end: 2020/05/13\t last nav: 146.15\n",
            "安盛環球基金-泛靈頓歐洲房地產基金A Cap (美元避險)\n",
            " count: 390\t end: 2020/04/28\t last nav: 156.67\n",
            "安盛環球基金-泛靈頓歐洲房地產基金A Cap (美元避險)\n",
            " count: 400\t end: 2020/04/14\t last nav: 150.98\n",
            "安盛環球基金-泛靈頓歐洲房地產基金A Cap (美元避險)\n",
            " count: 410\t end: 2020/03/29\t last nav: 146.55\n",
            "安盛環球基金-泛靈頓歐洲房地產基金A Cap (美元避險)\n",
            " count: 420\t end: 2020/03/15\t last nav: 135.45\n",
            "安盛環球基金-泛靈頓歐洲房地產基金A Cap (美元避險)\n",
            " count: 430\t end: 2020/03/01\t last nav: 182.56\n",
            "安盛環球基金-泛靈頓歐洲房地產基金A Cap (美元避險)\n",
            " count: 440\t end: 2020/02/16\t last nav: 205.71\n",
            "安盛環球基金-泛靈頓歐洲房地產基金A Cap (美元避險)\n",
            " count: 450\t end: 2020/02/02\t last nav: 195.53\n",
            "安盛環球基金-泛靈頓歐洲房地產基金A Cap (美元避險)\n",
            " count: 460\t end: 2020/01/19\t last nav: 193.82\n",
            "安盛環球基金-泛靈頓歐洲房地產基金A Cap (美元避險)\n",
            " count: 470\t end: 2020/01/05\t last nav: 191.52\n",
            "安盛環球基金-泛靈頓歐洲房地產基金A Cap (美元避險)\n",
            " count: 480\t end: 2019/12/16\t last nav: 185.93\n",
            "安盛環球基金-泛靈頓歐洲房地產基金A Cap (美元避險)\n",
            " count: 490\t end: 2019/12/02\t last nav: 182.49\n",
            "安盛環球基金-泛靈頓歐洲房地產基金A Cap (美元避險)\n",
            " count: 500\t end: 2019/11/18\t last nav: 183.75\n",
            "安盛環球基金-泛靈頓歐洲房地產基金A Cap (美元避險)\n",
            " count: 510\t end: 2019/11/04\t last nav: 179.45\n",
            "安盛環球基金-泛靈頓歐洲房地產基金A Cap (美元避險)\n",
            " count: 520\t end: 2019/10/20\t last nav: 179.62\n",
            "安盛環球基金-泛靈頓歐洲房地產基金A Cap (美元避險)\n",
            " count: 530\t end: 2019/10/06\t last nav: 172.99\n",
            "安盛環球基金-泛靈頓歐洲房地產基金A Cap (美元避險)\n",
            " count: 540\t end: 2019/09/22\t last nav: 169.81\n",
            "安盛環球基金-泛靈頓歐洲房地產基金A Cap (美元避險)\n",
            " count: 550\t end: 2019/09/08\t last nav: 164.15\n",
            "安盛環球基金-泛靈頓歐洲房地產基金A Cap (美元避險)\n",
            " count: 560\t end: 2019/08/25\t last nav: 163.44\n",
            "安盛環球基金-泛靈頓歐洲房地產基金A Cap (美元避險)\n",
            " count: 570\t end: 2019/08/08\t last nav: 161.26\n",
            "安盛環球基金-泛靈頓歐洲房地產基金A Cap (美元避險)\n",
            " count: 580\t end: 2019/07/25\t last nav: 164.31\n",
            "安盛環球基金-泛靈頓歐洲房地產基金A Cap (美元避險)\n",
            " count: 590\t end: 2019/07/11\t last nav: 164.93\n",
            "安盛環球基金-泛靈頓歐洲房地產基金A Cap (美元避險)\n",
            " count: 600\t end: 2019/06/27\t last nav: 159.18\n",
            "安盛環球基金-泛靈頓歐洲房地產基金A Cap (美元避險)\n",
            " count: 610\t end: 2019/06/13\t last nav: 163.62\n",
            "安盛環球基金-泛靈頓歐洲房地產基金A Cap (美元避險)\n",
            " count: 620\t end: 2019/05/28\t last nav: 163.84\n",
            "安盛環球基金-泛靈頓歐洲房地產基金A Cap (美元避險)\n",
            " count: 630\t end: 2019/05/14\t last nav: 166.96\n",
            "安盛環球基金-泛靈頓歐洲房地產基金A Cap (美元避險)\n",
            " count: 640\t end: 2019/04/28\t last nav: 164.8\n",
            "安盛環球基金-泛靈頓歐洲房地產基金A Cap (美元避險)\n",
            " count: 650\t end: 2019/04/10\t last nav: 166.23\n",
            "安盛環球基金-泛靈頓歐洲房地產基金A Cap (美元避險)\n",
            " count: 660\t end: 2019/03/27\t last nav: 165.43\n",
            "安盛環球基金-泛靈頓歐洲房地產基金A Cap (美元避險)\n",
            " count: 670\t end: 2019/03/13\t last nav: 164.26\n",
            "安盛環球基金-泛靈頓歐洲房地產基金A Cap (美元避險)\n",
            " count: 680\t end: 2019/02/27\t last nav: 158.78\n",
            "安盛環球基金-泛靈頓歐洲房地產基金A Cap (美元避險)\n",
            " count: 690\t end: 2019/02/13\t last nav: 157.58\n",
            "安盛環球基金-泛靈頓歐洲房地產基金A Cap (美元避險)\n",
            " count: 700\t end: 2019/01/30\t last nav: 157.6\n",
            "安盛環球基金-泛靈頓歐洲房地產基金A Cap (美元避險)\n",
            " count: 710\t end: 2019/01/16\t last nav: 149.76\n",
            "安盛環球基金-泛靈頓歐洲房地產基金A Cap (美元避險)\n",
            " count: 720\t end: 2019/01/02\t last nav: 141.22\n",
            "安盛環球基金-泛靈頓歐洲房地產基金A Cap (美元避險)\n",
            " count: 730\t end: 2018/12/13\t last nav: 146.73\n",
            "安盛環球基金-泛靈頓歐洲房地產基金A Cap (美元避險)\n",
            " count: 740\t end: 2018/11/29\t last nav: 148.84\n",
            "安盛環球基金-泛靈頓歐洲房地產基金A Cap (美元避險)\n",
            " count: 750\t end: 2018/11/15\t last nav: 150.71\n",
            "安盛環球基金-泛靈頓歐洲房地產基金A Cap (美元避險)\n",
            " count: 760\t end: 2018/11/01\t last nav: 151.03\n",
            "安盛環球基金-泛靈頓歐洲房地產基金A Cap (美元避險)\n",
            " count: 770\t end: 2018/10/17\t last nav: 151.72\n",
            "安盛環球基金-泛靈頓歐洲房地產基金A Cap (美元避險)\n",
            " count: 780\t end: 2018/10/03\t last nav: 150.86\n",
            "安盛環球基金-泛靈頓歐洲房地產基金A Cap (美元避險)\n",
            " count: 790\t end: 2018/09/19\t last nav: 157.13\n",
            "安盛環球基金-泛靈頓歐洲房地產基金A Cap (美元避險)\n",
            " count: 800\t end: 2018/09/05\t last nav: 157.2\n",
            "安盛環球基金-泛靈頓歐洲房地產基金A Cap (美元避險)\n",
            " count: 810\t end: 2018/08/22\t last nav: 159.26\n",
            "安盛環球基金-泛靈頓歐洲房地產基金A Cap (美元避險)\n",
            " count: 820\t end: 2018/08/07\t last nav: 158.0\n",
            "安盛環球基金-泛靈頓歐洲房地產基金A Cap (美元避險)\n",
            " count: 830\t end: 2018/07/24\t last nav: 157.35\n",
            "安盛環球基金-泛靈頓歐洲房地產基金A Cap (美元避險)\n",
            " count: 840\t end: 2018/07/10\t last nav: 156.38\n",
            "安盛環球基金-泛靈頓歐洲房地產基金A Cap (美元避險)\n",
            " count: 850\t end: 2018/06/26\t last nav: 155.81\n",
            "安盛環球基金-泛靈頓歐洲房地產基金A Cap (美元避險)\n",
            " count: 860\t end: 2018/06/12\t last nav: 156.99\n",
            "安盛環球基金-泛靈頓歐洲房地產基金A Cap (美元避險)\n",
            " count: 870\t end: 2018/05/29\t last nav: 154.91\n",
            "安盛環球基金-泛靈頓歐洲房地產基金A Cap (美元避險)\n",
            " count: 880\t end: 2018/05/14\t last nav: 155.13\n",
            "安盛環球基金-泛靈頓歐洲房地產基金A Cap (美元避險)\n",
            " count: 890\t end: 2018/04/26\t last nav: 153.39\n",
            "安盛環球基金-泛靈頓歐洲房地產基金A Cap (美元避險)\n",
            " count: 900\t end: 2018/04/12\t last nav: 150.31\n",
            "安盛環球基金-泛靈頓歐洲房地產基金A Cap (美元避險)\n",
            " count: 910\t end: 2018/03/27\t last nav: 146.73\n",
            "安盛環球基金-泛靈頓歐洲房地產基金A Cap (美元避險)\n",
            " count: 920\t end: 2018/03/13\t last nav: 146.29\n",
            "安盛環球基金-泛靈頓歐洲房地產基金A Cap (美元避險)\n",
            " count: 930\t end: 2018/02/27\t last nav: 142.67\n",
            "安盛環球基金-泛靈頓歐洲房地產基金A Cap (美元避險)\n",
            " count: 940\t end: 2018/02/13\t last nav: 142.32\n",
            "安盛環球基金-泛靈頓歐洲房地產基金A Cap (美元避險)\n",
            " count: 950\t end: 2018/01/30\t last nav: 151.12\n",
            "安盛環球基金-泛靈頓歐洲房地產基金A Cap (美元避險)\n",
            " count: 960\t end: 2018/01/16\t last nav: 151.96\n",
            "安盛環球基金-泛靈頓歐洲房地產基金A Cap (美元避險)\n",
            " count: 970\t end: 2018/01/02\t last nav: 151.63\n",
            "安盛環球基金-泛靈頓歐洲房地產基金A Cap (美元避險)\n",
            " count: 980\t end: 2017/12/14\t last nav: 147.92\n",
            "安盛環球基金-泛靈頓歐洲房地產基金A Cap (美元避險)\n",
            " count: 990\t end: 2017/11/30\t last nav: 143.98\n",
            "安盛環球基金-泛靈頓歐洲房地產基金A Cap (美元避險)\n",
            " count: 1000\t end: 2017/11/16\t last nav: 144.1\n",
            "安盛環球基金-泛靈頓歐洲房地產基金A Cap (美元避險)\n",
            " count: 1010\t end: 2017/11/02\t last nav: 143.67\n",
            "安盛環球基金-泛靈頓歐洲房地產基金A Cap (美元避險)\n",
            " count: 1020\t end: 2017/10/18\t last nav: 142.9\n",
            "安盛環球基金-泛靈頓歐洲房地產基金A Cap (美元避險)\n",
            " count: 1030\t end: 2017/10/04\t last nav: 141.31\n",
            "安盛環球基金-泛靈頓歐洲房地產基金A Cap (美元避險)\n",
            " count: 1040\t end: 2017/09/20\t last nav: 139.89\n",
            "安盛環球基金-泛靈頓歐洲房地產基金A Cap (美元避險)\n",
            " count: 1050\t end: 2017/09/06\t last nav: 140.1\n",
            "安盛環球基金-泛靈頓歐洲房地產基金A Cap (美元避險)\n",
            " count: 1060\t end: 2017/08/23\t last nav: 138.75\n",
            "安盛環球基金-泛靈頓歐洲房地產基金A Cap (美元避險)\n",
            " count: 1070\t end: 2017/08/08\t last nav: 140.95\n",
            "安盛環球基金-泛靈頓歐洲房地產基金A Cap (美元避險)\n",
            " count: 1080\t end: 2017/07/25\t last nav: 140.34\n",
            "安盛環球基金-泛靈頓歐洲房地產基金A Cap (美元避險)\n",
            " count: 1090\t end: 2017/07/11\t last nav: 138.02\n",
            "安盛環球基金-泛靈頓歐洲房地產基金A Cap (美元避險)\n",
            " count: 1100\t end: 2017/06/27\t last nav: 138.7\n",
            "安盛環球基金-泛靈頓歐洲房地產基金A Cap (美元避險)\n",
            " count: 1110\t end: 2017/06/12\t last nav: 142.41\n",
            "安盛環球基金-泛靈頓歐洲房地產基金A Cap (美元避險)\n",
            " count: 1120\t end: 2017/05/28\t last nav: 140.74\n",
            "安盛環球基金-泛靈頓歐洲房地產基金A Cap (美元避險)\n",
            " count: 1130\t end: 2017/05/11\t last nav: 142.86\n",
            "安盛環球基金-泛靈頓歐洲房地產基金A Cap (美元避險)\n",
            " count: 1140\t end: 2017/04/26\t last nav: 139.48\n",
            "安盛環球基金-泛靈頓歐洲房地產基金A Cap (美元避險)\n",
            " count: 1150\t end: 2017/04/10\t last nav: 137.07\n",
            "安盛環球基金-泛靈頓歐洲房地產基金A Cap (美元避險)\n",
            " count: 1160\t end: 2017/03/27\t last nav: 130.14\n",
            "安盛環球基金-泛靈頓歐洲房地產基金A Cap (美元避險)\n",
            " count: 1170\t end: 2017/03/13\t last nav: 129.02\n",
            "安盛環球基金-泛靈頓歐洲房地產基金A Cap (美元避險)\n",
            " count: 1180\t end: 2017/02/27\t last nav: 132.78\n",
            "安盛環球基金-泛靈頓歐洲房地產基金A Cap (美元避險)\n",
            " count: 1190\t end: 2017/02/13\t last nav: 132.19\n",
            "安盛環球基金-泛靈頓歐洲房地產基金A Cap (美元避險)\n",
            " count: 1200\t end: 2017/01/30\t last nav: 126.56\n",
            "安盛環球基金-泛靈頓歐洲房地產基金A Cap (美元避險)\n",
            " count: 1210\t end: 2017/01/16\t last nav: 127.51\n",
            "安盛環球基金-泛靈頓歐洲房地產基金A Cap (美元避險)\n",
            " count: 1220\t end: 2017/01/02\t last nav: 128.89\n",
            "安盛環球基金-泛靈頓歐洲房地產基金A Cap (美元避險)\n",
            " count: 1230\t end: 2016/12/18\t last nav: 127.44\n",
            "安盛環球基金-泛靈頓歐洲房地產基金A Cap (美元避險)\n",
            " count: 1240\t end: 2016/12/04\t last nav: 121.26\n",
            "安盛環球基金-泛靈頓歐洲房地產基金A Cap (美元避險)\n",
            " count: 1250\t end: 2016/11/20\t last nav: 121.99\n",
            "安盛環球基金-泛靈頓歐洲房地產基金A Cap (美元避險)\n",
            " count: 1260\t end: 2016/11/06\t last nav: 124.38\n",
            "安盛環球基金-泛靈頓歐洲房地產基金A Cap (美元避險)\n",
            " count: 1270\t end: 2016/10/20\t last nav: 129.53\n",
            "安盛環球基金-泛靈頓歐洲房地產基金A Cap (美元避險)\n",
            " count: 1280\t end: 2016/10/06\t last nav: 126.86\n",
            "安盛環球基金-泛靈頓歐洲房地產基金A Cap (美元避險)\n",
            " count: 1290\t end: 2016/09/22\t last nav: 136.36\n",
            "安盛環球基金-泛靈頓歐洲房地產基金A Cap (美元避險)\n",
            " count: 1300\t end: 2016/09/08\t last nav: 136.89\n",
            "安盛環球基金-泛靈頓歐洲房地產基金A Cap (美元避險)\n",
            " count: 1310\t end: 2016/08/25\t last nav: 138.04\n",
            "安盛環球基金-泛靈頓歐洲房地產基金A Cap (美元避險)\n",
            " count: 1320\t end: 2016/08/10\t last nav: 138.42\n",
            "安盛環球基金-泛靈頓歐洲房地產基金A Cap (美元避險)\n",
            " count: 1330\t end: 2016/07/27\t last nav: 137.67\n",
            "安盛環球基金-泛靈頓歐洲房地產基金A Cap (美元避險)\n",
            " count: 1340\t end: 2016/07/13\t last nav: 133.26\n",
            "安盛環球基金-泛靈頓歐洲房地產基金A Cap (美元避險)\n",
            " count: 1350\t end: 2016/06/29\t last nav: 131.68\n",
            "安盛環球基金-泛靈頓歐洲房地產基金A Cap (美元避險)\n",
            " count: 1360\t end: 2016/06/14\t last nav: 133.07\n",
            "安盛環球基金-泛靈頓歐洲房地產基金A Cap (美元避險)\n",
            " count: 1370\t end: 2016/05/31\t last nav: 138.22\n",
            "安盛環球基金-泛靈頓歐洲房地產基金A Cap (美元避險)\n",
            " count: 1380\t end: 2016/05/17\t last nav: 136.46\n",
            "安盛環球基金-泛靈頓歐洲房地產基金A Cap (美元避險)\n",
            " count: 1390\t end: 2016/05/01\t last nav: 135.02\n",
            "安盛環球基金-泛靈頓歐洲房地產基金A Cap (美元避險)\n",
            " count: 1400\t end: 2016/04/17\t last nav: 133.49\n",
            "安盛環球基金-泛靈頓歐洲房地產基金A Cap (美元避險)\n",
            " count: 1410\t end: 2016/04/03\t last nav: 133.29\n",
            "安盛環球基金-泛靈頓歐洲房地產基金A Cap (美元避險)\n",
            " count: 1420\t end: 2016/03/16\t last nav: 134.23\n",
            "安盛環球基金-泛靈頓歐洲房地產基金A Cap (美元避險)\n",
            " count: 1430\t end: 2016/03/02\t last nav: 128.36\n",
            "安盛環球基金-泛靈頓歐洲房地產基金A Cap (美元避險)\n",
            " count: 1440\t end: 2016/02/17\t last nav: 126.23\n",
            "安盛環球基金-泛靈頓歐洲房地產基金A Cap (美元避險)\n",
            " count: 1450\t end: 2016/02/03\t last nav: 128.39\n",
            "安盛環球基金-泛靈頓歐洲房地產基金A Cap (美元避險)\n",
            " count: 1460\t end: 2016/01/20\t last nav: 124.32\n"
          ]
        }
      ]
    },
    {
      "cell_type": "markdown",
      "metadata": {
        "id": "SeNC9PyS0L4u"
      },
      "source": [
        "# Git commit and push "
      ]
    },
    {
      "cell_type": "code",
      "metadata": {
        "id": "syeL9he3_Uk_"
      },
      "source": [
        "from google.colab import drive\n",
        "drive.mount('/content/drive')"
      ],
      "execution_count": null,
      "outputs": []
    },
    {
      "cell_type": "code",
      "metadata": {
        "id": "uGJxMMJSGrae"
      },
      "source": [
        "!git config --global user.email 'jeffrey82221@gmail.com'\n",
        "!git config --global user.name \"jeffrey82221\""
      ],
      "execution_count": 10,
      "outputs": []
    },
    {
      "cell_type": "code",
      "metadata": {
        "colab": {
          "base_uri": "https://localhost:8080/"
        },
        "id": "th7a7nBwLmGI",
        "outputId": "af3f2406-7324-43d0-9650-16fae4d04d3e"
      },
      "source": [
        "!git status"
      ],
      "execution_count": 4,
      "outputs": [
        {
          "output_type": "stream",
          "name": "stdout",
          "text": [
            "On branch develop/colab\n",
            "Changes not staged for commit:\n",
            "  (use \"git add <file>...\" to update what will be committed)\n",
            "  (use \"git checkout -- <file>...\" to discard changes in working directory)\n",
            "\n",
            "\t\u001b[31mmodified:   \"nav/\\346\\221\\251\\346\\240\\271\\345\\237\\272\\351\\207\\221-JPM \\347\\276\\216\\345\\234\\213\\350\\244\\207\\345\\220\\210\\346\\224\\266\\347\\233\\212\\345\\202\\265\\345\\210\\270(\\347\\276\\216\\345\\205\\203)-A\\350\\202\\241(\\345\\210\\206\\346\\264\\276).csv\"\u001b[m\n",
            "\t\u001b[31mmodified:   upgrade_nav.py\u001b[m\n",
            "\n",
            "Untracked files:\n",
            "  (use \"git add <file>...\" to include in what will be committed)\n",
            "\n",
            "\t\u001b[31m\"nav/\\345\\256\\211\\350\\201\\257\\345\\205\\250\\347\\220\\203\\350\\263\\207\\346\\272\\220\\345\\237\\272\\351\\207\\221-A\\351\\205\\215\\346\\201\\257\\351\\241\\236\\350\\202\\241(\\346\\255\\220\\345\\205\\203).csv\"\u001b[m\n",
            "\t\u001b[31m\"nav/\\345\\256\\211\\350\\201\\257\\346\\255\\220\\346\\264\\262\\345\\202\\265\\345\\210\\270\\345\\237\\272\\351\\207\\221-A\\351\\205\\215\\346\\201\\257\\351\\241\\236\\350\\202\\241(\\346\\255\\220\\345\\205\\203).csv\"\u001b[m\n",
            "\t\u001b[31m\"nav/\\345\\256\\211\\350\\201\\257\\346\\255\\220\\346\\264\\262\\345\\237\\272\\351\\207\\221-A\\351\\205\\215\\346\\201\\257\\351\\241\\236\\350\\202\\241(\\346\\255\\220\\345\\205\\203).csv\"\u001b[m\n",
            "\t\u001b[31m\"nav/\\345\\256\\211\\350\\201\\257\\346\\255\\220\\346\\264\\262\\346\\210\\220\\351\\225\\267\\345\\237\\272\\351\\207\\221-A\\351\\205\\215\\346\\201\\257\\351\\241\\236\\350\\202\\241(\\346\\255\\220\\345\\205\\203).csv\"\u001b[m\n",
            "\t\u001b[31m\"nav/\\345\\257\\214\\350\\230\\255\\345\\205\\213\\346\\236\\227\\345\\235\\246\\344\\274\\257\\351\\240\\223\\345\\205\\250\\347\\220\\203\\346\\212\\225\\350\\263\\207\\347\\263\\273\\345\\210\\227-\\344\\270\\255\\345\\260\\217\\345\\236\\213\\344\\274\\201\\346\\245\\255\\345\\237\\272\\351\\207\\221\\347\\276\\216\\345\\205\\203A (acc)\\350\\202\\241.csv\"\u001b[m\n",
            "\t\u001b[31m\"nav/\\345\\257\\214\\350\\230\\255\\345\\205\\213\\346\\236\\227\\345\\235\\246\\344\\274\\257\\351\\240\\223\\345\\205\\250\\347\\220\\203\\346\\212\\225\\350\\263\\207\\347\\263\\273\\345\\210\\227-\\344\\272\\222\\345\\210\\251\\347\\276\\216\\345\\234\\213\\345\\203\\271\\345\\200\\274\\345\\237\\272\\351\\207\\221\\347\\276\\216\\345\\205\\203A (acc)\\350\\202\\241.csv\"\u001b[m\n",
            "\t\u001b[31m\"nav/\\345\\257\\214\\350\\230\\255\\345\\205\\213\\346\\236\\227\\345\\235\\246\\344\\274\\257\\351\\240\\223\\345\\205\\250\\347\\220\\203\\346\\212\\225\\350\\263\\207\\347\\263\\273\\345\\210\\227-\\344\\272\\236\\346\\264\\262\\346\\210\\220\\351\\225\\267\\345\\237\\272\\351\\207\\221\\347\\276\\216\\345\\205\\203A (acc)\\350\\202\\241.csv\"\u001b[m\n",
            "\t\u001b[31m\"nav/\\345\\257\\214\\350\\230\\255\\345\\205\\213\\346\\236\\227\\345\\235\\246\\344\\274\\257\\351\\240\\223\\345\\205\\250\\347\\220\\203\\346\\212\\225\\350\\263\\207\\347\\263\\273\\345\\210\\227-\\345\\205\\250\\347\\220\\203\\345\\237\\272\\351\\207\\221\\347\\276\\216\\345\\205\\203 A (acc)\\350\\202\\241.csv\"\u001b[m\n",
            "\t\u001b[31m\"nav/\\345\\257\\214\\350\\230\\255\\345\\205\\213\\346\\236\\227\\345\\235\\246\\344\\274\\257\\351\\240\\223\\345\\205\\250\\347\\220\\203\\346\\212\\225\\350\\263\\207\\347\\263\\273\\345\\210\\227-\\345\\205\\250\\347\\220\\203\\345\\271\\263\\350\\241\\241\\345\\237\\272\\351\\207\\221\\347\\276\\216\\345\\205\\203A (Qdis)\\350\\202\\241.csv\"\u001b[m\n",
            "\t\u001b[31m\"nav/\\345\\257\\214\\350\\230\\255\\345\\205\\213\\346\\236\\227\\345\\235\\246\\344\\274\\257\\351\\240\\223\\345\\205\\250\\347\\220\\203\\346\\212\\225\\350\\263\\207\\347\\263\\273\\345\\210\\227-\\345\\205\\250\\347\\220\\203\\346\\260\\243\\345\\200\\231\\350\\256\\212\\351\\201\\267\\345\\237\\272\\351\\207\\221\\346\\255\\220\\345\\205\\203A (Ydis)\\350\\202\\241.csv\"\u001b[m\n",
            "\t\u001b[31m\"nav/\\345\\257\\214\\350\\230\\255\\345\\205\\213\\346\\236\\227\\345\\235\\246\\344\\274\\257\\351\\240\\223\\345\\205\\250\\347\\220\\203\\346\\212\\225\\350\\263\\207\\347\\263\\273\\345\\210\\227-\\345\\244\\247\\344\\270\\255\\350\\217\\257\\345\\237\\272\\351\\207\\221\\347\\276\\216\\345\\205\\203A (acc)\\350\\202\\241.csv\"\u001b[m\n",
            "\t\u001b[31m\"nav/\\345\\257\\214\\350\\230\\255\\345\\205\\213\\346\\236\\227\\345\\235\\246\\344\\274\\257\\351\\240\\223\\345\\205\\250\\347\\220\\203\\346\\212\\225\\350\\263\\207\\347\\263\\273\\345\\210\\227-\\346\\213\\211\\344\\270\\201\\347\\276\\216\\346\\264\\262\\345\\237\\272\\351\\207\\221\\347\\276\\216\\345\\205\\203A (acc)\\350\\202\\241.csv\"\u001b[m\n",
            "\t\u001b[31m\"nav/\\345\\257\\214\\350\\230\\255\\345\\205\\213\\346\\236\\227\\345\\235\\246\\344\\274\\257\\351\\240\\223\\345\\205\\250\\347\\220\\203\\346\\212\\225\\350\\263\\207\\347\\263\\273\\345\\210\\227-\\346\\226\\260\\350\\210\\210\\345\\234\\213\\345\\256\\266\\345\\237\\272\\351\\207\\221\\347\\276\\216\\345\\205\\203A (acc)\\350\\202\\241.csv\"\u001b[m\n",
            "\t\u001b[31m\"nav/\\347\\221\\236\\351\\212\\200 (\\347\\233\\247\\346\\243\\256\\345\\240\\241) \\345\\244\\247\\344\\270\\255\\350\\217\\257\\350\\202\\241\\347\\245\\250\\345\\237\\272\\351\\207\\221 (\\347\\276\\216\\345\\205\\203).csv\"\u001b[m\n",
            "\t\u001b[31m\"nav/\\350\\262\\235\\350\\220\\212\\345\\276\\267\\344\\270\\226\\347\\225\\214\\347\\244\\246\\346\\245\\255\\345\\237\\272\\351\\207\\221 A2.csv\"\u001b[m\n",
            "\t\u001b[31m\"nav/\\350\\262\\235\\350\\220\\212\\345\\276\\267\\344\\270\\226\\347\\225\\214\\351\\273\\203\\351\\207\\221\\345\\237\\272\\351\\207\\221 A2.csv\"\u001b[m\n",
            "\t\u001b[31m\"nav/\\350\\262\\235\\350\\220\\212\\345\\276\\267\\346\\213\\211\\344\\270\\201\\347\\276\\216\\346\\264\\262\\345\\237\\272\\351\\207\\221 A2.csv\"\u001b[m\n",
            "\t\u001b[31m\"nav/\\350\\262\\235\\350\\220\\212\\345\\276\\267\\346\\231\\272\\346\\205\\247\\346\\225\\270\\346\\223\\232\\347\\222\\260\\347\\220\\203\\345\\260\\217\\345\\236\\213\\344\\274\\201\\346\\245\\255\\345\\237\\272\\351\\207\\221 A2 \\347\\276\\216\\345\\205\\203.csv\"\u001b[m\n",
            "\t\u001b[31m\"nav/\\350\\262\\235\\350\\220\\212\\345\\276\\267\\347\\222\\260\\347\\220\\203\\346\\224\\277\\345\\272\\234\\345\\202\\265\\345\\210\\270\\345\\237\\272\\351\\207\\221 A2 \\347\\276\\216\\345\\205\\203.csv\"\u001b[m\n",
            "\t\u001b[31m\"nav/\\350\\262\\235\\350\\220\\212\\345\\276\\267\\347\\222\\260\\347\\220\\203\\350\\263\\207\\347\\224\\242\\351\\205\\215\\347\\275\\256\\345\\237\\272\\351\\207\\221 A2.csv\"\u001b[m\n",
            "\n",
            "no changes added to commit (use \"git add\" and/or \"git commit -a\")\n"
          ]
        }
      ]
    },
    {
      "cell_type": "code",
      "metadata": {
        "id": "w6crN9vTpQl5"
      },
      "source": [
        "!git add ."
      ],
      "execution_count": 7,
      "outputs": []
    },
    {
      "cell_type": "code",
      "metadata": {
        "colab": {
          "base_uri": "https://localhost:8080/"
        },
        "id": "iuaKq9PJBT1b",
        "outputId": "61a84123-2677-4d4b-cfab-d540d8de36dc"
      },
      "source": [
        "!git commit -m '[add] more nav csv'"
      ],
      "execution_count": 11,
      "outputs": [
        {
          "output_type": "stream",
          "name": "stdout",
          "text": [
            "[develop/colab f6e948c] [add] more nav csv\n",
            " 7 files changed, 33381 insertions(+)\n",
            " create mode 100644 \"nav/\\347\\221\\236\\351\\212\\200 (\\347\\233\\247\\346\\243\\256\\345\\240\\241) \\344\\270\\255\\345\\234\\213\\347\\262\\276\\351\\201\\270\\350\\202\\241\\347\\245\\250\\345\\237\\272\\351\\207\\221 (\\347\\276\\216\\345\\205\\203).csv\"\n",
            " create mode 100644 \"nav/\\347\\221\\236\\351\\212\\200 (\\347\\233\\247\\346\\243\\256\\345\\240\\241) \\346\\227\\245\\346\\234\\254\\350\\202\\241\\347\\245\\250\\345\\237\\272\\351\\207\\221 (\\346\\227\\245\\345\\271\\243).csv\"\n",
            " create mode 100644 \"nav/\\347\\221\\236\\351\\212\\200 (\\347\\233\\247\\346\\243\\256\\345\\240\\241) \\346\\260\\270\\347\\272\\214\\345\\201\\245\\345\\272\\267\\350\\275\\211\\345\\236\\213\\345\\237\\272\\351\\207\\221 (\\347\\276\\216\\345\\205\\203).csv\"\n",
            " create mode 100644 \"nav/\\347\\221\\236\\351\\212\\200 (\\347\\233\\247\\346\\243\\256\\345\\240\\241) \\347\\276\\216\\345\\234\\213\\345\\260\\217\\345\\236\\213\\350\\202\\241\\347\\245\\250\\345\\237\\272\\351\\207\\221 (\\347\\276\\216\\345\\205\\203).csv\"\n",
            " create mode 100644 \"nav/\\350\\262\\235\\350\\220\\212\\345\\276\\267\\346\\255\\220\\345\\205\\203\\345\\270\\202\\345\\240\\264\\345\\237\\272\\351\\207\\221 A2.csv\"\n",
            " create mode 100644 \"nav/\\350\\262\\235\\350\\220\\212\\345\\276\\267\\346\\255\\220\\346\\264\\262\\345\\237\\272\\351\\207\\221 A2.csv\"\n",
            " create mode 100644 \"nav/\\350\\262\\235\\350\\220\\212\\345\\276\\267\\347\\276\\216\\345\\205\\203\\345\\204\\252\\350\\263\\252\\345\\202\\265\\345\\210\\270\\345\\237\\272\\351\\207\\221 A2 \\347\\276\\216\\345\\205\\203.csv\"\n"
          ]
        }
      ]
    },
    {
      "cell_type": "code",
      "metadata": {
        "colab": {
          "base_uri": "https://localhost:8080/"
        },
        "id": "5w1J7pJesDFg",
        "outputId": "44d70cf7-fcb5-4703-b37d-44ba50b5d022"
      },
      "source": [
        "!git push origin develop/colab"
      ],
      "execution_count": 35,
      "outputs": [
        {
          "output_type": "stream",
          "name": "stdout",
          "text": [
            "Counting objects: 1   \rCounting objects: 10, done.\n",
            "Delta compression using up to 2 threads.\n",
            "Compressing objects:  10% (1/10)   \rCompressing objects:  20% (2/10)   \rCompressing objects:  30% (3/10)   \rCompressing objects:  40% (4/10)   \rCompressing objects:  50% (5/10)   \rCompressing objects:  60% (6/10)   \rCompressing objects:  70% (7/10)   \rCompressing objects:  80% (8/10)   \rCompressing objects:  90% (9/10)   \rCompressing objects: 100% (10/10)   \rCompressing objects: 100% (10/10), done.\n",
            "Writing objects:  10% (1/10)   \rWriting objects:  20% (2/10)   \rWriting objects:  30% (3/10)   \rWriting objects:  40% (4/10)   \rWriting objects:  50% (5/10)   \rWriting objects:  60% (6/10)   \rWriting objects:  70% (7/10)   \rWriting objects:  80% (8/10)   \rWriting objects:  90% (9/10)   \rWriting objects: 100% (10/10)   \rWriting objects: 100% (10/10), 159.57 KiB | 2.49 MiB/s, done.\n",
            "Total 10 (delta 2), reused 0 (delta 0)\n",
            "remote: Resolving deltas: 100% (2/2), completed with 2 local objects.\u001b[K\n",
            "To github.com:jeffrey82221/fund_price_crawler.git\n",
            "   105e337..f6e948c  develop/colab -> develop/colab\n"
          ]
        }
      ]
    },
    {
      "cell_type": "code",
      "metadata": {
        "colab": {
          "base_uri": "https://localhost:8080/"
        },
        "id": "suR2975ASEWi",
        "outputId": "f9a49077-fe83-4979-ca5c-2183b44e5608"
      },
      "source": [
        "!git status"
      ],
      "execution_count": 8,
      "outputs": [
        {
          "output_type": "stream",
          "name": "stdout",
          "text": [
            "On branch develop/colab\n",
            "Changes to be committed:\n",
            "  (use \"git reset HEAD <file>...\" to unstage)\n",
            "\n",
            "\t\u001b[32mnew file:   \"nav/\\347\\221\\236\\351\\212\\200 (\\347\\233\\247\\346\\243\\256\\345\\240\\241) \\344\\270\\255\\345\\234\\213\\347\\262\\276\\351\\201\\270\\350\\202\\241\\347\\245\\250\\345\\237\\272\\351\\207\\221 (\\347\\276\\216\\345\\205\\203).csv\"\u001b[m\n",
            "\t\u001b[32mnew file:   \"nav/\\347\\221\\236\\351\\212\\200 (\\347\\233\\247\\346\\243\\256\\345\\240\\241) \\346\\227\\245\\346\\234\\254\\350\\202\\241\\347\\245\\250\\345\\237\\272\\351\\207\\221 (\\346\\227\\245\\345\\271\\243).csv\"\u001b[m\n",
            "\t\u001b[32mnew file:   \"nav/\\347\\221\\236\\351\\212\\200 (\\347\\233\\247\\346\\243\\256\\345\\240\\241) \\346\\260\\270\\347\\272\\214\\345\\201\\245\\345\\272\\267\\350\\275\\211\\345\\236\\213\\345\\237\\272\\351\\207\\221 (\\347\\276\\216\\345\\205\\203).csv\"\u001b[m\n",
            "\t\u001b[32mnew file:   \"nav/\\347\\221\\236\\351\\212\\200 (\\347\\233\\247\\346\\243\\256\\345\\240\\241) \\347\\276\\216\\345\\234\\213\\345\\260\\217\\345\\236\\213\\350\\202\\241\\347\\245\\250\\345\\237\\272\\351\\207\\221 (\\347\\276\\216\\345\\205\\203).csv\"\u001b[m\n",
            "\t\u001b[32mnew file:   \"nav/\\350\\262\\235\\350\\220\\212\\345\\276\\267\\346\\255\\220\\345\\205\\203\\345\\270\\202\\345\\240\\264\\345\\237\\272\\351\\207\\221 A2.csv\"\u001b[m\n",
            "\t\u001b[32mnew file:   \"nav/\\350\\262\\235\\350\\220\\212\\345\\276\\267\\346\\255\\220\\346\\264\\262\\345\\237\\272\\351\\207\\221 A2.csv\"\u001b[m\n",
            "\t\u001b[32mnew file:   \"nav/\\350\\262\\235\\350\\220\\212\\345\\276\\267\\347\\276\\216\\345\\205\\203\\345\\204\\252\\350\\263\\252\\345\\202\\265\\345\\210\\270\\345\\237\\272\\351\\207\\221 A2 \\347\\276\\216\\345\\205\\203.csv\"\u001b[m\n",
            "\n"
          ]
        }
      ]
    },
    {
      "cell_type": "markdown",
      "metadata": {
        "id": "p4LPXq7LHfd2"
      },
      "source": [
        "# Build connnection of github"
      ]
    },
    {
      "cell_type": "code",
      "metadata": {
        "id": "lnuqRYNLIv0m"
      },
      "source": [
        "import os\n",
        "os.chdir('/content/')"
      ],
      "execution_count": 71,
      "outputs": []
    },
    {
      "cell_type": "code",
      "metadata": {
        "colab": {
          "base_uri": "https://localhost:8080/"
        },
        "id": "8YZqnrQUI5eE",
        "outputId": "5c100038-1120-4166-95b6-176bd18d81e2"
      },
      "source": [
        "!ls "
      ],
      "execution_count": 46,
      "outputs": [
        {
          "output_type": "stream",
          "name": "stdout",
          "text": [
            "cloudflared\t config  id_rsa_colab\t   sample_data\n",
            "cloudflared.log  drive\t id_rsa_colab.pub\n"
          ]
        }
      ]
    },
    {
      "cell_type": "code",
      "metadata": {
        "colab": {
          "base_uri": "https://localhost:8080/"
        },
        "id": "JjqRcYTItjOu",
        "outputId": "e9c5ec42-8398-4d79-946a-2bf98c671a0c"
      },
      "source": [
        "!ssh-keygen -t rsa -b 4096 -C 'jeffrey82221@gmail.com'\n"
      ],
      "execution_count": 29,
      "outputs": [
        {
          "output_type": "stream",
          "name": "stdout",
          "text": [
            "Generating public/private rsa key pair.\n",
            "Enter file in which to save the key (/root/.ssh/id_rsa): id_colab\n",
            "id_colab already exists.\n",
            "Overwrite (y/n)? y\n",
            "Enter passphrase (empty for no passphrase): \n",
            "Enter same passphrase again: \n",
            "Your identification has been saved in id_colab.\n",
            "Your public key has been saved in id_colab.pub.\n",
            "The key fingerprint is:\n",
            "SHA256:zgzdNdotvkWujUn6VkYBDEWR9MqsDntZqPV+Ocl9sOU jeffrey82221@gmail.com\n",
            "The key's randomart image is:\n",
            "+---[RSA 4096]----+\n",
            "|          .**+   |\n",
            "|            o..  |\n",
            "|            o .. |\n",
            "|       . . * +.  |\n",
            "|      . S o.*.o  |\n",
            "|       =  oo.++ .|\n",
            "|        =o.+o+oO |\n",
            "|        .+oooBB E|\n",
            "|        ..o+B....|\n",
            "+----[SHA256]-----+\n"
          ]
        }
      ]
    },
    {
      "cell_type": "code",
      "metadata": {
        "id": "1oE-kfSOKfBL"
      },
      "source": [
        "!cp id_colab /root/.ssh/id_colab"
      ],
      "execution_count": 30,
      "outputs": []
    },
    {
      "cell_type": "code",
      "metadata": {
        "colab": {
          "base_uri": "https://localhost:8080/"
        },
        "id": "HayXZhfCKsJr",
        "outputId": "44b43177-c76d-483b-8eab-7d331fcc8d15"
      },
      "source": [
        "!ls /root/.ssh"
      ],
      "execution_count": 37,
      "outputs": [
        {
          "output_type": "stream",
          "name": "stdout",
          "text": [
            "config\tid_colab  known_hosts\n"
          ]
        }
      ]
    },
    {
      "cell_type": "code",
      "metadata": {
        "colab": {
          "base_uri": "https://localhost:8080/"
        },
        "id": "7BV-EpUGK1u6",
        "outputId": "aa11d533-6954-47ab-ca29-4f772379990b"
      },
      "source": [
        "!eval `ssh-agent -s`\n",
        "!ssh-add /root/.ssh/id_colab "
      ],
      "execution_count": 49,
      "outputs": [
        {
          "output_type": "stream",
          "name": "stdout",
          "text": [
            "Agent pid 5898\n",
            "Could not open a connection to your authentication agent.\n"
          ]
        }
      ]
    },
    {
      "cell_type": "code",
      "metadata": {
        "colab": {
          "base_uri": "https://localhost:8080/"
        },
        "id": "QoQKARUnq3ZS",
        "outputId": "0bad3eb9-2072-4c39-921d-24a7b2b63dbd"
      },
      "source": [
        "!bash"
      ],
      "execution_count": 31,
      "outputs": [
        {
          "output_type": "stream",
          "name": "stdout",
          "text": [
            "bash: cannot set terminal process group (6134): Inappropriate ioctl for device\n",
            "bash: no job control in this shell\n",
            "\u001b[01;34m/content\u001b[00m# eval `ssh-agent -s`\n",
            "Agent pid 6414\n",
            "\u001b[01;34m/content\u001b[00m# ssh-add /root/.ssh/id_colab\n",
            "Identity added: /root/.ssh/id_colab (/root/.ssh/id_colab)\n",
            "\u001b[01;34m/content\u001b[00m# exit\n",
            "exit\n"
          ]
        }
      ]
    },
    {
      "cell_type": "code",
      "metadata": {
        "colab": {
          "base_uri": "https://localhost:8080/"
        },
        "id": "Kd-4P7PGORJg",
        "outputId": "965f630f-0d02-405f-bd5f-49cabecda3c0"
      },
      "source": [
        "!touch config\n",
        "\"\"\"\n",
        "Host github.com\n",
        "  HostName github.com\n",
        "  User git\n",
        " IdentityFile ~/.ssh/id_colab\t\n",
        "\"\"\""
      ],
      "execution_count": 32,
      "outputs": [
        {
          "output_type": "stream",
          "name": "stdout",
          "text": [
            "Could not open a connection to your authentication agent.\n"
          ]
        }
      ]
    },
    {
      "cell_type": "code",
      "metadata": {
        "id": "Eyyr84AWXEqG"
      },
      "source": [
        "!chmod 600 /root/.ssh/id_colab"
      ],
      "execution_count": 32,
      "outputs": []
    },
    {
      "cell_type": "code",
      "metadata": {
        "colab": {
          "base_uri": "https://localhost:8080/"
        },
        "id": "du-N0dVVXJHA",
        "outputId": "b276e43a-c2c2-4977-8421-8bd5063c0a52"
      },
      "source": [
        "!ssh-keyscan github.com >> /root/.ssh/known_hosts "
      ],
      "execution_count": 20,
      "outputs": [
        {
          "output_type": "stream",
          "name": "stdout",
          "text": [
            "# github.com:22 SSH-2.0-babeld-2aa5ef1f\n",
            "# github.com:22 SSH-2.0-babeld-2aa5ef1f\n",
            "# github.com:22 SSH-2.0-babeld-2aa5ef1f\n"
          ]
        }
      ]
    },
    {
      "cell_type": "code",
      "metadata": {
        "colab": {
          "base_uri": "https://localhost:8080/"
        },
        "id": "0pyb6Z9uMIr0",
        "outputId": "8d646296-2af7-4e96-e340-2c7c41bcee2d"
      },
      "source": [
        "!ssh -vT git@github.com"
      ],
      "execution_count": 33,
      "outputs": [
        {
          "output_type": "stream",
          "name": "stdout",
          "text": [
            "OpenSSH_7.6p1 Ubuntu-4ubuntu0.5, OpenSSL 1.0.2n  7 Dec 2017\r\n",
            "debug1: Reading configuration data /root/.ssh/config\r\n",
            "debug1: /root/.ssh/config line 1: Applying options for github.com\r\n",
            "debug1: Reading configuration data /etc/ssh/ssh_config\r\n",
            "debug1: /etc/ssh/ssh_config line 19: Applying options for *\r\n",
            "debug1: Connecting to github.com [140.82.112.4] port 22.\r\n",
            "debug1: Connection established.\r\n",
            "debug1: permanently_set_uid: 0/0\r\n",
            "debug1: key_load_public: No such file or directory\r\n",
            "debug1: identity file /root/.ssh/id_colab type -1\r\n",
            "debug1: key_load_public: No such file or directory\r\n",
            "debug1: identity file /root/.ssh/id_colab-cert type -1\r\n",
            "debug1: Local version string SSH-2.0-OpenSSH_7.6p1 Ubuntu-4ubuntu0.5\r\n",
            "debug1: Remote protocol version 2.0, remote software version babeld-2aa5ef1f\r\n",
            "debug1: no match: babeld-2aa5ef1f\r\n",
            "debug1: Authenticating to github.com:22 as 'git'\r\n",
            "debug1: SSH2_MSG_KEXINIT sent\r\n",
            "debug1: SSH2_MSG_KEXINIT received\r\n",
            "debug1: kex: algorithm: curve25519-sha256\r\n",
            "debug1: kex: host key algorithm: rsa-sha2-512\r\n",
            "debug1: kex: server->client cipher: chacha20-poly1305@openssh.com MAC: <implicit> compression: none\r\n",
            "debug1: kex: client->server cipher: chacha20-poly1305@openssh.com MAC: <implicit> compression: none\r\n",
            "debug1: expecting SSH2_MSG_KEX_ECDH_REPLY\n",
            "debug1: Server host key: ssh-rsa SHA256:nThbg6kXUpJWGl7E1IGOCspRomTxdCARLviKw6E5SY8\n",
            "debug1: Host 'github.com' is known and matches the RSA host key.\n",
            "debug1: Found key in /root/.ssh/known_hosts:1\n",
            "debug1: rekey after 134217728 blocks\n",
            "debug1: SSH2_MSG_NEWKEYS sent\n",
            "debug1: expecting SSH2_MSG_NEWKEYS\n",
            "debug1: SSH2_MSG_NEWKEYS received\n",
            "debug1: rekey after 134217728 blocks\n",
            "debug1: SSH2_MSG_EXT_INFO received\n",
            "debug1: kex_input_ext_info: server-sig-algs=<ssh-ed25519-cert-v01@openssh.com,ecdsa-sha2-nistp521-cert-v01@openssh.com,ecdsa-sha2-nistp384-cert-v01@openssh.com,ecdsa-sha2-nistp256-cert-v01@openssh.com,sk-ssh-ed25519-cert-v01@openssh.com,sk-ecdsa-sha2-nistp256-cert-v01@openssh.com,rsa-sha2-512-cert-v01@openssh.com,rsa-sha2-256-cert-v01@openssh.com,ssh-rsa-cert-v01@openssh.com,ssh-dss-cert-v01@openssh.com,sk-ssh-ed25519@openssh.com,sk-ecdsa-sha2-nistp256@openssh.com,ssh-ed25519,ecdsa-sha2-nistp521,ecdsa-sha2-nistp384,ecdsa-sha2-nistp256,rsa-sha2-512,rsa-sha2-256,ssh-rsa,ssh-dss>\n",
            "debug1: SSH2_MSG_SERVICE_ACCEPT received\n",
            "debug1: Authentications that can continue: publickey\n",
            "debug1: Next authentication method: publickey\n",
            "debug1: Trying private key: /root/.ssh/id_colab\n",
            "debug1: Authentication succeeded (publickey).\n",
            "Authenticated to github.com ([140.82.112.4]:22).\n",
            "debug1: channel 0: new [client-session]\n",
            "debug1: Entering interactive session.\n",
            "debug1: pledge: network\n",
            "debug1: client_input_global_request: rtype hostkeys-00@openssh.com want_reply 0\n",
            "debug1: Sending environment.\n",
            "debug1: Sending env LANG = en_US.UTF-8\n",
            "debug1: client_input_channel_req: channel 0 rtype exit-status reply 0\n",
            "Hi jeffrey82221! You've successfully authenticated, but GitHub does not provide shell access.\n",
            "debug1: channel 0: free: client-session, nchannels 1\n",
            "Transferred: sent 2816, received 2788 bytes, in 0.1 seconds\n",
            "Bytes per second: sent 23044.2, received 22815.1\n",
            "debug1: Exit status 1\n"
          ]
        }
      ]
    },
    {
      "cell_type": "code",
      "metadata": {
        "colab": {
          "base_uri": "https://localhost:8080/"
        },
        "id": "hm0YEwUPVzYk",
        "outputId": "a763fddd-bbf8-4bea-9d68-a5ec90602497"
      },
      "source": [
        "!ls /root/.ssh"
      ],
      "execution_count": 12,
      "outputs": [
        {
          "output_type": "stream",
          "name": "stdout",
          "text": [
            "config\tid_colab  id_colab.pub\tknown_hosts\n"
          ]
        }
      ]
    }
  ]
}