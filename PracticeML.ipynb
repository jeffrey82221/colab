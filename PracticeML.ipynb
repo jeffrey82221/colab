{
  "nbformat": 4,
  "nbformat_minor": 0,
  "metadata": {
    "colab": {
      "name": "PracticeML",
      "provenance": [],
      "collapsed_sections": [],
      "authorship_tag": "ABX9TyN0ifh2xHushpXjLWHX3v6R",
      "include_colab_link": true
    },
    "kernelspec": {
      "name": "python3",
      "display_name": "Python 3"
    },
    "language_info": {
      "name": "python"
    }
  },
  "cells": [
    {
      "cell_type": "markdown",
      "metadata": {
        "id": "view-in-github",
        "colab_type": "text"
      },
      "source": [
        "<a href=\"https://colab.research.google.com/github/jeffrey82221/colab/blob/main/PracticeML.ipynb\" target=\"_parent\"><img src=\"https://colab.research.google.com/assets/colab-badge.svg\" alt=\"Open In Colab\"/></a>"
      ]
    },
    {
      "cell_type": "markdown",
      "source": [
        "# 練習題 I: GridSearch練習\n",
        "\n",
        "說明：\n",
        "\n",
        "在08_M8課程中，我們使用LightGBM 來示範 GridSearch(網格搜索法)，對Book_Purchased進行建模。本練習題中，希望各位學員能以Xgboost來進行葡萄牙銀行的電話營銷成功與否的預測，並以GridSearch對Xgboost中的參數進行最優化的自動搜尋。\n",
        "\n",
        "\n",
        "\n",
        "Ref: https://towardsdatascience.com/building-a-logistic-regression-in-python-step-by-step-becd4d56c9c8\n",
        "\n"
      ],
      "metadata": {
        "id": "8V0IR5Amk1jM"
      }
    },
    {
      "cell_type": "markdown",
      "source": [
        "# 資料下載：\n",
        "\n",
        "---\n",
        "\n",
        "https://raw.githubusercontent.com/madmashup/targeted-marketing-predictive-engine/master/banking.csv\n",
        "\n",
        "\n",
        "該數據集來自 UCI 機器學習存儲庫，是關於葡萄牙銀行的電話營銷活動。分類目標是預測客戶是否會訂閱定期存款（變量 y：0/1）。"
      ],
      "metadata": {
        "id": "rTiNtytpllvE"
      }
    },
    {
      "cell_type": "code",
      "source": [
        "!wget https://raw.githubusercontent.com/madmashup/targeted-marketing-predictive-engine/master/banking.csv"
      ],
      "metadata": {
        "colab": {
          "base_uri": "https://localhost:8080/"
        },
        "id": "Z9Eg1arFljtk",
        "outputId": "7703c7a8-32c0-40e5-a7d3-96b7baa61cb0"
      },
      "execution_count": 1,
      "outputs": [
        {
          "output_type": "stream",
          "name": "stdout",
          "text": [
            "--2022-01-20 08:43:27--  https://raw.githubusercontent.com/madmashup/targeted-marketing-predictive-engine/master/banking.csv\n",
            "Resolving raw.githubusercontent.com (raw.githubusercontent.com)... 185.199.108.133, 185.199.109.133, 185.199.110.133, ...\n",
            "Connecting to raw.githubusercontent.com (raw.githubusercontent.com)|185.199.108.133|:443... connected.\n",
            "HTTP request sent, awaiting response... 200 OK\n",
            "Length: 4882918 (4.7M) [text/plain]\n",
            "Saving to: ‘banking.csv’\n",
            "\n",
            "\rbanking.csv           0%[                    ]       0  --.-KB/s               \rbanking.csv         100%[===================>]   4.66M  --.-KB/s    in 0.02s   \n",
            "\n",
            "2022-01-20 08:43:27 (255 MB/s) - ‘banking.csv’ saved [4882918/4882918]\n",
            "\n"
          ]
        }
      ]
    },
    {
      "cell_type": "markdown",
      "source": [
        "# 資料檢視\n",
        "\n",
        "---\n",
        "\n",
        "1. age (numeric)\n",
        "2. job : type of job (categorical: “admin”, “blue-collar”, “entrepreneur”, “housemaid”, “management”, “retired”, “self-employed”, “services”, “student”, “technician”, “unemployed”, “unknown”)\n",
        "3. marital : marital status (categorical: “divorced”, “married”, “single”, “unknown”)\n",
        "4. education (categorical: “basic.4y”, “basic.6y”, “basic.9y”, “high.school”, “illiterate”, “professional.course”, “university.degree”, “unknown”)\n",
        "5. default: has credit in default? (categorical: “no”, “yes”, “unknown”)\n",
        "6. housing: has housing loan? (categorical: “no”, “yes”, “unknown”)\n",
        "7. loan: has personal loan? (categorical: “no”, “yes”, “unknown”)\n",
        "8. contact: contact communication type (categorical: “cellular”, “telephone”)\n",
        "9. month: last contact month of year (categorical: “jan”, “feb”, “mar”, …, “nov”, “dec”)\n",
        "10. day_of_week: last contact day of the week (categorical: “mon”, “tue”, “wed”, “thu”, “fri”)\n",
        "11. duration: last contact duration, in seconds (numeric). Important note: this attribute highly affects the output target (e.g., if duration=0 then y=’no’). The duration is not known before a call is performed, also, after the end of the call, y is obviously known. Thus, this input should only be included for benchmark purposes and should be discarded if the intention is to have a realistic predictive model\n",
        "12. campaign: number of contacts performed during this campaign and for this client (numeric, includes last contact)\n",
        "13. pdays: number of days that passed by after the client was last contacted from a previous campaign (numeric; 999 means client was not previously contacted)\n",
        "14. previous: number of contacts performed before this campaign and for this client (numeric)\n",
        "15. poutcome: outcome of the previous marketing campaign (categorical: “failure”, “nonexistent”, “success”)\n",
        "16. emp.var.rate: employment variation rate — (numeric)\n",
        "17. cons.price.idx: consumer price index — (numeric)\n",
        "18. cons.conf.idx: consumer confidence index — (numeric)\n",
        "19. euribor3m: euribor 3 month rate — (numeric)\n",
        "20. nr.employed: number of employees — (numeric)\n",
        "\n"
      ],
      "metadata": {
        "id": "8c9EojEciQqC"
      }
    },
    {
      "cell_type": "code",
      "source": [
        "import pandas as pd\n",
        "data = pd.read_csv('banking.csv')\n",
        "data"
      ],
      "metadata": {
        "colab": {
          "base_uri": "https://localhost:8080/",
          "height": 487
        },
        "id": "16K6Oh6_l05U",
        "outputId": "5b7a296f-96d1-4419-f38c-32fef65db8ee"
      },
      "execution_count": 2,
      "outputs": [
        {
          "output_type": "execute_result",
          "data": {
            "text/html": [
              "\n",
              "  <div id=\"df-641c304d-cc08-442e-b52c-6ef60a2af6c9\">\n",
              "    <div class=\"colab-df-container\">\n",
              "      <div>\n",
              "<style scoped>\n",
              "    .dataframe tbody tr th:only-of-type {\n",
              "        vertical-align: middle;\n",
              "    }\n",
              "\n",
              "    .dataframe tbody tr th {\n",
              "        vertical-align: top;\n",
              "    }\n",
              "\n",
              "    .dataframe thead th {\n",
              "        text-align: right;\n",
              "    }\n",
              "</style>\n",
              "<table border=\"1\" class=\"dataframe\">\n",
              "  <thead>\n",
              "    <tr style=\"text-align: right;\">\n",
              "      <th></th>\n",
              "      <th>age</th>\n",
              "      <th>job</th>\n",
              "      <th>marital</th>\n",
              "      <th>education</th>\n",
              "      <th>default</th>\n",
              "      <th>housing</th>\n",
              "      <th>loan</th>\n",
              "      <th>contact</th>\n",
              "      <th>month</th>\n",
              "      <th>day_of_week</th>\n",
              "      <th>duration</th>\n",
              "      <th>campaign</th>\n",
              "      <th>pdays</th>\n",
              "      <th>previous</th>\n",
              "      <th>poutcome</th>\n",
              "      <th>emp_var_rate</th>\n",
              "      <th>cons_price_idx</th>\n",
              "      <th>cons_conf_idx</th>\n",
              "      <th>euribor3m</th>\n",
              "      <th>nr_employed</th>\n",
              "      <th>y</th>\n",
              "    </tr>\n",
              "  </thead>\n",
              "  <tbody>\n",
              "    <tr>\n",
              "      <th>0</th>\n",
              "      <td>44</td>\n",
              "      <td>blue-collar</td>\n",
              "      <td>married</td>\n",
              "      <td>basic.4y</td>\n",
              "      <td>unknown</td>\n",
              "      <td>yes</td>\n",
              "      <td>no</td>\n",
              "      <td>cellular</td>\n",
              "      <td>aug</td>\n",
              "      <td>thu</td>\n",
              "      <td>210</td>\n",
              "      <td>1</td>\n",
              "      <td>999</td>\n",
              "      <td>0</td>\n",
              "      <td>nonexistent</td>\n",
              "      <td>1.4</td>\n",
              "      <td>93.444</td>\n",
              "      <td>-36.1</td>\n",
              "      <td>4.963</td>\n",
              "      <td>5228.1</td>\n",
              "      <td>0</td>\n",
              "    </tr>\n",
              "    <tr>\n",
              "      <th>1</th>\n",
              "      <td>53</td>\n",
              "      <td>technician</td>\n",
              "      <td>married</td>\n",
              "      <td>unknown</td>\n",
              "      <td>no</td>\n",
              "      <td>no</td>\n",
              "      <td>no</td>\n",
              "      <td>cellular</td>\n",
              "      <td>nov</td>\n",
              "      <td>fri</td>\n",
              "      <td>138</td>\n",
              "      <td>1</td>\n",
              "      <td>999</td>\n",
              "      <td>0</td>\n",
              "      <td>nonexistent</td>\n",
              "      <td>-0.1</td>\n",
              "      <td>93.200</td>\n",
              "      <td>-42.0</td>\n",
              "      <td>4.021</td>\n",
              "      <td>5195.8</td>\n",
              "      <td>0</td>\n",
              "    </tr>\n",
              "    <tr>\n",
              "      <th>2</th>\n",
              "      <td>28</td>\n",
              "      <td>management</td>\n",
              "      <td>single</td>\n",
              "      <td>university.degree</td>\n",
              "      <td>no</td>\n",
              "      <td>yes</td>\n",
              "      <td>no</td>\n",
              "      <td>cellular</td>\n",
              "      <td>jun</td>\n",
              "      <td>thu</td>\n",
              "      <td>339</td>\n",
              "      <td>3</td>\n",
              "      <td>6</td>\n",
              "      <td>2</td>\n",
              "      <td>success</td>\n",
              "      <td>-1.7</td>\n",
              "      <td>94.055</td>\n",
              "      <td>-39.8</td>\n",
              "      <td>0.729</td>\n",
              "      <td>4991.6</td>\n",
              "      <td>1</td>\n",
              "    </tr>\n",
              "    <tr>\n",
              "      <th>3</th>\n",
              "      <td>39</td>\n",
              "      <td>services</td>\n",
              "      <td>married</td>\n",
              "      <td>high.school</td>\n",
              "      <td>no</td>\n",
              "      <td>no</td>\n",
              "      <td>no</td>\n",
              "      <td>cellular</td>\n",
              "      <td>apr</td>\n",
              "      <td>fri</td>\n",
              "      <td>185</td>\n",
              "      <td>2</td>\n",
              "      <td>999</td>\n",
              "      <td>0</td>\n",
              "      <td>nonexistent</td>\n",
              "      <td>-1.8</td>\n",
              "      <td>93.075</td>\n",
              "      <td>-47.1</td>\n",
              "      <td>1.405</td>\n",
              "      <td>5099.1</td>\n",
              "      <td>0</td>\n",
              "    </tr>\n",
              "    <tr>\n",
              "      <th>4</th>\n",
              "      <td>55</td>\n",
              "      <td>retired</td>\n",
              "      <td>married</td>\n",
              "      <td>basic.4y</td>\n",
              "      <td>no</td>\n",
              "      <td>yes</td>\n",
              "      <td>no</td>\n",
              "      <td>cellular</td>\n",
              "      <td>aug</td>\n",
              "      <td>fri</td>\n",
              "      <td>137</td>\n",
              "      <td>1</td>\n",
              "      <td>3</td>\n",
              "      <td>1</td>\n",
              "      <td>success</td>\n",
              "      <td>-2.9</td>\n",
              "      <td>92.201</td>\n",
              "      <td>-31.4</td>\n",
              "      <td>0.869</td>\n",
              "      <td>5076.2</td>\n",
              "      <td>1</td>\n",
              "    </tr>\n",
              "    <tr>\n",
              "      <th>...</th>\n",
              "      <td>...</td>\n",
              "      <td>...</td>\n",
              "      <td>...</td>\n",
              "      <td>...</td>\n",
              "      <td>...</td>\n",
              "      <td>...</td>\n",
              "      <td>...</td>\n",
              "      <td>...</td>\n",
              "      <td>...</td>\n",
              "      <td>...</td>\n",
              "      <td>...</td>\n",
              "      <td>...</td>\n",
              "      <td>...</td>\n",
              "      <td>...</td>\n",
              "      <td>...</td>\n",
              "      <td>...</td>\n",
              "      <td>...</td>\n",
              "      <td>...</td>\n",
              "      <td>...</td>\n",
              "      <td>...</td>\n",
              "      <td>...</td>\n",
              "    </tr>\n",
              "    <tr>\n",
              "      <th>41183</th>\n",
              "      <td>59</td>\n",
              "      <td>retired</td>\n",
              "      <td>married</td>\n",
              "      <td>high.school</td>\n",
              "      <td>unknown</td>\n",
              "      <td>no</td>\n",
              "      <td>yes</td>\n",
              "      <td>telephone</td>\n",
              "      <td>jun</td>\n",
              "      <td>thu</td>\n",
              "      <td>222</td>\n",
              "      <td>1</td>\n",
              "      <td>999</td>\n",
              "      <td>0</td>\n",
              "      <td>nonexistent</td>\n",
              "      <td>1.4</td>\n",
              "      <td>94.465</td>\n",
              "      <td>-41.8</td>\n",
              "      <td>4.866</td>\n",
              "      <td>5228.1</td>\n",
              "      <td>0</td>\n",
              "    </tr>\n",
              "    <tr>\n",
              "      <th>41184</th>\n",
              "      <td>31</td>\n",
              "      <td>housemaid</td>\n",
              "      <td>married</td>\n",
              "      <td>basic.4y</td>\n",
              "      <td>unknown</td>\n",
              "      <td>no</td>\n",
              "      <td>no</td>\n",
              "      <td>telephone</td>\n",
              "      <td>may</td>\n",
              "      <td>thu</td>\n",
              "      <td>196</td>\n",
              "      <td>2</td>\n",
              "      <td>999</td>\n",
              "      <td>0</td>\n",
              "      <td>nonexistent</td>\n",
              "      <td>1.1</td>\n",
              "      <td>93.994</td>\n",
              "      <td>-36.4</td>\n",
              "      <td>4.860</td>\n",
              "      <td>5191.0</td>\n",
              "      <td>0</td>\n",
              "    </tr>\n",
              "    <tr>\n",
              "      <th>41185</th>\n",
              "      <td>42</td>\n",
              "      <td>admin.</td>\n",
              "      <td>single</td>\n",
              "      <td>university.degree</td>\n",
              "      <td>unknown</td>\n",
              "      <td>yes</td>\n",
              "      <td>yes</td>\n",
              "      <td>telephone</td>\n",
              "      <td>may</td>\n",
              "      <td>wed</td>\n",
              "      <td>62</td>\n",
              "      <td>3</td>\n",
              "      <td>999</td>\n",
              "      <td>0</td>\n",
              "      <td>nonexistent</td>\n",
              "      <td>1.1</td>\n",
              "      <td>93.994</td>\n",
              "      <td>-36.4</td>\n",
              "      <td>4.857</td>\n",
              "      <td>5191.0</td>\n",
              "      <td>0</td>\n",
              "    </tr>\n",
              "    <tr>\n",
              "      <th>41186</th>\n",
              "      <td>48</td>\n",
              "      <td>technician</td>\n",
              "      <td>married</td>\n",
              "      <td>professional.course</td>\n",
              "      <td>no</td>\n",
              "      <td>no</td>\n",
              "      <td>yes</td>\n",
              "      <td>telephone</td>\n",
              "      <td>oct</td>\n",
              "      <td>tue</td>\n",
              "      <td>200</td>\n",
              "      <td>2</td>\n",
              "      <td>999</td>\n",
              "      <td>0</td>\n",
              "      <td>nonexistent</td>\n",
              "      <td>-3.4</td>\n",
              "      <td>92.431</td>\n",
              "      <td>-26.9</td>\n",
              "      <td>0.742</td>\n",
              "      <td>5017.5</td>\n",
              "      <td>0</td>\n",
              "    </tr>\n",
              "    <tr>\n",
              "      <th>41187</th>\n",
              "      <td>25</td>\n",
              "      <td>student</td>\n",
              "      <td>single</td>\n",
              "      <td>high.school</td>\n",
              "      <td>no</td>\n",
              "      <td>no</td>\n",
              "      <td>no</td>\n",
              "      <td>telephone</td>\n",
              "      <td>may</td>\n",
              "      <td>fri</td>\n",
              "      <td>112</td>\n",
              "      <td>4</td>\n",
              "      <td>999</td>\n",
              "      <td>0</td>\n",
              "      <td>nonexistent</td>\n",
              "      <td>1.1</td>\n",
              "      <td>93.994</td>\n",
              "      <td>-36.4</td>\n",
              "      <td>4.859</td>\n",
              "      <td>5191.0</td>\n",
              "      <td>0</td>\n",
              "    </tr>\n",
              "  </tbody>\n",
              "</table>\n",
              "<p>41188 rows × 21 columns</p>\n",
              "</div>\n",
              "      <button class=\"colab-df-convert\" onclick=\"convertToInteractive('df-641c304d-cc08-442e-b52c-6ef60a2af6c9')\"\n",
              "              title=\"Convert this dataframe to an interactive table.\"\n",
              "              style=\"display:none;\">\n",
              "        \n",
              "  <svg xmlns=\"http://www.w3.org/2000/svg\" height=\"24px\"viewBox=\"0 0 24 24\"\n",
              "       width=\"24px\">\n",
              "    <path d=\"M0 0h24v24H0V0z\" fill=\"none\"/>\n",
              "    <path d=\"M18.56 5.44l.94 2.06.94-2.06 2.06-.94-2.06-.94-.94-2.06-.94 2.06-2.06.94zm-11 1L8.5 8.5l.94-2.06 2.06-.94-2.06-.94L8.5 2.5l-.94 2.06-2.06.94zm10 10l.94 2.06.94-2.06 2.06-.94-2.06-.94-.94-2.06-.94 2.06-2.06.94z\"/><path d=\"M17.41 7.96l-1.37-1.37c-.4-.4-.92-.59-1.43-.59-.52 0-1.04.2-1.43.59L10.3 9.45l-7.72 7.72c-.78.78-.78 2.05 0 2.83L4 21.41c.39.39.9.59 1.41.59.51 0 1.02-.2 1.41-.59l7.78-7.78 2.81-2.81c.8-.78.8-2.07 0-2.86zM5.41 20L4 18.59l7.72-7.72 1.47 1.35L5.41 20z\"/>\n",
              "  </svg>\n",
              "      </button>\n",
              "      \n",
              "  <style>\n",
              "    .colab-df-container {\n",
              "      display:flex;\n",
              "      flex-wrap:wrap;\n",
              "      gap: 12px;\n",
              "    }\n",
              "\n",
              "    .colab-df-convert {\n",
              "      background-color: #E8F0FE;\n",
              "      border: none;\n",
              "      border-radius: 50%;\n",
              "      cursor: pointer;\n",
              "      display: none;\n",
              "      fill: #1967D2;\n",
              "      height: 32px;\n",
              "      padding: 0 0 0 0;\n",
              "      width: 32px;\n",
              "    }\n",
              "\n",
              "    .colab-df-convert:hover {\n",
              "      background-color: #E2EBFA;\n",
              "      box-shadow: 0px 1px 2px rgba(60, 64, 67, 0.3), 0px 1px 3px 1px rgba(60, 64, 67, 0.15);\n",
              "      fill: #174EA6;\n",
              "    }\n",
              "\n",
              "    [theme=dark] .colab-df-convert {\n",
              "      background-color: #3B4455;\n",
              "      fill: #D2E3FC;\n",
              "    }\n",
              "\n",
              "    [theme=dark] .colab-df-convert:hover {\n",
              "      background-color: #434B5C;\n",
              "      box-shadow: 0px 1px 3px 1px rgba(0, 0, 0, 0.15);\n",
              "      filter: drop-shadow(0px 1px 2px rgba(0, 0, 0, 0.3));\n",
              "      fill: #FFFFFF;\n",
              "    }\n",
              "  </style>\n",
              "\n",
              "      <script>\n",
              "        const buttonEl =\n",
              "          document.querySelector('#df-641c304d-cc08-442e-b52c-6ef60a2af6c9 button.colab-df-convert');\n",
              "        buttonEl.style.display =\n",
              "          google.colab.kernel.accessAllowed ? 'block' : 'none';\n",
              "\n",
              "        async function convertToInteractive(key) {\n",
              "          const element = document.querySelector('#df-641c304d-cc08-442e-b52c-6ef60a2af6c9');\n",
              "          const dataTable =\n",
              "            await google.colab.kernel.invokeFunction('convertToInteractive',\n",
              "                                                     [key], {});\n",
              "          if (!dataTable) return;\n",
              "\n",
              "          const docLinkHtml = 'Like what you see? Visit the ' +\n",
              "            '<a target=\"_blank\" href=https://colab.research.google.com/notebooks/data_table.ipynb>data table notebook</a>'\n",
              "            + ' to learn more about interactive tables.';\n",
              "          element.innerHTML = '';\n",
              "          dataTable['output_type'] = 'display_data';\n",
              "          await google.colab.output.renderOutput(dataTable, element);\n",
              "          const docLink = document.createElement('div');\n",
              "          docLink.innerHTML = docLinkHtml;\n",
              "          element.appendChild(docLink);\n",
              "        }\n",
              "      </script>\n",
              "    </div>\n",
              "  </div>\n",
              "  "
            ],
            "text/plain": [
              "       age          job  marital  ... euribor3m nr_employed  y\n",
              "0       44  blue-collar  married  ...     4.963      5228.1  0\n",
              "1       53   technician  married  ...     4.021      5195.8  0\n",
              "2       28   management   single  ...     0.729      4991.6  1\n",
              "3       39     services  married  ...     1.405      5099.1  0\n",
              "4       55      retired  married  ...     0.869      5076.2  1\n",
              "...    ...          ...      ...  ...       ...         ... ..\n",
              "41183   59      retired  married  ...     4.866      5228.1  0\n",
              "41184   31    housemaid  married  ...     4.860      5191.0  0\n",
              "41185   42       admin.   single  ...     4.857      5191.0  0\n",
              "41186   48   technician  married  ...     0.742      5017.5  0\n",
              "41187   25      student   single  ...     4.859      5191.0  0\n",
              "\n",
              "[41188 rows x 21 columns]"
            ]
          },
          "metadata": {},
          "execution_count": 2
        }
      ]
    },
    {
      "cell_type": "markdown",
      "source": [
        "# 資料處理\n",
        "\n",
        "--- \n",
        "1. 合併基礎教育程度 \n",
        "2. 將類別型欄位進行One-hot Encoding\n",
        "3. 萃取出X,y\n",
        "4. 切分出training/testing資料集\n"
      ],
      "metadata": {
        "id": "9rr0sCx53zIs"
      }
    },
    {
      "cell_type": "code",
      "source": [
        "import numpy as np\n",
        "# 合併基礎教育程度 (basic.9y/basic.6y/basic.4y -> Basic)\n",
        "data['education']=np.where(data['education'] =='basic.9y', 'Basic', data['education'])\n",
        "data['education']=np.where(data['education'] =='basic.6y', 'Basic', data['education'])\n",
        "data['education']=np.where(data['education'] =='basic.4y', 'Basic', data['education'])\n",
        "# 將類別型欄位進行One-hot Encoding\n",
        "cat_vars=['job','marital','education','default','housing','loan','contact','month','day_of_week','poutcome']\n",
        "for var in cat_vars:\n",
        "    cat_list='var'+'_'+var\n",
        "    cat_list = pd.get_dummies(data[var], prefix=var)\n",
        "    data1=data.join(cat_list)\n",
        "    data=data1\n",
        "cat_vars=['job','marital','education','default','housing','loan','contact','month','day_of_week','poutcome']\n",
        "data_vars=data.columns.values.tolist()\n",
        "to_keep=[i for i in data_vars if i not in cat_vars]\n",
        "data_final=data[to_keep]\n",
        "# 萃取出X,y\n",
        "x_cols = [col for col in data_final.columns.tolist() if col != 'y']\n",
        "x_data = data_final[x_cols]\n",
        "y_data = data_final['y']\n",
        "X = x_data.values\n",
        "y = y_data.values\n",
        "# 切分出training/testing資料集\n",
        "from sklearn.model_selection import train_test_split\n",
        "X_train, X_test, y_train, y_test = train_test_split(X, y, test_size = 0.25, random_state = 0)"
      ],
      "metadata": {
        "id": "5fdt4Pgn4L79"
      },
      "execution_count": 3,
      "outputs": []
    },
    {
      "cell_type": "markdown",
      "source": [
        "# 建立 Xgboost 模型並進行GridSearch\n",
        "\n",
        "Ref: https://www.kaggle.com/tilii7/hyperparameter-grid-search-with-xgboost"
      ],
      "metadata": {
        "id": "yl8IHKhk41dH"
      }
    },
    {
      "cell_type": "code",
      "source": [
        "# [Step.1.] 建立XGBoostClassifer，objective請使用'binary:logistic'\n",
        "classifier = None\n",
        "from xgboost import XGBClassifier\n",
        "classifier = XGBClassifier(objective='binary:logistic')\n",
        "# [Step.2.] 建立參數搜尋空間 (因課程時間有限，請挑選三個參數進行搜尋，每個參數給兩個選項即可)\n",
        "# 提示: 用 help(classifier.__init__) 和 help(classifier) 查詢XGBClassifier所用到的參數\n",
        "param_grid = {}\n",
        "param_grid = {\n",
        "    # 'max_depth': [3, 4, 5], \n",
        "    # 'learning_rate': [1.0, 0.1, 0.01, 0.001],\n",
        "    'n_estimators': [100, 500],\n",
        "    'min_child_weight': [1, 10],\n",
        "    'gamma': [0.5, 1.5],\n",
        "    # 'subsample': [0.6, 0.8, 1.0],\n",
        "    # 'colsample_bytree': [0.6, 0.8, 1.0]\n",
        "}\n",
        "# [Step.3.] 建立gridsearch物件 (輸入: classifier, param_grid)\n",
        "gridsearch = None\n",
        "from sklearn.model_selection import GridSearchCV\n",
        "gridsearch = GridSearchCV(classifier, param_grid, verbose=3)\n",
        "\n",
        "# [Step.4.] 執行gridsearch\n",
        "gridsearch.fit(X_train, y_train)"
      ],
      "metadata": {
        "colab": {
          "base_uri": "https://localhost:8080/"
        },
        "id": "zKNu87Va5wvN",
        "outputId": "6685cb38-5fdb-4d4a-cd57-c6538ed6db17"
      },
      "execution_count": 4,
      "outputs": [
        {
          "metadata": {
            "tags": null
          },
          "name": "stdout",
          "output_type": "stream",
          "text": [
            "Fitting 5 folds for each of 8 candidates, totalling 40 fits\n",
            "[CV 1/5] END gamma=0.5, min_child_weight=1, n_estimators=100;, score=0.918 total time=   3.5s\n",
            "[CV 2/5] END gamma=0.5, min_child_weight=1, n_estimators=100;, score=0.916 total time=   3.4s\n",
            "[CV 3/5] END gamma=0.5, min_child_weight=1, n_estimators=100;, score=0.910 total time=   3.4s\n",
            "[CV 4/5] END gamma=0.5, min_child_weight=1, n_estimators=100;, score=0.915 total time=   3.4s\n",
            "[CV 5/5] END gamma=0.5, min_child_weight=1, n_estimators=100;, score=0.913 total time=   3.4s\n",
            "[CV 1/5] END gamma=0.5, min_child_weight=1, n_estimators=500;, score=0.920 total time=  16.2s\n",
            "[CV 2/5] END gamma=0.5, min_child_weight=1, n_estimators=500;, score=0.915 total time=  16.5s\n",
            "[CV 3/5] END gamma=0.5, min_child_weight=1, n_estimators=500;, score=0.911 total time=  16.2s\n",
            "[CV 4/5] END gamma=0.5, min_child_weight=1, n_estimators=500;, score=0.916 total time=  16.2s\n",
            "[CV 5/5] END gamma=0.5, min_child_weight=1, n_estimators=500;, score=0.915 total time=  16.2s\n",
            "[CV 1/5] END gamma=0.5, min_child_weight=10, n_estimators=100;, score=0.917 total time=   3.4s\n",
            "[CV 2/5] END gamma=0.5, min_child_weight=10, n_estimators=100;, score=0.916 total time=   3.4s\n",
            "[CV 3/5] END gamma=0.5, min_child_weight=10, n_estimators=100;, score=0.909 total time=   3.4s\n",
            "[CV 4/5] END gamma=0.5, min_child_weight=10, n_estimators=100;, score=0.914 total time=   3.4s\n",
            "[CV 5/5] END gamma=0.5, min_child_weight=10, n_estimators=100;, score=0.914 total time=   3.4s\n",
            "[CV 1/5] END gamma=0.5, min_child_weight=10, n_estimators=500;, score=0.918 total time=  16.4s\n",
            "[CV 2/5] END gamma=0.5, min_child_weight=10, n_estimators=500;, score=0.916 total time=  16.5s\n",
            "[CV 3/5] END gamma=0.5, min_child_weight=10, n_estimators=500;, score=0.911 total time=  16.3s\n",
            "[CV 4/5] END gamma=0.5, min_child_weight=10, n_estimators=500;, score=0.915 total time=  16.3s\n",
            "[CV 5/5] END gamma=0.5, min_child_weight=10, n_estimators=500;, score=0.916 total time=  16.3s\n",
            "[CV 1/5] END gamma=1.5, min_child_weight=1, n_estimators=100;, score=0.919 total time=   3.4s\n",
            "[CV 2/5] END gamma=1.5, min_child_weight=1, n_estimators=100;, score=0.917 total time=   3.4s\n",
            "[CV 3/5] END gamma=1.5, min_child_weight=1, n_estimators=100;, score=0.909 total time=   3.4s\n",
            "[CV 4/5] END gamma=1.5, min_child_weight=1, n_estimators=100;, score=0.917 total time=   3.4s\n",
            "[CV 5/5] END gamma=1.5, min_child_weight=1, n_estimators=100;, score=0.913 total time=   3.4s\n",
            "[CV 1/5] END gamma=1.5, min_child_weight=1, n_estimators=500;, score=0.919 total time=  16.1s\n",
            "[CV 2/5] END gamma=1.5, min_child_weight=1, n_estimators=500;, score=0.915 total time=  16.6s\n",
            "[CV 3/5] END gamma=1.5, min_child_weight=1, n_estimators=500;, score=0.910 total time=  16.1s\n",
            "[CV 4/5] END gamma=1.5, min_child_weight=1, n_estimators=500;, score=0.916 total time=  16.2s\n",
            "[CV 5/5] END gamma=1.5, min_child_weight=1, n_estimators=500;, score=0.914 total time=  16.3s\n",
            "[CV 1/5] END gamma=1.5, min_child_weight=10, n_estimators=100;, score=0.916 total time=   3.4s\n",
            "[CV 2/5] END gamma=1.5, min_child_weight=10, n_estimators=100;, score=0.916 total time=   3.4s\n",
            "[CV 3/5] END gamma=1.5, min_child_weight=10, n_estimators=100;, score=0.909 total time=   3.4s\n",
            "[CV 4/5] END gamma=1.5, min_child_weight=10, n_estimators=100;, score=0.915 total time=   3.4s\n",
            "[CV 5/5] END gamma=1.5, min_child_weight=10, n_estimators=100;, score=0.914 total time=   3.4s\n",
            "[CV 1/5] END gamma=1.5, min_child_weight=10, n_estimators=500;, score=0.918 total time=  16.7s\n",
            "[CV 2/5] END gamma=1.5, min_child_weight=10, n_estimators=500;, score=0.916 total time=  16.2s\n",
            "[CV 3/5] END gamma=1.5, min_child_weight=10, n_estimators=500;, score=0.910 total time=  16.6s\n",
            "[CV 4/5] END gamma=1.5, min_child_weight=10, n_estimators=500;, score=0.915 total time=  16.3s\n",
            "[CV 5/5] END gamma=1.5, min_child_weight=10, n_estimators=500;, score=0.915 total time=  16.6s\n"
          ]
        },
        {
          "output_type": "execute_result",
          "data": {
            "text/plain": [
              "GridSearchCV(estimator=XGBClassifier(),\n",
              "             param_grid={'gamma': [0.5, 1.5], 'min_child_weight': [1, 10],\n",
              "                         'n_estimators': [100, 500]},\n",
              "             verbose=3)"
            ]
          },
          "metadata": {},
          "execution_count": 4
        }
      ]
    },
    {
      "cell_type": "markdown",
      "source": [
        "# 訓練結果檢視\n",
        "\n",
        "---\n",
        "\n",
        "1. 請給定gridsearch所找到的最佳參數給xgboost進行訓練\n",
        "\n",
        "2. 訓練完畢請對test資料進行預測，並觀察feature importance的合理性。\n"
      ],
      "metadata": {
        "id": "4_RAvAkqiy3_"
      }
    },
    {
      "cell_type": "code",
      "source": [
        "print('Start predicting...')\n",
        "# [Step.5.] 填入最佳參數給xgboost進行建模與預測\n",
        "xgboost_cls = XGBClassifier(objective = 'binary:logistic',\n",
        "              n_estimators = gridsearch.best_params_['n_estimators'],\n",
        "              min_child_weight = gridsearch.best_params_['min_child_weight'], \n",
        "              gamma = gridsearch.best_params_['gamma'])\n",
        "%time xgboost_fit = xgboost_cls.fit(X_train, y_train)\n",
        "print('Predicting is over')\n",
        "# [Step.6.] 成效運算\n",
        "from  sklearn  import  metrics\n",
        "def measure_performance(X,y,clf, show_accuracy=True, show_classification_report=True, show_confusion_matrix=True, show_roc_auc = True):\n",
        "    y_pred = clf.predict(X)\n",
        "    y_predprob = clf.predict_proba(X)[:,1]\n",
        "    if show_accuracy:\n",
        "        print (\"Accuracy:{0:.3f}\".format(metrics.accuracy_score(y,y_pred))),\"\\n\"\n",
        "\n",
        "    if show_classification_report:\n",
        "        print(\"Classification report\")\n",
        "        print(metrics.classification_report(y,y_pred)),\"\\n\"\n",
        "        \n",
        "    if show_confusion_matrix:\n",
        "        print(\"Confusion matrix\")\n",
        "        print(metrics.confusion_matrix(y,y_pred)),\"\\n\"  \n",
        "        \n",
        "    if show_roc_auc:\n",
        "        print(\"ROC AUC Score\")\n",
        "        print(metrics.roc_auc_score(y,y_predprob)),\"\\n\"\n",
        "\n",
        "XGBoost_grid_measure = measure_performance(X=X_test, y=y_test, clf=xgboost_fit, \n",
        "          show_classification_report=True, show_confusion_matrix=True)\n",
        "\n",
        "# [Step.7.] 建立因子重要性表格，觀察因子重要性是否合理。\n",
        "importance_table = pd.DataFrame([x_data.columns, xgboost_fit.feature_importances_]).T\n",
        "importance_table.rename(columns={0: 'column', 1: 'importance'}, inplace=True)\n",
        "importance_table.sort_values('importance',ascending=False, inplace=True)\n",
        "importance_table.head(20)"
      ],
      "metadata": {
        "colab": {
          "base_uri": "https://localhost:8080/",
          "height": 1000
        },
        "id": "Zp45nkgG5667",
        "outputId": "6b4549d5-8961-4498-c2a6-b3762b216ac0"
      },
      "execution_count": 5,
      "outputs": [
        {
          "output_type": "stream",
          "name": "stdout",
          "text": [
            "Start predicting...\n",
            "CPU times: user 20.2 s, sys: 38 ms, total: 20.2 s\n",
            "Wall time: 20.2 s\n",
            "Predicting is over\n",
            "Accuracy:0.918\n",
            "Classification report\n",
            "              precision    recall  f1-score   support\n",
            "\n",
            "           0       0.94      0.97      0.95      9156\n",
            "           1       0.66      0.54      0.59      1141\n",
            "\n",
            "    accuracy                           0.92     10297\n",
            "   macro avg       0.80      0.75      0.77     10297\n",
            "weighted avg       0.91      0.92      0.91     10297\n",
            "\n",
            "Confusion matrix\n",
            "[[8844  312]\n",
            " [ 529  612]]\n",
            "ROC AUC Score\n",
            "0.9481265236437345\n"
          ]
        },
        {
          "output_type": "execute_result",
          "data": {
            "text/html": [
              "\n",
              "  <div id=\"df-cb152fe6-33cf-4057-910a-e4f9f60f3249\">\n",
              "    <div class=\"colab-df-container\">\n",
              "      <div>\n",
              "<style scoped>\n",
              "    .dataframe tbody tr th:only-of-type {\n",
              "        vertical-align: middle;\n",
              "    }\n",
              "\n",
              "    .dataframe tbody tr th {\n",
              "        vertical-align: top;\n",
              "    }\n",
              "\n",
              "    .dataframe thead th {\n",
              "        text-align: right;\n",
              "    }\n",
              "</style>\n",
              "<table border=\"1\" class=\"dataframe\">\n",
              "  <thead>\n",
              "    <tr style=\"text-align: right;\">\n",
              "      <th></th>\n",
              "      <th>column</th>\n",
              "      <th>importance</th>\n",
              "    </tr>\n",
              "  </thead>\n",
              "  <tbody>\n",
              "    <tr>\n",
              "      <th>9</th>\n",
              "      <td>nr_employed</td>\n",
              "      <td>0.433514</td>\n",
              "    </tr>\n",
              "    <tr>\n",
              "      <th>1</th>\n",
              "      <td>duration</td>\n",
              "      <td>0.0670676</td>\n",
              "    </tr>\n",
              "    <tr>\n",
              "      <th>5</th>\n",
              "      <td>emp_var_rate</td>\n",
              "      <td>0.0551363</td>\n",
              "    </tr>\n",
              "    <tr>\n",
              "      <th>49</th>\n",
              "      <td>month_may</td>\n",
              "      <td>0.038391</td>\n",
              "    </tr>\n",
              "    <tr>\n",
              "      <th>60</th>\n",
              "      <td>poutcome_success</td>\n",
              "      <td>0.0362011</td>\n",
              "    </tr>\n",
              "    <tr>\n",
              "      <th>7</th>\n",
              "      <td>cons_conf_idx</td>\n",
              "      <td>0.0301967</td>\n",
              "    </tr>\n",
              "    <tr>\n",
              "      <th>51</th>\n",
              "      <td>month_oct</td>\n",
              "      <td>0.0267932</td>\n",
              "    </tr>\n",
              "    <tr>\n",
              "      <th>3</th>\n",
              "      <td>pdays</td>\n",
              "      <td>0.0228921</td>\n",
              "    </tr>\n",
              "    <tr>\n",
              "      <th>48</th>\n",
              "      <td>month_mar</td>\n",
              "      <td>0.0198431</td>\n",
              "    </tr>\n",
              "    <tr>\n",
              "      <th>32</th>\n",
              "      <td>default_no</td>\n",
              "      <td>0.0175379</td>\n",
              "    </tr>\n",
              "    <tr>\n",
              "      <th>8</th>\n",
              "      <td>euribor3m</td>\n",
              "      <td>0.0145184</td>\n",
              "    </tr>\n",
              "    <tr>\n",
              "      <th>58</th>\n",
              "      <td>poutcome_failure</td>\n",
              "      <td>0.0144486</td>\n",
              "    </tr>\n",
              "    <tr>\n",
              "      <th>6</th>\n",
              "      <td>cons_price_idx</td>\n",
              "      <td>0.0128417</td>\n",
              "    </tr>\n",
              "    <tr>\n",
              "      <th>43</th>\n",
              "      <td>month_apr</td>\n",
              "      <td>0.010438</td>\n",
              "    </tr>\n",
              "    <tr>\n",
              "      <th>11</th>\n",
              "      <td>job_blue-collar</td>\n",
              "      <td>0.0100639</td>\n",
              "    </tr>\n",
              "    <tr>\n",
              "      <th>41</th>\n",
              "      <td>contact_cellular</td>\n",
              "      <td>0.00872305</td>\n",
              "    </tr>\n",
              "    <tr>\n",
              "      <th>54</th>\n",
              "      <td>day_of_week_mon</td>\n",
              "      <td>0.00849108</td>\n",
              "    </tr>\n",
              "    <tr>\n",
              "      <th>52</th>\n",
              "      <td>month_sep</td>\n",
              "      <td>0.00766854</td>\n",
              "    </tr>\n",
              "    <tr>\n",
              "      <th>30</th>\n",
              "      <td>education_university.degree</td>\n",
              "      <td>0.00742914</td>\n",
              "    </tr>\n",
              "    <tr>\n",
              "      <th>50</th>\n",
              "      <td>month_nov</td>\n",
              "      <td>0.00711841</td>\n",
              "    </tr>\n",
              "  </tbody>\n",
              "</table>\n",
              "</div>\n",
              "      <button class=\"colab-df-convert\" onclick=\"convertToInteractive('df-cb152fe6-33cf-4057-910a-e4f9f60f3249')\"\n",
              "              title=\"Convert this dataframe to an interactive table.\"\n",
              "              style=\"display:none;\">\n",
              "        \n",
              "  <svg xmlns=\"http://www.w3.org/2000/svg\" height=\"24px\"viewBox=\"0 0 24 24\"\n",
              "       width=\"24px\">\n",
              "    <path d=\"M0 0h24v24H0V0z\" fill=\"none\"/>\n",
              "    <path d=\"M18.56 5.44l.94 2.06.94-2.06 2.06-.94-2.06-.94-.94-2.06-.94 2.06-2.06.94zm-11 1L8.5 8.5l.94-2.06 2.06-.94-2.06-.94L8.5 2.5l-.94 2.06-2.06.94zm10 10l.94 2.06.94-2.06 2.06-.94-2.06-.94-.94-2.06-.94 2.06-2.06.94z\"/><path d=\"M17.41 7.96l-1.37-1.37c-.4-.4-.92-.59-1.43-.59-.52 0-1.04.2-1.43.59L10.3 9.45l-7.72 7.72c-.78.78-.78 2.05 0 2.83L4 21.41c.39.39.9.59 1.41.59.51 0 1.02-.2 1.41-.59l7.78-7.78 2.81-2.81c.8-.78.8-2.07 0-2.86zM5.41 20L4 18.59l7.72-7.72 1.47 1.35L5.41 20z\"/>\n",
              "  </svg>\n",
              "      </button>\n",
              "      \n",
              "  <style>\n",
              "    .colab-df-container {\n",
              "      display:flex;\n",
              "      flex-wrap:wrap;\n",
              "      gap: 12px;\n",
              "    }\n",
              "\n",
              "    .colab-df-convert {\n",
              "      background-color: #E8F0FE;\n",
              "      border: none;\n",
              "      border-radius: 50%;\n",
              "      cursor: pointer;\n",
              "      display: none;\n",
              "      fill: #1967D2;\n",
              "      height: 32px;\n",
              "      padding: 0 0 0 0;\n",
              "      width: 32px;\n",
              "    }\n",
              "\n",
              "    .colab-df-convert:hover {\n",
              "      background-color: #E2EBFA;\n",
              "      box-shadow: 0px 1px 2px rgba(60, 64, 67, 0.3), 0px 1px 3px 1px rgba(60, 64, 67, 0.15);\n",
              "      fill: #174EA6;\n",
              "    }\n",
              "\n",
              "    [theme=dark] .colab-df-convert {\n",
              "      background-color: #3B4455;\n",
              "      fill: #D2E3FC;\n",
              "    }\n",
              "\n",
              "    [theme=dark] .colab-df-convert:hover {\n",
              "      background-color: #434B5C;\n",
              "      box-shadow: 0px 1px 3px 1px rgba(0, 0, 0, 0.15);\n",
              "      filter: drop-shadow(0px 1px 2px rgba(0, 0, 0, 0.3));\n",
              "      fill: #FFFFFF;\n",
              "    }\n",
              "  </style>\n",
              "\n",
              "      <script>\n",
              "        const buttonEl =\n",
              "          document.querySelector('#df-cb152fe6-33cf-4057-910a-e4f9f60f3249 button.colab-df-convert');\n",
              "        buttonEl.style.display =\n",
              "          google.colab.kernel.accessAllowed ? 'block' : 'none';\n",
              "\n",
              "        async function convertToInteractive(key) {\n",
              "          const element = document.querySelector('#df-cb152fe6-33cf-4057-910a-e4f9f60f3249');\n",
              "          const dataTable =\n",
              "            await google.colab.kernel.invokeFunction('convertToInteractive',\n",
              "                                                     [key], {});\n",
              "          if (!dataTable) return;\n",
              "\n",
              "          const docLinkHtml = 'Like what you see? Visit the ' +\n",
              "            '<a target=\"_blank\" href=https://colab.research.google.com/notebooks/data_table.ipynb>data table notebook</a>'\n",
              "            + ' to learn more about interactive tables.';\n",
              "          element.innerHTML = '';\n",
              "          dataTable['output_type'] = 'display_data';\n",
              "          await google.colab.output.renderOutput(dataTable, element);\n",
              "          const docLink = document.createElement('div');\n",
              "          docLink.innerHTML = docLinkHtml;\n",
              "          element.appendChild(docLink);\n",
              "        }\n",
              "      </script>\n",
              "    </div>\n",
              "  </div>\n",
              "  "
            ],
            "text/plain": [
              "                         column  importance\n",
              "9                   nr_employed    0.433514\n",
              "1                      duration   0.0670676\n",
              "5                  emp_var_rate   0.0551363\n",
              "49                    month_may    0.038391\n",
              "60             poutcome_success   0.0362011\n",
              "7                 cons_conf_idx   0.0301967\n",
              "51                    month_oct   0.0267932\n",
              "3                         pdays   0.0228921\n",
              "48                    month_mar   0.0198431\n",
              "32                   default_no   0.0175379\n",
              "8                     euribor3m   0.0145184\n",
              "58             poutcome_failure   0.0144486\n",
              "6                cons_price_idx   0.0128417\n",
              "43                    month_apr    0.010438\n",
              "11              job_blue-collar   0.0100639\n",
              "41             contact_cellular  0.00872305\n",
              "54              day_of_week_mon  0.00849108\n",
              "52                    month_sep  0.00766854\n",
              "30  education_university.degree  0.00742914\n",
              "50                    month_nov  0.00711841"
            ]
          },
          "metadata": {},
          "execution_count": 5
        }
      ]
    },
    {
      "cell_type": "markdown",
      "source": [
        "# 練習題 II: SHAP模型解釋練習\n",
        "\n",
        "這裡請學員承接練習題I所產出之Xgboost模型，以SHAP套件進行電話營銷模型的解釋。"
      ],
      "metadata": {
        "id": "rskDg5I1p_Kw"
      }
    },
    {
      "cell_type": "code",
      "source": [
        "!pip install shap"
      ],
      "metadata": {
        "id": "PZu7Bo4BsBkM",
        "outputId": "8a0d2fbf-0806-4af1-d9cf-d96d6bf6531a",
        "colab": {
          "base_uri": "https://localhost:8080/"
        }
      },
      "execution_count": 7,
      "outputs": [
        {
          "output_type": "stream",
          "name": "stdout",
          "text": [
            "Collecting shap\n",
            "  Downloading shap-0.40.0-cp37-cp37m-manylinux2010_x86_64.whl (564 kB)\n",
            "\u001b[?25l\r\u001b[K     |▋                               | 10 kB 27.2 MB/s eta 0:00:01\r\u001b[K     |█▏                              | 20 kB 32.0 MB/s eta 0:00:01\r\u001b[K     |█▊                              | 30 kB 38.6 MB/s eta 0:00:01\r\u001b[K     |██▎                             | 40 kB 43.0 MB/s eta 0:00:01\r\u001b[K     |███                             | 51 kB 35.0 MB/s eta 0:00:01\r\u001b[K     |███▌                            | 61 kB 37.5 MB/s eta 0:00:01\r\u001b[K     |████                            | 71 kB 25.7 MB/s eta 0:00:01\r\u001b[K     |████▋                           | 81 kB 27.1 MB/s eta 0:00:01\r\u001b[K     |█████▏                          | 92 kB 29.2 MB/s eta 0:00:01\r\u001b[K     |█████▉                          | 102 kB 31.1 MB/s eta 0:00:01\r\u001b[K     |██████▍                         | 112 kB 31.1 MB/s eta 0:00:01\r\u001b[K     |███████                         | 122 kB 31.1 MB/s eta 0:00:01\r\u001b[K     |███████▌                        | 133 kB 31.1 MB/s eta 0:00:01\r\u001b[K     |████████▏                       | 143 kB 31.1 MB/s eta 0:00:01\r\u001b[K     |████████▊                       | 153 kB 31.1 MB/s eta 0:00:01\r\u001b[K     |█████████▎                      | 163 kB 31.1 MB/s eta 0:00:01\r\u001b[K     |█████████▉                      | 174 kB 31.1 MB/s eta 0:00:01\r\u001b[K     |██████████▍                     | 184 kB 31.1 MB/s eta 0:00:01\r\u001b[K     |███████████                     | 194 kB 31.1 MB/s eta 0:00:01\r\u001b[K     |███████████▋                    | 204 kB 31.1 MB/s eta 0:00:01\r\u001b[K     |████████████▏                   | 215 kB 31.1 MB/s eta 0:00:01\r\u001b[K     |████████████▊                   | 225 kB 31.1 MB/s eta 0:00:01\r\u001b[K     |█████████████▍                  | 235 kB 31.1 MB/s eta 0:00:01\r\u001b[K     |██████████████                  | 245 kB 31.1 MB/s eta 0:00:01\r\u001b[K     |██████████████▌                 | 256 kB 31.1 MB/s eta 0:00:01\r\u001b[K     |███████████████                 | 266 kB 31.1 MB/s eta 0:00:01\r\u001b[K     |███████████████▋                | 276 kB 31.1 MB/s eta 0:00:01\r\u001b[K     |████████████████▎               | 286 kB 31.1 MB/s eta 0:00:01\r\u001b[K     |████████████████▉               | 296 kB 31.1 MB/s eta 0:00:01\r\u001b[K     |█████████████████▍              | 307 kB 31.1 MB/s eta 0:00:01\r\u001b[K     |██████████████████              | 317 kB 31.1 MB/s eta 0:00:01\r\u001b[K     |██████████████████▋             | 327 kB 31.1 MB/s eta 0:00:01\r\u001b[K     |███████████████████▏            | 337 kB 31.1 MB/s eta 0:00:01\r\u001b[K     |███████████████████▊            | 348 kB 31.1 MB/s eta 0:00:01\r\u001b[K     |████████████████████▎           | 358 kB 31.1 MB/s eta 0:00:01\r\u001b[K     |████████████████████▉           | 368 kB 31.1 MB/s eta 0:00:01\r\u001b[K     |█████████████████████▌          | 378 kB 31.1 MB/s eta 0:00:01\r\u001b[K     |██████████████████████          | 389 kB 31.1 MB/s eta 0:00:01\r\u001b[K     |██████████████████████▋         | 399 kB 31.1 MB/s eta 0:00:01\r\u001b[K     |███████████████████████▏        | 409 kB 31.1 MB/s eta 0:00:01\r\u001b[K     |███████████████████████▉        | 419 kB 31.1 MB/s eta 0:00:01\r\u001b[K     |████████████████████████▍       | 430 kB 31.1 MB/s eta 0:00:01\r\u001b[K     |█████████████████████████       | 440 kB 31.1 MB/s eta 0:00:01\r\u001b[K     |█████████████████████████▌      | 450 kB 31.1 MB/s eta 0:00:01\r\u001b[K     |██████████████████████████      | 460 kB 31.1 MB/s eta 0:00:01\r\u001b[K     |██████████████████████████▊     | 471 kB 31.1 MB/s eta 0:00:01\r\u001b[K     |███████████████████████████▎    | 481 kB 31.1 MB/s eta 0:00:01\r\u001b[K     |███████████████████████████▉    | 491 kB 31.1 MB/s eta 0:00:01\r\u001b[K     |████████████████████████████▍   | 501 kB 31.1 MB/s eta 0:00:01\r\u001b[K     |█████████████████████████████   | 512 kB 31.1 MB/s eta 0:00:01\r\u001b[K     |█████████████████████████████▋  | 522 kB 31.1 MB/s eta 0:00:01\r\u001b[K     |██████████████████████████████▏ | 532 kB 31.1 MB/s eta 0:00:01\r\u001b[K     |██████████████████████████████▊ | 542 kB 31.1 MB/s eta 0:00:01\r\u001b[K     |███████████████████████████████▎| 552 kB 31.1 MB/s eta 0:00:01\r\u001b[K     |████████████████████████████████| 563 kB 31.1 MB/s eta 0:00:01\r\u001b[K     |████████████████████████████████| 564 kB 31.1 MB/s \n",
            "\u001b[?25hRequirement already satisfied: numba in /usr/local/lib/python3.7/dist-packages (from shap) (0.51.2)\n",
            "Requirement already satisfied: scipy in /usr/local/lib/python3.7/dist-packages (from shap) (1.4.1)\n",
            "Requirement already satisfied: tqdm>4.25.0 in /usr/local/lib/python3.7/dist-packages (from shap) (4.62.3)\n",
            "Requirement already satisfied: packaging>20.9 in /usr/local/lib/python3.7/dist-packages (from shap) (21.3)\n",
            "Requirement already satisfied: scikit-learn in /usr/local/lib/python3.7/dist-packages (from shap) (1.0.2)\n",
            "Requirement already satisfied: cloudpickle in /usr/local/lib/python3.7/dist-packages (from shap) (1.3.0)\n",
            "Collecting slicer==0.0.7\n",
            "  Downloading slicer-0.0.7-py3-none-any.whl (14 kB)\n",
            "Requirement already satisfied: numpy in /usr/local/lib/python3.7/dist-packages (from shap) (1.19.5)\n",
            "Requirement already satisfied: pandas in /usr/local/lib/python3.7/dist-packages (from shap) (1.1.5)\n",
            "Requirement already satisfied: pyparsing!=3.0.5,>=2.0.2 in /usr/local/lib/python3.7/dist-packages (from packaging>20.9->shap) (3.0.6)\n",
            "Requirement already satisfied: llvmlite<0.35,>=0.34.0.dev0 in /usr/local/lib/python3.7/dist-packages (from numba->shap) (0.34.0)\n",
            "Requirement already satisfied: setuptools in /usr/local/lib/python3.7/dist-packages (from numba->shap) (57.4.0)\n",
            "Requirement already satisfied: python-dateutil>=2.7.3 in /usr/local/lib/python3.7/dist-packages (from pandas->shap) (2.8.2)\n",
            "Requirement already satisfied: pytz>=2017.2 in /usr/local/lib/python3.7/dist-packages (from pandas->shap) (2018.9)\n",
            "Requirement already satisfied: six>=1.5 in /usr/local/lib/python3.7/dist-packages (from python-dateutil>=2.7.3->pandas->shap) (1.15.0)\n",
            "Requirement already satisfied: threadpoolctl>=2.0.0 in /usr/local/lib/python3.7/dist-packages (from scikit-learn->shap) (3.0.0)\n",
            "Requirement already satisfied: joblib>=0.11 in /usr/local/lib/python3.7/dist-packages (from scikit-learn->shap) (1.1.0)\n",
            "Installing collected packages: slicer, shap\n",
            "Successfully installed shap-0.40.0 slicer-0.0.7\n"
          ]
        }
      ]
    },
    {
      "cell_type": "code",
      "source": [
        "import pandas as pd\n",
        "import xgboost\n",
        "import shap\n",
        "from sklearn.model_selection import train_test_split\n",
        "\n",
        "\n",
        "explainer = shap.Explainer(xgboost_cls)\n",
        "shap_values = explainer(X_train)"
      ],
      "metadata": {
        "id": "n2bW7AC7p8OI"
      },
      "execution_count": 9,
      "outputs": []
    },
    {
      "cell_type": "markdown",
      "source": [
        "# 單一資料解釋"
      ],
      "metadata": {
        "id": "BTXxtTH6q78W"
      }
    },
    {
      "cell_type": "code",
      "source": [
        "X_train[:1]\n",
        "xgboost_cls.predict_proba(X_train[:1])\n"
      ],
      "metadata": {
        "id": "KHmaCrUXrAxk",
        "outputId": "545522e6-74ff-4945-f90f-967053c8d1bf",
        "colab": {
          "base_uri": "https://localhost:8080/"
        }
      },
      "execution_count": 10,
      "outputs": [
        {
          "output_type": "execute_result",
          "data": {
            "text/plain": [
              "array([[0.4710589, 0.5289411]], dtype=float32)"
            ]
          },
          "metadata": {},
          "execution_count": 10
        }
      ]
    },
    {
      "cell_type": "markdown",
      "source": [
        ""
      ],
      "metadata": {
        "id": "Zj8tizXNrFyl"
      }
    },
    {
      "cell_type": "code",
      "source": [
        "shap.plots.waterfall(shap_values[0])\n"
      ],
      "metadata": {
        "id": "kN-C1iKprGe0",
        "outputId": "157f284f-be52-4d2c-93ac-5b2d03e53e31",
        "colab": {
          "base_uri": "https://localhost:8080/",
          "height": 444
        }
      },
      "execution_count": 11,
      "outputs": [
        {
          "output_type": "display_data",
          "data": {
            "image/png": "[encoded data removed]",
            "text/plain": [
              "<Figure size 576x468 with 3 Axes>"
            ]
          },
          "metadata": {}
        }
      ]
    },
    {
      "cell_type": "code",
      "source": [
        "shap.force_plot(explainer.expected_value, shap_values.values[0,:], X_train[0,:])\n"
      ],
      "metadata": {
        "id": "1GE1FDhlrNyo",
        "outputId": "62bd4e8e-6572-4864-8186-f3c7608ea329",
        "colab": {
          "base_uri": "https://localhost:8080/",
          "height": 69
        }
      },
      "execution_count": 13,
      "outputs": [
        {
          "output_type": "execute_result",
          "data": {
            "text/html": [
              "\n",
              "<div id='iM5UF7754JQ7B7JVTPNM3'>\n",
              "<div style='color: #900; text-align: center;'>\n",
              "  <b>Visualization omitted, Javascript library not loaded!</b><br>\n",
              "  Have you run `initjs()` in this notebook? If this notebook was from another\n",
              "  user you must also trust this notebook (File -> Trust notebook). If you are viewing\n",
              "  this notebook on github the Javascript has been stripped for security. If you are using\n",
              "  JupyterLab this error is because a JupyterLab extension has not yet been written.\n",
              "</div></div>\n",
              " <script>\n",
              "   if (window.SHAP) SHAP.ReactDom.render(\n",
              "    SHAP.React.createElement(SHAP.AdditiveForceVisualizer, {\"outNames\": [\"f(x)\"], \"baseValue\": -2.363752841949463, \"outValue\": 0.11589717864990234, \"link\": \"identity\", \"featureNames\": [36.0, 1120.0, 2.0, 999.0, 0.0, -0.1, 93.2, -42.0, 4.12, 5195.8, 0.0, 0.0, 1.0, 0.0, 0.0, 0.0, 0.0, 0.0, 0.0, 0.0, 0.0, 0.0, 0.0, 0.0, 1.0, 0.0, 0.0, 0.0, 0.0, 0.0, 1.0, 0.0, 1.0, 0.0, 0.0, 1.0, 0.0, 0.0, 1.0, 0.0, 0.0, 1.0, 0.0, 0.0, 0.0, 0.0, 0.0, 0.0, 0.0, 0.0, 1.0, 0.0, 0.0, 0.0, 0.0, 0.0, 0.0, 1.0, 0.0, 1.0, 0.0], \"features\": {\"0\": {\"effect\": -0.13219119608402252, \"value\": \"\"}, \"1\": {\"effect\": 3.3059589862823486, \"value\": \"\"}, \"2\": {\"effect\": -0.09527421742677689, \"value\": \"\"}, \"3\": {\"effect\": -0.07050955295562744, \"value\": \"\"}, \"4\": {\"effect\": 0.008552915416657925, \"value\": \"\"}, \"5\": {\"effect\": -0.34147509932518005, \"value\": \"\"}, \"6\": {\"effect\": 0.03660041093826294, \"value\": \"\"}, \"7\": {\"effect\": -0.035351332277059555, \"value\": \"\"}, \"8\": {\"effect\": -0.2083486169576645, \"value\": \"\"}, \"9\": {\"effect\": -0.107007697224617, \"value\": \"\"}, \"10\": {\"effect\": -0.020475098863244057, \"value\": \"\"}, \"11\": {\"effect\": 0.00543593754991889, \"value\": \"\"}, \"13\": {\"effect\": 0.0010686359601095319, \"value\": \"\"}, \"14\": {\"effect\": -0.00014833938621450216, \"value\": \"\"}, \"15\": {\"effect\": -0.00279230042360723, \"value\": \"\"}, \"16\": {\"effect\": 0.006959480233490467, \"value\": \"\"}, \"17\": {\"effect\": 0.0052152955904603004, \"value\": \"\"}, \"18\": {\"effect\": 0.0035159182734787464, \"value\": \"\"}, \"19\": {\"effect\": 0.0029553810600191355, \"value\": \"\"}, \"20\": {\"effect\": -0.00028813467361032963, \"value\": \"\"}, \"21\": {\"effect\": -0.0008804198587313294, \"value\": \"\"}, \"22\": {\"effect\": -0.0035209772177040577, \"value\": \"\"}, \"23\": {\"effect\": 0.021542932838201523, \"value\": \"\"}, \"24\": {\"effect\": -0.0027583076152950525, \"value\": \"\"}, \"25\": {\"effect\": -0.00016142400272656232, \"value\": \"\"}, \"26\": {\"effect\": 0.010664088651537895, \"value\": \"\"}, \"27\": {\"effect\": 0.001221264130435884, \"value\": \"\"}, \"28\": {\"effect\": -0.0007036062306724489, \"value\": \"\"}, \"29\": {\"effect\": -0.00036865126457996666, \"value\": \"\"}, \"30\": {\"effect\": 0.06344474852085114, \"value\": \"\"}, \"31\": {\"effect\": -0.0007162792608141899, \"value\": \"\"}, \"32\": {\"effect\": 0.017534999176859856, \"value\": \"\"}, \"35\": {\"effect\": 0.03846777603030205, \"value\": \"\"}, \"36\": {\"effect\": 0.002175392583012581, \"value\": \"\"}, \"37\": {\"effect\": 0.004959831479936838, \"value\": \"\"}, \"38\": {\"effect\": -0.011539501138031483, \"value\": \"\"}, \"40\": {\"effect\": 0.0017348775872960687, \"value\": \"\"}, \"41\": {\"effect\": 0.008776770904660225, \"value\": \"\"}, \"43\": {\"effect\": -0.014934062026441097, \"value\": \"\"}, \"44\": {\"effect\": -0.0004374838899821043, \"value\": \"\"}, \"45\": {\"effect\": 0.0018865973688662052, \"value\": \"\"}, \"46\": {\"effect\": -0.00022248513414524496, \"value\": \"\"}, \"47\": {\"effect\": 0.0016091668512672186, \"value\": \"\"}, \"48\": {\"effect\": -0.01487375795841217, \"value\": \"\"}, \"49\": {\"effect\": 0.061592549085617065, \"value\": \"\"}, \"50\": {\"effect\": -0.16663752496242523, \"value\": \"\"}, \"51\": {\"effect\": 0.0009304247214458883, \"value\": \"\"}, \"52\": {\"effect\": -0.00026578374672681093, \"value\": \"\"}, \"53\": {\"effect\": 0.004013984464108944, \"value\": \"\"}, \"54\": {\"effect\": 0.005833249073475599, \"value\": \"\"}, \"55\": {\"effect\": -0.025191474705934525, \"value\": \"\"}, \"56\": {\"effect\": -0.004437027964740992, \"value\": \"\"}, \"57\": {\"effect\": 0.08726543933153152, \"value\": \"\"}, \"58\": {\"effect\": 0.03454946354031563, \"value\": \"\"}, \"60\": {\"effect\": -0.0033064093440771103, \"value\": \"\"}}, \"plot_cmap\": \"RdBu\", \"labelMargin\": 20}),\n",
              "    document.getElementById('iM5UF7754JQ7B7JVTPNM3')\n",
              "  );\n",
              "</script>"
            ],
            "text/plain": [
              "<shap.plots._force.AdditiveForceVisualizer at 0x7f58220cced0>"
            ]
          },
          "metadata": {},
          "execution_count": 13
        }
      ]
    },
    {
      "cell_type": "code",
      "source": [
        "shap.summary_plot(shap_values, X_train)\n"
      ],
      "metadata": {
        "id": "AXByaiq9rOnQ",
        "outputId": "e968da67-abd4-43ac-c85d-13b4b6c4bb1a",
        "colab": {
          "base_uri": "https://localhost:8080/",
          "height": 585
        }
      },
      "execution_count": 14,
      "outputs": [
        {
          "output_type": "display_data",
          "data": {
            "image/png": "[encoded data removed]",
            "text/plain": [
              "<Figure size 576x684 with 2 Axes>"
            ]
          },
          "metadata": {
            "needs_background": "light"
          }
        }
      ]
    },
    {
      "cell_type": "code",
      "source": [
        "shap.force_plot(explainer.expected_value, shap_values.values[0:5,:],X[0:5,:], plot_cmap=\"DrDb\")\n"
      ],
      "metadata": {
        "id": "9TovuWsfrQDG",
        "outputId": "ca16baf9-3212-4617-88c6-cb1d6b4b2ea8",
        "colab": {
          "base_uri": "https://localhost:8080/",
          "height": 172
        }
      },
      "execution_count": 15,
      "outputs": [
        {
          "output_type": "error",
          "ename": "AttributeError",
          "evalue": "ignored",
          "traceback": [
            "\u001b[0;31m---------------------------------------------------------------------------\u001b[0m",
            "\u001b[0;31mAttributeError\u001b[0m                            Traceback (most recent call last)",
            "\u001b[0;32m<ipython-input-15-bbf4ebf8d4b5>\u001b[0m in \u001b[0;36m<module>\u001b[0;34m()\u001b[0m\n\u001b[0;32m----> 1\u001b[0;31m \u001b[0mshap\u001b[0m\u001b[0;34m.\u001b[0m\u001b[0mforce_plot\u001b[0m\u001b[0;34m(\u001b[0m\u001b[0mexplainer\u001b[0m\u001b[0;34m.\u001b[0m\u001b[0mexpected_value\u001b[0m\u001b[0;34m,\u001b[0m \u001b[0mshap_values\u001b[0m\u001b[0;34m.\u001b[0m\u001b[0mvalues\u001b[0m\u001b[0;34m[\u001b[0m\u001b[0;36m0\u001b[0m\u001b[0;34m:\u001b[0m\u001b[0;36m5\u001b[0m\u001b[0;34m,\u001b[0m\u001b[0;34m:\u001b[0m\u001b[0;34m]\u001b[0m\u001b[0;34m,\u001b[0m\u001b[0mX\u001b[0m\u001b[0;34m.\u001b[0m\u001b[0miloc\u001b[0m\u001b[0;34m[\u001b[0m\u001b[0;36m0\u001b[0m\u001b[0;34m:\u001b[0m\u001b[0;36m5\u001b[0m\u001b[0;34m,\u001b[0m\u001b[0;34m:\u001b[0m\u001b[0;34m]\u001b[0m\u001b[0;34m,\u001b[0m \u001b[0mplot_cmap\u001b[0m\u001b[0;34m=\u001b[0m\u001b[0;34m\"DrDb\"\u001b[0m\u001b[0;34m)\u001b[0m\u001b[0;34m\u001b[0m\u001b[0;34m\u001b[0m\u001b[0m\n\u001b[0m",
            "\u001b[0;31mAttributeError\u001b[0m: 'numpy.ndarray' object has no attribute 'iloc'"
          ]
        }
      ]
    },
    {
      "cell_type": "code",
      "source": [
        "shap.force_plot(explainer.expected_value, shap_values.values, X_train, plot_cmap=\"DrDb\")\n"
      ],
      "metadata": {
        "id": "rk9tywYBrSh2",
        "outputId": "6741c643-1bf4-43b9-d04c-a33d50a9dfe8",
        "colab": {
          "base_uri": "https://localhost:8080/"
        }
      },
      "execution_count": null,
      "outputs": [
        {
          "output_type": "stream",
          "name": "stderr",
          "text": [
            "shap.plots.force is slow for many thousands of rows, try subsampling your data.\n"
          ]
        }
      ]
    },
    {
      "cell_type": "code",
      "source": [
        "shap.plots.bar(shap_values)\n"
      ],
      "metadata": {
        "id": "uHKPbZyirT_3"
      },
      "execution_count": null,
      "outputs": []
    },
    {
      "cell_type": "code",
      "source": [
        "shap.plots.scatter(shap_values[:, \"Age\"], color=shap_values[:,\"VIP\"])\n"
      ],
      "metadata": {
        "id": "3af2g2nyrWnl"
      },
      "execution_count": null,
      "outputs": []
    },
    {
      "cell_type": "code",
      "source": [
        "shap.plots.scatter(shap_values[:,\"VIP\"], color=shap_values[:,\"Age\"])\n"
      ],
      "metadata": {
        "id": "JZxXTLIDrYRy"
      },
      "execution_count": null,
      "outputs": []
    },
    {
      "cell_type": "code",
      "source": [
        "shap.plots.scatter(shap_values[:,\"Salary\"], color=shap_values[:,\"Salary\"])\n"
      ],
      "metadata": {
        "id": "vwvcDF1lrYtK"
      },
      "execution_count": null,
      "outputs": []
    }
  ]
}