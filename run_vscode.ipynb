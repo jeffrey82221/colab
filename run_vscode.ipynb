{
  "cells": [
    {
      "cell_type": "markdown",
      "metadata": {
        "id": "view-in-github",
        "colab_type": "text"
      },
      "source": [
        "<a href=\"https://colab.research.google.com/github/jeffrey82221/colab/blob/main/run_vscode.ipynb\" target=\"_parent\"><img src=\"https://colab.research.google.com/assets/colab-badge.svg\" alt=\"Open In Colab\"/></a>"
      ]
    },
    {
      "cell_type": "markdown",
      "metadata": {
        "id": "JCY9QnvorNoo"
      },
      "source": [
        "# Setup Environment "
      ]
    },
    {
      "cell_type": "markdown",
      "source": [
        "## downgrade python to 3.6"
      ],
      "metadata": {
        "id": "AHVr2prYM9qc"
      }
    },
    {
      "cell_type": "code",
      "source": [
        "%%bash\n",
        "\n",
        "MINICONDA_INSTALLER_SCRIPT=Miniconda3-4.5.4-Linux-x86_64.sh\n",
        "MINICONDA_PREFIX=/usr/local\n",
        "wget https://repo.continuum.io/miniconda/$MINICONDA_INSTALLER_SCRIPT\n",
        "chmod +x $MINICONDA_INSTALLER_SCRIPT\n",
        "./$MINICONDA_INSTALLER_SCRIPT -b -f -p $MINICONDA_PREFIX"
      ],
      "metadata": {
        "id": "irXdT4GPM770"
      },
      "execution_count": null,
      "outputs": []
    },
    {
      "cell_type": "code",
      "source": [
        "import sys\n",
        "_ = (sys.path.append(\"/usr/local/lib/python3.6/site-packages\"))"
      ],
      "metadata": {
        "id": "mR5UaIvZNDm1"
      },
      "execution_count": 2,
      "outputs": []
    },
    {
      "cell_type": "code",
      "source": [
        "!python --version"
      ],
      "metadata": {
        "colab": {
          "base_uri": "https://localhost:8080/"
        },
        "id": "zM--04I2NQc6",
        "outputId": "7feaae0c-1a28-4d19-e3f6-e0f92444a657"
      },
      "execution_count": 3,
      "outputs": [
        {
          "output_type": "stream",
          "name": "stdout",
          "text": [
            "Python 3.6.5 :: Anaconda, Inc.\n"
          ]
        }
      ]
    },
    {
      "cell_type": "markdown",
      "metadata": {
        "id": "E8E4nTR_rzG3"
      },
      "source": [
        "## mount google drive "
      ]
    },
    {
      "cell_type": "code",
      "execution_count": null,
      "metadata": {
        "id": "r2j_eIRhrlN2"
      },
      "outputs": [],
      "source": [
        "from google.colab import drive\n",
        "drive.mount('/content/drive')"
      ]
    },
    {
      "cell_type": "markdown",
      "metadata": {
        "id": "4zYbNGbar1No"
      },
      "source": [
        "## setup github ssh connection "
      ]
    },
    {
      "cell_type": "code",
      "execution_count": 1,
      "metadata": {
        "colab": {
          "base_uri": "https://localhost:8080/"
        },
        "id": "0L1XtWwvrLpQ",
        "outputId": "e6a68d60-9b87-4c3f-8a50-9086708673d4"
      },
      "outputs": [
        {
          "output_type": "stream",
          "name": "stdout",
          "text": [
            "# github.com:22 SSH-2.0-babeld-06b8a6f1\n",
            "# github.com:22 SSH-2.0-babeld-06b8a6f1\n",
            "# github.com:22 SSH-2.0-babeld-06b8a6f1\n",
            "OpenSSH_7.6p1 Ubuntu-4ubuntu0.6, OpenSSL 1.0.2n  7 Dec 2017\n",
            "debug1: Reading configuration data /root/.ssh/config\n",
            "debug1: /root/.ssh/config line 1: Applying options for github.com\n",
            "debug1: Reading configuration data /etc/ssh/ssh_config\n",
            "debug1: /etc/ssh/ssh_config line 19: Applying options for *\n",
            "debug1: Connecting to github.com [140.82.114.3] port 22.\n",
            "debug1: Connection established.\n",
            "debug1: permanently_set_uid: 0/0\n",
            "debug1: key_load_public: No such file or directory\n",
            "debug1: identity file /root/.ssh/id_colab type -1\n",
            "debug1: key_load_public: No such file or directory\n",
            "debug1: identity file /root/.ssh/id_colab-cert type -1\n",
            "debug1: Local version string SSH-2.0-OpenSSH_7.6p1 Ubuntu-4ubuntu0.6\n",
            "debug1: Remote protocol version 2.0, remote software version babeld-06b8a6f1\n",
            "debug1: no match: babeld-06b8a6f1\n",
            "debug1: Authenticating to github.com:22 as 'git'\n",
            "debug1: SSH2_MSG_KEXINIT sent\n",
            "debug1: SSH2_MSG_KEXINIT received\n",
            "debug1: kex: algorithm: curve25519-sha256\n",
            "debug1: kex: host key algorithm: ecdsa-sha2-nistp256\n",
            "debug1: kex: server->client cipher: chacha20-poly1305@openssh.com MAC: <implicit> compression: none\n",
            "debug1: kex: client->server cipher: chacha20-poly1305@openssh.com MAC: <implicit> compression: none\n",
            "debug1: expecting SSH2_MSG_KEX_ECDH_REPLY\n",
            "debug1: Server host key: ecdsa-sha2-nistp256 SHA256:p2QAMXNIC1TJYWeIOttrVc98/R1BUFWu3/LiyKgUfQM\n",
            "debug1: Host 'github.com' is known and matches the ECDSA host key.\n",
            "debug1: Found key in /root/.ssh/known_hosts:2\n",
            "Warning: Permanently added the ECDSA host key for IP address '140.82.114.3' to the list of known hosts.\n",
            "debug1: rekey after 134217728 blocks\n",
            "debug1: SSH2_MSG_NEWKEYS sent\n",
            "debug1: expecting SSH2_MSG_NEWKEYS\n",
            "debug1: SSH2_MSG_NEWKEYS received\n",
            "debug1: rekey after 134217728 blocks\n",
            "debug1: SSH2_MSG_EXT_INFO received\n",
            "debug1: kex_input_ext_info: server-sig-algs=<ssh-ed25519-cert-v01@openssh.com,ecdsa-sha2-nistp521-cert-v01@openssh.com,ecdsa-sha2-nistp384-cert-v01@openssh.com,ecdsa-sha2-nistp256-cert-v01@openssh.com,sk-ssh-ed25519-cert-v01@openssh.com,sk-ecdsa-sha2-nistp256-cert-v01@openssh.com,rsa-sha2-512-cert-v01@openssh.com,rsa-sha2-256-cert-v01@openssh.com,ssh-rsa-cert-v01@openssh.com,sk-ssh-ed25519@openssh.com,sk-ecdsa-sha2-nistp256@openssh.com,ssh-ed25519,ecdsa-sha2-nistp521,ecdsa-sha2-nistp384,ecdsa-sha2-nistp256,rsa-sha2-512,rsa-sha2-256,ssh-rsa>\n",
            "debug1: SSH2_MSG_SERVICE_ACCEPT received\n",
            "debug1: Authentications that can continue: publickey\n",
            "debug1: Next authentication method: publickey\n",
            "debug1: Trying private key: /root/.ssh/id_colab\n",
            "debug1: Authentication succeeded (publickey).\n",
            "Authenticated to github.com ([140.82.114.3]:22).\n",
            "debug1: channel 0: new [client-session]\n",
            "debug1: Entering interactive session.\n",
            "debug1: pledge: network\n",
            "debug1: client_input_global_request: rtype hostkeys-00@openssh.com want_reply 0\n",
            "debug1: Sending environment.\n",
            "debug1: Sending env LANG = en_US.UTF-8\n",
            "debug1: client_input_channel_req: channel 0 rtype exit-status reply 0\n",
            "Hi jeffrey82221! You've successfully authenticated, but GitHub does not provide shell access.\n",
            "debug1: channel 0: free: client-session, nchannels 1\n",
            "Transferred: sent 2816, received 2292 bytes, in 0.1 seconds\n",
            "Bytes per second: sent 23949.2, received 19492.8\n",
            "debug1: Exit status 1\n"
          ]
        }
      ],
      "source": [
        "!rm -rf /root/.ssh\n",
        "!mkdir /root/.ssh\n",
        "!cp /content/drive/MyDrive/github_secret/config /root/.ssh/\n",
        "!cp /content/drive/MyDrive/github_secret/id_colab /root/.ssh/\n",
        "!chmod 600 /root/.ssh/id_colab\n",
        "!ssh-keyscan github.com >> /root/.ssh/known_hosts \n",
        "!ssh -vT git@github.com\n",
        "!git config --global user.email 'jeffrey82221@gmail.com'\n",
        "!git config --global user.name \"jeffrey82221\""
      ]
    },
    {
      "cell_type": "markdown",
      "metadata": {
        "id": "WUDqhT2JqXXJ"
      },
      "source": [
        "# Run VS Code on Colab\n",
        "\n",
        "https://hackernoon.com/how-to-use-google-colab-with-vs-code-mm1k3765"
      ]
    },
    {
      "cell_type": "markdown",
      "metadata": {
        "id": "g7k4k6MPp9Jx"
      },
      "source": [
        "To use Google Colab with VS Code (code server), you need to install the colabcode python package. This is an awesome open-source python package developed by Abhishek Thakur.\n",
        "\n",
        "\n",
        "\n",
        "\n",
        "\n",
        "To install the package, run the following command in your notebook cell."
      ]
    },
    {
      "cell_type": "code",
      "execution_count": 3,
      "metadata": {
        "id": "pGMVzGbqpo8W"
      },
      "outputs": [],
      "source": [
        "import os\n",
        "os.chdir('/content/drive/MyDrive/github')"
      ]
    },
    {
      "cell_type": "code",
      "execution_count": 4,
      "metadata": {
        "id": "u8qYPD5lpxta",
        "colab": {
          "base_uri": "https://localhost:8080/"
        },
        "outputId": "f5f781c9-a4d1-4128-ee9d-663823d6e473"
      },
      "outputs": [
        {
          "output_type": "stream",
          "name": "stdout",
          "text": [
            "Requirement already satisfied: colabcode in /usr/local/lib/python3.7/dist-packages (from -r vscode_on_colab/requirements.txt (line 1)) (0.3.0)\n",
            "Requirement already satisfied: nest-asyncio==1.4.3 in /usr/local/lib/python3.7/dist-packages (from colabcode->-r vscode_on_colab/requirements.txt (line 1)) (1.4.3)\n",
            "Requirement already satisfied: pyngrok>=5.0.0 in /usr/local/lib/python3.7/dist-packages (from colabcode->-r vscode_on_colab/requirements.txt (line 1)) (5.1.0)\n",
            "Requirement already satisfied: jupyterlab==3.0.7 in /usr/local/lib/python3.7/dist-packages (from colabcode->-r vscode_on_colab/requirements.txt (line 1)) (3.0.7)\n",
            "Requirement already satisfied: uvicorn==0.13.1 in /usr/local/lib/python3.7/dist-packages (from colabcode->-r vscode_on_colab/requirements.txt (line 1)) (0.13.1)\n",
            "Requirement already satisfied: tornado>=6.1.0 in /usr/local/lib/python3.7/dist-packages (from jupyterlab==3.0.7->colabcode->-r vscode_on_colab/requirements.txt (line 1)) (6.1)\n",
            "Requirement already satisfied: jupyter-core in /usr/local/lib/python3.7/dist-packages (from jupyterlab==3.0.7->colabcode->-r vscode_on_colab/requirements.txt (line 1)) (4.10.0)\n",
            "Requirement already satisfied: ipython in /usr/local/lib/python3.7/dist-packages (from jupyterlab==3.0.7->colabcode->-r vscode_on_colab/requirements.txt (line 1)) (5.5.0)\n",
            "Requirement already satisfied: nbclassic~=0.2 in /usr/local/lib/python3.7/dist-packages (from jupyterlab==3.0.7->colabcode->-r vscode_on_colab/requirements.txt (line 1)) (0.3.7)\n",
            "Requirement already satisfied: packaging in /usr/local/lib/python3.7/dist-packages (from jupyterlab==3.0.7->colabcode->-r vscode_on_colab/requirements.txt (line 1)) (21.3)\n",
            "Requirement already satisfied: jupyterlab-server~=2.0 in /usr/local/lib/python3.7/dist-packages (from jupyterlab==3.0.7->colabcode->-r vscode_on_colab/requirements.txt (line 1)) (2.13.0)\n",
            "Requirement already satisfied: jinja2>=2.10 in /usr/local/lib/python3.7/dist-packages (from jupyterlab==3.0.7->colabcode->-r vscode_on_colab/requirements.txt (line 1)) (3.1.2)\n",
            "Requirement already satisfied: jupyter-server~=1.2 in /usr/local/lib/python3.7/dist-packages (from jupyterlab==3.0.7->colabcode->-r vscode_on_colab/requirements.txt (line 1)) (1.17.0)\n",
            "Requirement already satisfied: h11>=0.8 in /usr/local/lib/python3.7/dist-packages (from uvicorn==0.13.1->colabcode->-r vscode_on_colab/requirements.txt (line 1)) (0.13.0)\n",
            "Requirement already satisfied: click==7.* in /usr/local/lib/python3.7/dist-packages (from uvicorn==0.13.1->colabcode->-r vscode_on_colab/requirements.txt (line 1)) (7.1.2)\n",
            "Requirement already satisfied: typing-extensions in /usr/local/lib/python3.7/dist-packages (from uvicorn==0.13.1->colabcode->-r vscode_on_colab/requirements.txt (line 1)) (4.2.0)\n",
            "Requirement already satisfied: MarkupSafe>=2.0 in /usr/local/lib/python3.7/dist-packages (from jinja2>=2.10->jupyterlab==3.0.7->colabcode->-r vscode_on_colab/requirements.txt (line 1)) (2.0.1)\n",
            "Requirement already satisfied: nbformat>=5.2.0 in /usr/local/lib/python3.7/dist-packages (from jupyter-server~=1.2->jupyterlab==3.0.7->colabcode->-r vscode_on_colab/requirements.txt (line 1)) (5.3.0)\n",
            "Requirement already satisfied: websocket-client in /usr/local/lib/python3.7/dist-packages (from jupyter-server~=1.2->jupyterlab==3.0.7->colabcode->-r vscode_on_colab/requirements.txt (line 1)) (1.3.2)\n",
            "Requirement already satisfied: pyzmq>=17 in /usr/local/lib/python3.7/dist-packages (from jupyter-server~=1.2->jupyterlab==3.0.7->colabcode->-r vscode_on_colab/requirements.txt (line 1)) (22.3.0)\n",
            "Requirement already satisfied: nbconvert>=6.4.4 in /usr/local/lib/python3.7/dist-packages (from jupyter-server~=1.2->jupyterlab==3.0.7->colabcode->-r vscode_on_colab/requirements.txt (line 1)) (6.5.0)\n",
            "Requirement already satisfied: terminado>=0.8.3 in /usr/local/lib/python3.7/dist-packages (from jupyter-server~=1.2->jupyterlab==3.0.7->colabcode->-r vscode_on_colab/requirements.txt (line 1)) (0.13.3)\n",
            "Requirement already satisfied: anyio<4,>=3.1.0 in /usr/local/lib/python3.7/dist-packages (from jupyter-server~=1.2->jupyterlab==3.0.7->colabcode->-r vscode_on_colab/requirements.txt (line 1)) (3.6.1)\n",
            "Requirement already satisfied: Send2Trash in /usr/local/lib/python3.7/dist-packages (from jupyter-server~=1.2->jupyterlab==3.0.7->colabcode->-r vscode_on_colab/requirements.txt (line 1)) (1.8.0)\n",
            "Requirement already satisfied: traitlets>=5.1 in /usr/local/lib/python3.7/dist-packages (from jupyter-server~=1.2->jupyterlab==3.0.7->colabcode->-r vscode_on_colab/requirements.txt (line 1)) (5.1.1)\n",
            "Requirement already satisfied: jupyter-client>=6.1.12 in /usr/local/lib/python3.7/dist-packages (from jupyter-server~=1.2->jupyterlab==3.0.7->colabcode->-r vscode_on_colab/requirements.txt (line 1)) (6.1.12)\n",
            "Requirement already satisfied: argon2-cffi in /usr/local/lib/python3.7/dist-packages (from jupyter-server~=1.2->jupyterlab==3.0.7->colabcode->-r vscode_on_colab/requirements.txt (line 1)) (21.3.0)\n",
            "Requirement already satisfied: prometheus-client in /usr/local/lib/python3.7/dist-packages (from jupyter-server~=1.2->jupyterlab==3.0.7->colabcode->-r vscode_on_colab/requirements.txt (line 1)) (0.14.1)\n",
            "Requirement already satisfied: idna>=2.8 in /usr/local/lib/python3.7/dist-packages (from anyio<4,>=3.1.0->jupyter-server~=1.2->jupyterlab==3.0.7->colabcode->-r vscode_on_colab/requirements.txt (line 1)) (2.10)\n",
            "Requirement already satisfied: sniffio>=1.1 in /usr/local/lib/python3.7/dist-packages (from anyio<4,>=3.1.0->jupyter-server~=1.2->jupyterlab==3.0.7->colabcode->-r vscode_on_colab/requirements.txt (line 1)) (1.2.0)\n",
            "Requirement already satisfied: python-dateutil>=2.1 in /usr/local/lib/python3.7/dist-packages (from jupyter-client>=6.1.12->jupyter-server~=1.2->jupyterlab==3.0.7->colabcode->-r vscode_on_colab/requirements.txt (line 1)) (2.8.2)\n",
            "Requirement already satisfied: jsonschema>=3.0.1 in /usr/local/lib/python3.7/dist-packages (from jupyterlab-server~=2.0->jupyterlab==3.0.7->colabcode->-r vscode_on_colab/requirements.txt (line 1)) (4.3.3)\n",
            "Requirement already satisfied: importlib-metadata>=3.6 in /usr/local/lib/python3.7/dist-packages (from jupyterlab-server~=2.0->jupyterlab==3.0.7->colabcode->-r vscode_on_colab/requirements.txt (line 1)) (4.11.3)\n",
            "Requirement already satisfied: babel in /usr/local/lib/python3.7/dist-packages (from jupyterlab-server~=2.0->jupyterlab==3.0.7->colabcode->-r vscode_on_colab/requirements.txt (line 1)) (2.10.1)\n",
            "Requirement already satisfied: json5 in /usr/local/lib/python3.7/dist-packages (from jupyterlab-server~=2.0->jupyterlab==3.0.7->colabcode->-r vscode_on_colab/requirements.txt (line 1)) (0.9.8)\n",
            "Requirement already satisfied: requests in /usr/local/lib/python3.7/dist-packages (from jupyterlab-server~=2.0->jupyterlab==3.0.7->colabcode->-r vscode_on_colab/requirements.txt (line 1)) (2.23.0)\n",
            "Requirement already satisfied: zipp>=0.5 in /usr/local/lib/python3.7/dist-packages (from importlib-metadata>=3.6->jupyterlab-server~=2.0->jupyterlab==3.0.7->colabcode->-r vscode_on_colab/requirements.txt (line 1)) (3.8.0)\n",
            "Requirement already satisfied: attrs>=17.4.0 in /usr/local/lib/python3.7/dist-packages (from jsonschema>=3.0.1->jupyterlab-server~=2.0->jupyterlab==3.0.7->colabcode->-r vscode_on_colab/requirements.txt (line 1)) (21.4.0)\n",
            "Requirement already satisfied: pyrsistent!=0.17.0,!=0.17.1,!=0.17.2,>=0.14.0 in /usr/local/lib/python3.7/dist-packages (from jsonschema>=3.0.1->jupyterlab-server~=2.0->jupyterlab==3.0.7->colabcode->-r vscode_on_colab/requirements.txt (line 1)) (0.18.1)\n",
            "Requirement already satisfied: importlib-resources>=1.4.0 in /usr/local/lib/python3.7/dist-packages (from jsonschema>=3.0.1->jupyterlab-server~=2.0->jupyterlab==3.0.7->colabcode->-r vscode_on_colab/requirements.txt (line 1)) (5.7.1)\n",
            "Requirement already satisfied: notebook-shim>=0.1.0 in /usr/local/lib/python3.7/dist-packages (from nbclassic~=0.2->jupyterlab==3.0.7->colabcode->-r vscode_on_colab/requirements.txt (line 1)) (0.1.0)\n",
            "Requirement already satisfied: notebook<7 in /usr/local/lib/python3.7/dist-packages (from nbclassic~=0.2->jupyterlab==3.0.7->colabcode->-r vscode_on_colab/requirements.txt (line 1)) (5.3.1)\n",
            "Requirement already satisfied: bleach in /usr/local/lib/python3.7/dist-packages (from nbconvert>=6.4.4->jupyter-server~=1.2->jupyterlab==3.0.7->colabcode->-r vscode_on_colab/requirements.txt (line 1)) (5.0.0)\n",
            "Requirement already satisfied: mistune<2,>=0.8.1 in /usr/local/lib/python3.7/dist-packages (from nbconvert>=6.4.4->jupyter-server~=1.2->jupyterlab==3.0.7->colabcode->-r vscode_on_colab/requirements.txt (line 1)) (0.8.4)\n",
            "Requirement already satisfied: defusedxml in /usr/local/lib/python3.7/dist-packages (from nbconvert>=6.4.4->jupyter-server~=1.2->jupyterlab==3.0.7->colabcode->-r vscode_on_colab/requirements.txt (line 1)) (0.7.1)\n",
            "Requirement already satisfied: jupyterlab-pygments in /usr/local/lib/python3.7/dist-packages (from nbconvert>=6.4.4->jupyter-server~=1.2->jupyterlab==3.0.7->colabcode->-r vscode_on_colab/requirements.txt (line 1)) (0.2.2)\n",
            "Requirement already satisfied: entrypoints>=0.2.2 in /usr/local/lib/python3.7/dist-packages (from nbconvert>=6.4.4->jupyter-server~=1.2->jupyterlab==3.0.7->colabcode->-r vscode_on_colab/requirements.txt (line 1)) (0.4)\n",
            "Requirement already satisfied: pandocfilters>=1.4.1 in /usr/local/lib/python3.7/dist-packages (from nbconvert>=6.4.4->jupyter-server~=1.2->jupyterlab==3.0.7->colabcode->-r vscode_on_colab/requirements.txt (line 1)) (1.5.0)\n",
            "Requirement already satisfied: pygments>=2.4.1 in /usr/local/lib/python3.7/dist-packages (from nbconvert>=6.4.4->jupyter-server~=1.2->jupyterlab==3.0.7->colabcode->-r vscode_on_colab/requirements.txt (line 1)) (2.6.1)\n",
            "Requirement already satisfied: tinycss2 in /usr/local/lib/python3.7/dist-packages (from nbconvert>=6.4.4->jupyter-server~=1.2->jupyterlab==3.0.7->colabcode->-r vscode_on_colab/requirements.txt (line 1)) (1.1.1)\n",
            "Requirement already satisfied: beautifulsoup4 in /usr/local/lib/python3.7/dist-packages (from nbconvert>=6.4.4->jupyter-server~=1.2->jupyterlab==3.0.7->colabcode->-r vscode_on_colab/requirements.txt (line 1)) (4.6.3)\n",
            "Requirement already satisfied: nbclient>=0.5.0 in /usr/local/lib/python3.7/dist-packages (from nbconvert>=6.4.4->jupyter-server~=1.2->jupyterlab==3.0.7->colabcode->-r vscode_on_colab/requirements.txt (line 1)) (0.6.2)\n",
            "Requirement already satisfied: fastjsonschema in /usr/local/lib/python3.7/dist-packages (from nbformat>=5.2.0->jupyter-server~=1.2->jupyterlab==3.0.7->colabcode->-r vscode_on_colab/requirements.txt (line 1)) (2.15.3)\n",
            "Requirement already satisfied: ipython-genutils in /usr/local/lib/python3.7/dist-packages (from notebook<7->nbclassic~=0.2->jupyterlab==3.0.7->colabcode->-r vscode_on_colab/requirements.txt (line 1)) (0.2.0)\n",
            "Requirement already satisfied: ipykernel in /usr/local/lib/python3.7/dist-packages (from notebook<7->nbclassic~=0.2->jupyterlab==3.0.7->colabcode->-r vscode_on_colab/requirements.txt (line 1)) (4.10.1)\n",
            "Requirement already satisfied: PyYAML in /usr/local/lib/python3.7/dist-packages (from pyngrok>=5.0.0->colabcode->-r vscode_on_colab/requirements.txt (line 1)) (5.4.1)\n",
            "Requirement already satisfied: six>=1.5 in /usr/local/lib/python3.7/dist-packages (from python-dateutil>=2.1->jupyter-client>=6.1.12->jupyter-server~=1.2->jupyterlab==3.0.7->colabcode->-r vscode_on_colab/requirements.txt (line 1)) (1.15.0)\n",
            "Requirement already satisfied: ptyprocess in /usr/local/lib/python3.7/dist-packages (from terminado>=0.8.3->jupyter-server~=1.2->jupyterlab==3.0.7->colabcode->-r vscode_on_colab/requirements.txt (line 1)) (0.7.0)\n",
            "Requirement already satisfied: argon2-cffi-bindings in /usr/local/lib/python3.7/dist-packages (from argon2-cffi->jupyter-server~=1.2->jupyterlab==3.0.7->colabcode->-r vscode_on_colab/requirements.txt (line 1)) (21.2.0)\n",
            "Requirement already satisfied: cffi>=1.0.1 in /usr/local/lib/python3.7/dist-packages (from argon2-cffi-bindings->argon2-cffi->jupyter-server~=1.2->jupyterlab==3.0.7->colabcode->-r vscode_on_colab/requirements.txt (line 1)) (1.15.0)\n",
            "Requirement already satisfied: pycparser in /usr/local/lib/python3.7/dist-packages (from cffi>=1.0.1->argon2-cffi-bindings->argon2-cffi->jupyter-server~=1.2->jupyterlab==3.0.7->colabcode->-r vscode_on_colab/requirements.txt (line 1)) (2.21)\n",
            "Requirement already satisfied: pytz>=2015.7 in /usr/local/lib/python3.7/dist-packages (from babel->jupyterlab-server~=2.0->jupyterlab==3.0.7->colabcode->-r vscode_on_colab/requirements.txt (line 1)) (2022.1)\n",
            "Requirement already satisfied: webencodings in /usr/local/lib/python3.7/dist-packages (from bleach->nbconvert>=6.4.4->jupyter-server~=1.2->jupyterlab==3.0.7->colabcode->-r vscode_on_colab/requirements.txt (line 1)) (0.5.1)\n",
            "Requirement already satisfied: pexpect in /usr/local/lib/python3.7/dist-packages (from ipython->jupyterlab==3.0.7->colabcode->-r vscode_on_colab/requirements.txt (line 1)) (4.8.0)\n",
            "Requirement already satisfied: decorator in /usr/local/lib/python3.7/dist-packages (from ipython->jupyterlab==3.0.7->colabcode->-r vscode_on_colab/requirements.txt (line 1)) (4.4.2)\n",
            "Requirement already satisfied: pickleshare in /usr/local/lib/python3.7/dist-packages (from ipython->jupyterlab==3.0.7->colabcode->-r vscode_on_colab/requirements.txt (line 1)) (0.7.5)\n",
            "Requirement already satisfied: prompt-toolkit<2.0.0,>=1.0.4 in /usr/local/lib/python3.7/dist-packages (from ipython->jupyterlab==3.0.7->colabcode->-r vscode_on_colab/requirements.txt (line 1)) (1.0.18)\n",
            "Requirement already satisfied: setuptools>=18.5 in /usr/local/lib/python3.7/dist-packages (from ipython->jupyterlab==3.0.7->colabcode->-r vscode_on_colab/requirements.txt (line 1)) (57.4.0)\n",
            "Requirement already satisfied: simplegeneric>0.8 in /usr/local/lib/python3.7/dist-packages (from ipython->jupyterlab==3.0.7->colabcode->-r vscode_on_colab/requirements.txt (line 1)) (0.8.1)\n",
            "Requirement already satisfied: wcwidth in /usr/local/lib/python3.7/dist-packages (from prompt-toolkit<2.0.0,>=1.0.4->ipython->jupyterlab==3.0.7->colabcode->-r vscode_on_colab/requirements.txt (line 1)) (0.2.5)\n",
            "Requirement already satisfied: pyparsing!=3.0.5,>=2.0.2 in /usr/local/lib/python3.7/dist-packages (from packaging->jupyterlab==3.0.7->colabcode->-r vscode_on_colab/requirements.txt (line 1)) (3.0.8)\n",
            "Requirement already satisfied: urllib3!=1.25.0,!=1.25.1,<1.26,>=1.21.1 in /usr/local/lib/python3.7/dist-packages (from requests->jupyterlab-server~=2.0->jupyterlab==3.0.7->colabcode->-r vscode_on_colab/requirements.txt (line 1)) (1.24.3)\n",
            "Requirement already satisfied: chardet<4,>=3.0.2 in /usr/local/lib/python3.7/dist-packages (from requests->jupyterlab-server~=2.0->jupyterlab==3.0.7->colabcode->-r vscode_on_colab/requirements.txt (line 1)) (3.0.4)\n",
            "Requirement already satisfied: certifi>=2017.4.17 in /usr/local/lib/python3.7/dist-packages (from requests->jupyterlab-server~=2.0->jupyterlab==3.0.7->colabcode->-r vscode_on_colab/requirements.txt (line 1)) (2021.10.8)\n",
            "Authtoken saved to configuration file: /root/.ngrok2/ngrok.yml\n"
          ]
        }
      ],
      "source": [
        "!pip install -r vscode_on_colab/requirements.txt\n",
        "!ngrok authtoken 296zATB6WYNOnhCSqlQJYyxwTor_69pPVvPvKTrskkTva7ok"
      ]
    },
    {
      "cell_type": "code",
      "execution_count": null,
      "metadata": {
        "colab": {
          "base_uri": "https://localhost:8080/"
        },
        "id": "9OaHYIoup_lD",
        "outputId": "6b47f989-2468-4f99-f54c-1de2925da3c7"
      },
      "outputs": [
        {
          "metadata": {
            "tags": null
          },
          "name": "stdout",
          "output_type": "stream",
          "text": [
            "--2022-05-13 16:33:58--  https://code-server.dev/install.sh\n",
            "Resolving code-server.dev (code-server.dev)... 172.67.214.225, 104.21.16.171, 2606:4700:3031::ac43:d6e1, ...\n",
            "Connecting to code-server.dev (code-server.dev)|172.67.214.225|:443... connected.\n",
            "HTTP request sent, awaiting response... 302 Found\n",
            "Location: https://raw.githubusercontent.com/cdr/code-server/main/install.sh [following]\n",
            "--2022-05-13 16:33:58--  https://raw.githubusercontent.com/cdr/code-server/main/install.sh\n",
            "Resolving raw.githubusercontent.com (raw.githubusercontent.com)... 185.199.108.133, 185.199.109.133, 185.199.110.133, ...\n",
            "Connecting to raw.githubusercontent.com (raw.githubusercontent.com)|185.199.108.133|:443... connected.\n",
            "HTTP request sent, awaiting response... 200 OK\n",
            "Length: 15572 (15K) [text/plain]\n",
            "Saving to: ‘install.sh.10’\n",
            "\n",
            "install.sh.10       100%[===================>]  15.21K  --.-KB/s    in 0.003s  \n",
            "\n",
            "2022-05-13 16:33:58 (5.14 MB/s) - ‘install.sh.10’ saved [15572/15572]\n",
            "\n",
            "Installing extensions...\n",
            "Server returned 404\n",
            "[2022-05-13T16:34:05.716Z] \u001b[38;2;176;0;0merror \u001b[0m\u001b[38;2;120;239;233mvscode \u001b[0mFailed Installing Extensions: ms-python.python\u001b[0m\n",
            "[2022-05-13T16:34:05.718Z] \u001b[38;2;176;0;0merror \u001b[0m\u001b[38;2;120;239;233mvscode \u001b[0mError: Failed Installing Extensions: ms-python.python\n",
            "    at O.installExtensions (/usr/lib/code-server/lib/vscode/out/vs/server/entry.js:19:42)\n",
            "    at processTicksAndRejections (internal/process/task_queues.js:97:5)\n",
            "    at async /usr/lib/code-server/lib/vscode/out/vs/server/entry.js:36:90861\n",
            "    at async M (/usr/lib/code-server/lib/vscode/out/vs/server/entry.js:36:94206)\n",
            "    at async process.<anonymous> (/usr/lib/code-server/lib/vscode/out/vs/server/entry.js:36:103823)\u001b[0m\n",
            "Installing extensions...\n",
            "Server returned 404\n",
            "[2022-05-13T16:34:07.034Z] \u001b[38;2;176;0;0merror \u001b[0m\u001b[38;2;120;239;233mvscode \u001b[0mFailed Installing Extensions: ms-toolsai.jupyter\u001b[0m\n",
            "[2022-05-13T16:34:07.035Z] \u001b[38;2;176;0;0merror \u001b[0m\u001b[38;2;120;239;233mvscode \u001b[0mError: Failed Installing Extensions: ms-toolsai.jupyter\n",
            "    at O.installExtensions (/usr/lib/code-server/lib/vscode/out/vs/server/entry.js:19:42)\n",
            "    at processTicksAndRejections (internal/process/task_queues.js:97:5)\n",
            "    at async /usr/lib/code-server/lib/vscode/out/vs/server/entry.js:36:90861\n",
            "    at async M (/usr/lib/code-server/lib/vscode/out/vs/server/entry.js:36:94206)\n",
            "    at async process.<anonymous> (/usr/lib/code-server/lib/vscode/out/vs/server/entry.js:36:103823)\u001b[0m\n",
            "Installing extensions...\n",
            "Extension 'mechatroner.rainbow-csv' v0.3.0 is already installed. Use '--force' option to update to latest version or provide '@<version>' to install a specific version, for example: 'mechatroner.rainbow-csv@1.2.3'.\n",
            "Installing extensions...\n",
            "Extension 'vscode-icons-team.vscode-icons' v10.0.0 is already installed. Use '--force' option to update to latest version or provide '@<version>' to install a specific version, for example: 'vscode-icons-team.vscode-icons@1.2.3'.\n",
            "Code Server can be accessed on: NgrokTunnel: \"https://5f4a-104-196-108-146.ngrok.io\" -> \"http://localhost:8000\"\n",
            "[2022-05-13T16:34:10.121Z] info  code-server 3.10.2 387b12ef4ca404ffd39d84834e1f0776e9e3c005\n",
            "[2022-05-13T16:34:10.122Z] info  Using user-data-dir ~/.local/share/code-server\n",
            "[2022-05-13T16:34:10.145Z] info  Using config file ~/.config/code-server/config.yaml\n",
            "[2022-05-13T16:34:10.145Z] info  HTTP server listening on http://127.0.0.1:8000 \n",
            "[2022-05-13T16:34:10.145Z] info    - Authentication is enabled\n",
            "[2022-05-13T16:34:10.145Z] info      - Using password from $PASSWORD\n",
            "[2022-05-13T16:34:10.145Z] info    - Not serving HTTPS \n",
            "  ERR [File Watcher (chokidar)] Inotify limit reached (ENOSPC)\n",
            "  ERR [File Watcher (chokidar)] Inotify limit reached (ENOSPC)\n",
            "tcmalloc: large alloc 1398005760 bytes == 0x582c2000 @  0x7f342382e162 0x987a6f 0xed8123 0xc12384 0xc1463e 0x140df99 0x138f05a 0x145581a 0x1400a25 0x138f05a 0xfea30f77e1e 0x138cd7c 0x138ef37 0x14720c0 0x1393724 0xfea30f79a19 0x1393724 0x1393724 0xfea3104277b 0x13bdfd3 0x13e26d2 0x13b045a 0x1390bf8 0xcecc80 0xced3ff 0xd13a96 0x986254 0xa169f2 0xa21d4a 0x136f635 0x1373d4e\n",
            "tcmalloc: large alloc 1398005760 bytes == 0xab81a000 @  0x7f342382e162 0x987a6f 0xed8123 0xc12384 0xc1463e 0x140df99 0x138f05a 0x145581a 0x1400a25 0x138f05a 0xfea30f77e1e 0x138cd7c 0x138ef37 0x14720c0 0x1393724 0xfea30f79a19 0x1393724 0x1393724 0x1393724 0x1393724 0x139bf33 0x146974b 0x1393724 0x1393724 0x1393724 0x13e26d2 0x13b045a 0x1390bf8 0xcecc80 0xced3ff 0xd13a96\n",
            "tcmalloc: large alloc 1398005760 bytes == 0xff60a000 @  0x7f342382e162 0x987a6f 0xed8123 0xc12384 0xc1463e 0x140df99 0x138f05a 0x145581a 0x1400a25 0x138f05a 0xfea30f77e1e 0x138cd7c 0x138ef37 0x14720c0 0x1393724 0xfea30f79a19 0x1393724 0x1393724 0x1393724 0x1393724 0x1393724 0x1393724 0x1393724 0x1390c9d 0x1390a78 0xceca30 0xcecee8 0xbac32b 0x9858bb 0x9bc570 0x137c0ac\n",
            " WARN No ptyHost heartbeat after 6 seconds\n",
            " WARN No ptyHost heartbeat after 6 seconds\n",
            "[2022-05-13T16:43:02.064Z] warn  vscode Uncaught error \u001b[38;2;140;140;140m{\"error\":\"read ECONNRESET\"}\u001b[0m\n",
            "[IPC Library: Pty Host]  INFO Persistent process \"1\": Replaying 7000 chars and 3 size events\n",
            "  ERR [File Watcher (chokidar)] Inotify limit reached (ENOSPC)\n",
            "  ERR [File Watcher (chokidar)] Inotify limit reached (ENOSPC)\n"
          ]
        }
      ],
      "source": [
        "!python vscode_on_colab/start.py"
      ]
    }
  ],
  "metadata": {
    "colab": {
      "collapsed_sections": [],
      "name": "run_vscode.ipynb",
      "provenance": [],
      "authorship_tag": "ABX9TyNrWBgnN/MtRf9SerZ20BKd",
      "include_colab_link": true
    },
    "kernelspec": {
      "display_name": "Python 3",
      "name": "python3"
    },
    "language_info": {
      "name": "python"
    }
  },
  "nbformat": 4,
  "nbformat_minor": 0
}