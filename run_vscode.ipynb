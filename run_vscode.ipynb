{
  "nbformat": 4,
  "nbformat_minor": 0,
  "metadata": {
    "colab": {
      "name": "run_vscode.ipynb",
      "provenance": [],
      "collapsed_sections": [],
      "authorship_tag": "ABX9TyMyZG6wCmR2bu+SWpeZFLS2",
      "include_colab_link": true
    },
    "kernelspec": {
      "name": "python3",
      "display_name": "Python 3"
    },
    "language_info": {
      "name": "python"
    }
  },
  "cells": [
    {
      "cell_type": "markdown",
      "metadata": {
        "id": "view-in-github",
        "colab_type": "text"
      },
      "source": [
        "<a href=\"https://colab.research.google.com/github/jeffrey82221/colab/blob/main/run_vscode.ipynb\" target=\"_parent\"><img src=\"https://colab.research.google.com/assets/colab-badge.svg\" alt=\"Open In Colab\"/></a>"
      ]
    },
    {
      "cell_type": "markdown",
      "metadata": {
        "id": "JCY9QnvorNoo"
      },
      "source": [
        "# Setup Environment "
      ]
    },
    {
      "cell_type": "markdown",
      "metadata": {
        "id": "E8E4nTR_rzG3"
      },
      "source": [
        "## mount google drive "
      ]
    },
    {
      "cell_type": "code",
      "metadata": {
        "colab": {
          "base_uri": "https://localhost:8080/"
        },
        "id": "r2j_eIRhrlN2",
        "outputId": "67eb4da0-fbd3-4c94-ea31-cecb9af91ef5"
      },
      "source": [
        "from google.colab import drive\n",
        "drive.mount('/content/drive')"
      ],
      "execution_count": 2,
      "outputs": [
        {
          "output_type": "stream",
          "name": "stdout",
          "text": [
            "Mounted at /content/drive\n"
          ]
        }
      ]
    },
    {
      "cell_type": "markdown",
      "metadata": {
        "id": "4zYbNGbar1No"
      },
      "source": [
        "## setup github ssh connection "
      ]
    },
    {
      "cell_type": "code",
      "metadata": {
        "colab": {
          "base_uri": "https://localhost:8080/"
        },
        "id": "0L1XtWwvrLpQ",
        "outputId": "fca7f4a4-d6b5-4b66-9e51-3825f99bc258"
      },
      "source": [
        "!rm -rf /root/.ssh\n",
        "!mkdir /root/.ssh\n",
        "!cp /content/drive/MyDrive/github_secret/config /root/.ssh/\n",
        "!cp /content/drive/MyDrive/github_secret/id_colab /root/.ssh/\n",
        "!chmod 600 /root/.ssh/id_colab\n",
        "!ssh-keyscan github.com >> /root/.ssh/known_hosts \n",
        "!ssh -vT git@github.com"
      ],
      "execution_count": 3,
      "outputs": [
        {
          "output_type": "stream",
          "name": "stdout",
          "text": [
            "# github.com:22 SSH-2.0-babeld-a73e1397\n",
            "# github.com:22 SSH-2.0-babeld-a73e1397\n",
            "# github.com:22 SSH-2.0-babeld-a73e1397\n",
            "OpenSSH_7.6p1 Ubuntu-4ubuntu0.5, OpenSSL 1.0.2n  7 Dec 2017\n",
            "debug1: Reading configuration data /root/.ssh/config\n",
            "debug1: /root/.ssh/config line 1: Applying options for github.com\n",
            "debug1: Reading configuration data /etc/ssh/ssh_config\n",
            "debug1: /etc/ssh/ssh_config line 19: Applying options for *\n",
            "debug1: Connecting to github.com [140.82.114.3] port 22.\n",
            "debug1: Connection established.\n",
            "debug1: permanently_set_uid: 0/0\n",
            "debug1: key_load_public: No such file or directory\n",
            "debug1: identity file /root/.ssh/id_colab type -1\n",
            "debug1: key_load_public: No such file or directory\n",
            "debug1: identity file /root/.ssh/id_colab-cert type -1\n",
            "debug1: Local version string SSH-2.0-OpenSSH_7.6p1 Ubuntu-4ubuntu0.5\n",
            "debug1: Remote protocol version 2.0, remote software version babeld-a73e1397\n",
            "debug1: no match: babeld-a73e1397\n",
            "debug1: Authenticating to github.com:22 as 'git'\n",
            "debug1: SSH2_MSG_KEXINIT sent\n",
            "debug1: SSH2_MSG_KEXINIT received\n",
            "debug1: kex: algorithm: curve25519-sha256\n",
            "debug1: kex: host key algorithm: ecdsa-sha2-nistp256\n",
            "debug1: kex: server->client cipher: chacha20-poly1305@openssh.com MAC: <implicit> compression: none\n",
            "debug1: kex: client->server cipher: chacha20-poly1305@openssh.com MAC: <implicit> compression: none\n",
            "debug1: expecting SSH2_MSG_KEX_ECDH_REPLY\n",
            "debug1: Server host key: ecdsa-sha2-nistp256 SHA256:p2QAMXNIC1TJYWeIOttrVc98/R1BUFWu3/LiyKgUfQM\n",
            "debug1: Host 'github.com' is known and matches the ECDSA host key.\n",
            "debug1: Found key in /root/.ssh/known_hosts:2\n",
            "Warning: Permanently added the ECDSA host key for IP address '140.82.114.3' to the list of known hosts.\n",
            "debug1: rekey after 134217728 blocks\n",
            "debug1: SSH2_MSG_NEWKEYS sent\n",
            "debug1: expecting SSH2_MSG_NEWKEYS\n",
            "debug1: SSH2_MSG_NEWKEYS received\n",
            "debug1: rekey after 134217728 blocks\n",
            "debug1: SSH2_MSG_EXT_INFO received\n",
            "debug1: kex_input_ext_info: server-sig-algs=<ssh-ed25519-cert-v01@openssh.com,ecdsa-sha2-nistp521-cert-v01@openssh.com,ecdsa-sha2-nistp384-cert-v01@openssh.com,ecdsa-sha2-nistp256-cert-v01@openssh.com,sk-ssh-ed25519-cert-v01@openssh.com,sk-ecdsa-sha2-nistp256-cert-v01@openssh.com,rsa-sha2-512-cert-v01@openssh.com,rsa-sha2-256-cert-v01@openssh.com,ssh-rsa-cert-v01@openssh.com,ssh-dss-cert-v01@openssh.com,sk-ssh-ed25519@openssh.com,sk-ecdsa-sha2-nistp256@openssh.com,ssh-ed25519,ecdsa-sha2-nistp521,ecdsa-sha2-nistp384,ecdsa-sha2-nistp256,rsa-sha2-512,rsa-sha2-256,ssh-rsa,ssh-dss>\n",
            "debug1: SSH2_MSG_SERVICE_ACCEPT received\n",
            "debug1: Authentications that can continue: publickey\n",
            "debug1: Next authentication method: publickey\n",
            "debug1: Trying private key: /root/.ssh/id_colab\n",
            "debug1: Authentication succeeded (publickey).\n",
            "Authenticated to github.com ([140.82.114.3]:22).\n",
            "debug1: channel 0: new [client-session]\n",
            "debug1: Entering interactive session.\n",
            "debug1: pledge: network\n",
            "debug1: client_input_global_request: rtype hostkeys-00@openssh.com want_reply 0\n",
            "debug1: Sending environment.\n",
            "debug1: Sending env LANG = en_US.UTF-8\n",
            "debug1: client_input_channel_req: channel 0 rtype exit-status reply 0\n",
            "Hi jeffrey82221! You've successfully authenticated, but GitHub does not provide shell access.\n",
            "debug1: channel 0: free: client-session, nchannels 1\n",
            "Transferred: sent 2816, received 2468 bytes, in 0.1 seconds\n",
            "Bytes per second: sent 25750.6, received 22568.3\n",
            "debug1: Exit status 1\n"
          ]
        }
      ]
    },
    {
      "cell_type": "markdown",
      "metadata": {
        "id": "WUDqhT2JqXXJ"
      },
      "source": [
        "# Run VS Code on Colab\n",
        "\n",
        "https://hackernoon.com/how-to-use-google-colab-with-vs-code-mm1k3765"
      ]
    },
    {
      "cell_type": "markdown",
      "metadata": {
        "id": "g7k4k6MPp9Jx"
      },
      "source": [
        "To use Google Colab with VS Code (code server), you need to install the colabcode python package. This is an awesome open-source python package developed by Abhishek Thakur.\n",
        "\n",
        "\n",
        "\n",
        "\n",
        "\n",
        "To install the package, run the following command in your notebook cell."
      ]
    },
    {
      "cell_type": "code",
      "metadata": {
        "id": "pGMVzGbqpo8W"
      },
      "source": [
        "import os\n",
        "os.chdir('/content/drive/MyDrive/github')"
      ],
      "execution_count": 4,
      "outputs": []
    },
    {
      "cell_type": "code",
      "metadata": {
        "colab": {
          "base_uri": "https://localhost:8080/",
          "height": 1000
        },
        "id": "u8qYPD5lpxta",
        "outputId": "51ca698d-ae8b-423b-cac1-f01f422f954f"
      },
      "source": [
        "!pip install -r vscode_on_colab/requirements.txt"
      ],
      "execution_count": 5,
      "outputs": [
        {
          "output_type": "stream",
          "name": "stdout",
          "text": [
            "Collecting colabcode\n",
            "  Downloading colabcode-0.3.0-py3-none-any.whl (5.0 kB)\n",
            "Collecting jupyterlab==3.0.7\n",
            "  Downloading jupyterlab-3.0.7-py3-none-any.whl (8.3 MB)\n",
            "\u001b[K     |████████████████████████████████| 8.3 MB 4.3 MB/s \n",
            "\u001b[?25hCollecting nest-asyncio==1.4.3\n",
            "  Downloading nest_asyncio-1.4.3-py3-none-any.whl (5.3 kB)\n",
            "Collecting uvicorn==0.13.1\n",
            "  Downloading uvicorn-0.13.1-py3-none-any.whl (45 kB)\n",
            "\u001b[K     |████████████████████████████████| 45 kB 3.6 MB/s \n",
            "\u001b[?25hCollecting pyngrok>=5.0.0\n",
            "  Downloading pyngrok-5.1.0.tar.gz (745 kB)\n",
            "\u001b[K     |████████████████████████████████| 745 kB 60.8 MB/s \n",
            "\u001b[?25hRequirement already satisfied: packaging in /usr/local/lib/python3.7/dist-packages (from jupyterlab==3.0.7->colabcode->-r vscode_on_colab/requirements.txt (line 1)) (21.3)\n",
            "Requirement already satisfied: jupyter-core in /usr/local/lib/python3.7/dist-packages (from jupyterlab==3.0.7->colabcode->-r vscode_on_colab/requirements.txt (line 1)) (4.9.1)\n",
            "Collecting jupyter-server~=1.2\n",
            "  Downloading jupyter_server-1.11.2-py3-none-any.whl (394 kB)\n",
            "\u001b[K     |████████████████████████████████| 394 kB 58.0 MB/s \n",
            "\u001b[?25hCollecting nbclassic~=0.2\n",
            "  Downloading nbclassic-0.3.4-py3-none-any.whl (25 kB)\n",
            "Requirement already satisfied: jinja2>=2.10 in /usr/local/lib/python3.7/dist-packages (from jupyterlab==3.0.7->colabcode->-r vscode_on_colab/requirements.txt (line 1)) (2.11.3)\n",
            "Collecting tornado>=6.1.0\n",
            "  Downloading tornado-6.1-cp37-cp37m-manylinux2010_x86_64.whl (428 kB)\n",
            "\u001b[K     |████████████████████████████████| 428 kB 57.2 MB/s \n",
            "\u001b[?25hRequirement already satisfied: ipython in /usr/local/lib/python3.7/dist-packages (from jupyterlab==3.0.7->colabcode->-r vscode_on_colab/requirements.txt (line 1)) (5.5.0)\n",
            "Collecting jupyterlab-server~=2.0\n",
            "  Downloading jupyterlab_server-2.8.2-py3-none-any.whl (58 kB)\n",
            "\u001b[K     |████████████████████████████████| 58 kB 6.2 MB/s \n",
            "\u001b[?25hCollecting h11>=0.8\n",
            "  Downloading h11-0.12.0-py3-none-any.whl (54 kB)\n",
            "\u001b[K     |████████████████████████████████| 54 kB 3.3 MB/s \n",
            "\u001b[?25hRequirement already satisfied: click==7.* in /usr/local/lib/python3.7/dist-packages (from uvicorn==0.13.1->colabcode->-r vscode_on_colab/requirements.txt (line 1)) (7.1.2)\n",
            "Requirement already satisfied: typing-extensions in /usr/local/lib/python3.7/dist-packages (from uvicorn==0.13.1->colabcode->-r vscode_on_colab/requirements.txt (line 1)) (3.10.0.2)\n",
            "Requirement already satisfied: MarkupSafe>=0.23 in /usr/local/lib/python3.7/dist-packages (from jinja2>=2.10->jupyterlab==3.0.7->colabcode->-r vscode_on_colab/requirements.txt (line 1)) (2.0.1)\n",
            "Requirement already satisfied: nbconvert in /usr/local/lib/python3.7/dist-packages (from jupyter-server~=1.2->jupyterlab==3.0.7->colabcode->-r vscode_on_colab/requirements.txt (line 1)) (5.6.1)\n",
            "Requirement already satisfied: terminado>=0.8.3 in /usr/local/lib/python3.7/dist-packages (from jupyter-server~=1.2->jupyterlab==3.0.7->colabcode->-r vscode_on_colab/requirements.txt (line 1)) (0.12.1)\n",
            "Requirement already satisfied: prometheus-client in /usr/local/lib/python3.7/dist-packages (from jupyter-server~=1.2->jupyterlab==3.0.7->colabcode->-r vscode_on_colab/requirements.txt (line 1)) (0.12.0)\n",
            "Requirement already satisfied: traitlets>=4.2.1 in /usr/local/lib/python3.7/dist-packages (from jupyter-server~=1.2->jupyterlab==3.0.7->colabcode->-r vscode_on_colab/requirements.txt (line 1)) (5.1.1)\n",
            "Requirement already satisfied: ipython-genutils in /usr/local/lib/python3.7/dist-packages (from jupyter-server~=1.2->jupyterlab==3.0.7->colabcode->-r vscode_on_colab/requirements.txt (line 1)) (0.2.0)\n",
            "Collecting jupyter-client>=6.1.1\n",
            "  Downloading jupyter_client-7.0.6-py3-none-any.whl (125 kB)\n",
            "\u001b[K     |████████████████████████████████| 125 kB 72.1 MB/s \n",
            "\u001b[?25hRequirement already satisfied: argon2-cffi in /usr/local/lib/python3.7/dist-packages (from jupyter-server~=1.2->jupyterlab==3.0.7->colabcode->-r vscode_on_colab/requirements.txt (line 1)) (21.1.0)\n",
            "Collecting websocket-client\n",
            "  Downloading websocket_client-1.2.1-py2.py3-none-any.whl (52 kB)\n",
            "\u001b[K     |████████████████████████████████| 52 kB 1.5 MB/s \n",
            "\u001b[?25hRequirement already satisfied: pyzmq>=17 in /usr/local/lib/python3.7/dist-packages (from jupyter-server~=1.2->jupyterlab==3.0.7->colabcode->-r vscode_on_colab/requirements.txt (line 1)) (22.3.0)\n",
            "Collecting anyio<4,>=3.1.0\n",
            "  Downloading anyio-3.3.4-py3-none-any.whl (78 kB)\n",
            "\u001b[K     |████████████████████████████████| 78 kB 7.4 MB/s \n",
            "\u001b[?25hRequirement already satisfied: nbformat in /usr/local/lib/python3.7/dist-packages (from jupyter-server~=1.2->jupyterlab==3.0.7->colabcode->-r vscode_on_colab/requirements.txt (line 1)) (5.1.3)\n",
            "Requirement already satisfied: Send2Trash in /usr/local/lib/python3.7/dist-packages (from jupyter-server~=1.2->jupyterlab==3.0.7->colabcode->-r vscode_on_colab/requirements.txt (line 1)) (1.8.0)\n",
            "Requirement already satisfied: idna>=2.8 in /usr/local/lib/python3.7/dist-packages (from anyio<4,>=3.1.0->jupyter-server~=1.2->jupyterlab==3.0.7->colabcode->-r vscode_on_colab/requirements.txt (line 1)) (2.10)\n",
            "Collecting sniffio>=1.1\n",
            "  Downloading sniffio-1.2.0-py3-none-any.whl (10 kB)\n",
            "Requirement already satisfied: entrypoints in /usr/local/lib/python3.7/dist-packages (from jupyter-client>=6.1.1->jupyter-server~=1.2->jupyterlab==3.0.7->colabcode->-r vscode_on_colab/requirements.txt (line 1)) (0.3)\n",
            "Collecting jupyter-client>=6.1.1\n",
            "  Downloading jupyter_client-7.0.5-py3-none-any.whl (124 kB)\n",
            "\u001b[K     |████████████████████████████████| 124 kB 40.5 MB/s \n",
            "\u001b[?25h  Downloading jupyter_client-7.0.4-py3-none-any.whl (124 kB)\n",
            "\u001b[K     |████████████████████████████████| 124 kB 71.3 MB/s \n",
            "\u001b[?25h  Downloading jupyter_client-7.0.3-py3-none-any.whl (122 kB)\n",
            "\u001b[K     |████████████████████████████████| 122 kB 77.5 MB/s \n",
            "\u001b[?25h  Downloading jupyter_client-7.0.2-py3-none-any.whl (122 kB)\n",
            "\u001b[K     |████████████████████████████████| 122 kB 74.2 MB/s \n",
            "\u001b[?25h  Downloading jupyter_client-7.0.1-py3-none-any.whl (122 kB)\n",
            "\u001b[K     |████████████████████████████████| 122 kB 77.6 MB/s \n",
            "\u001b[?25h  Downloading jupyter_client-7.0.0-py3-none-any.whl (122 kB)\n",
            "\u001b[K     |████████████████████████████████| 122 kB 35.6 MB/s \n",
            "\u001b[?25h  Downloading jupyter_client-6.1.12-py3-none-any.whl (112 kB)\n",
            "\u001b[K     |████████████████████████████████| 112 kB 82.6 MB/s \n",
            "\u001b[?25hRequirement already satisfied: python-dateutil>=2.1 in /usr/local/lib/python3.7/dist-packages (from jupyter-client>=6.1.1->jupyter-server~=1.2->jupyterlab==3.0.7->colabcode->-r vscode_on_colab/requirements.txt (line 1)) (2.8.2)\n",
            "Requirement already satisfied: babel in /usr/local/lib/python3.7/dist-packages (from jupyterlab-server~=2.0->jupyterlab==3.0.7->colabcode->-r vscode_on_colab/requirements.txt (line 1)) (2.9.1)\n",
            "Collecting jsonschema>=3.0.1\n",
            "  Downloading jsonschema-4.2.1-py3-none-any.whl (69 kB)\n",
            "\u001b[K     |████████████████████████████████| 69 kB 8.8 MB/s \n",
            "\u001b[?25hRequirement already satisfied: requests in /usr/local/lib/python3.7/dist-packages (from jupyterlab-server~=2.0->jupyterlab==3.0.7->colabcode->-r vscode_on_colab/requirements.txt (line 1)) (2.23.0)\n",
            "Collecting json5\n",
            "  Downloading json5-0.9.6-py2.py3-none-any.whl (18 kB)\n",
            "Requirement already satisfied: attrs>=17.4.0 in /usr/local/lib/python3.7/dist-packages (from jsonschema>=3.0.1->jupyterlab-server~=2.0->jupyterlab==3.0.7->colabcode->-r vscode_on_colab/requirements.txt (line 1)) (21.2.0)\n",
            "Requirement already satisfied: importlib-metadata in /usr/local/lib/python3.7/dist-packages (from jsonschema>=3.0.1->jupyterlab-server~=2.0->jupyterlab==3.0.7->colabcode->-r vscode_on_colab/requirements.txt (line 1)) (4.8.2)\n",
            "Requirement already satisfied: pyrsistent!=0.17.0,!=0.17.1,!=0.17.2,>=0.14.0 in /usr/local/lib/python3.7/dist-packages (from jsonschema>=3.0.1->jupyterlab-server~=2.0->jupyterlab==3.0.7->colabcode->-r vscode_on_colab/requirements.txt (line 1)) (0.18.0)\n",
            "Requirement already satisfied: importlib-resources>=1.4.0 in /usr/local/lib/python3.7/dist-packages (from jsonschema>=3.0.1->jupyterlab-server~=2.0->jupyterlab==3.0.7->colabcode->-r vscode_on_colab/requirements.txt (line 1)) (5.4.0)\n",
            "Requirement already satisfied: zipp>=3.1.0 in /usr/local/lib/python3.7/dist-packages (from importlib-resources>=1.4.0->jsonschema>=3.0.1->jupyterlab-server~=2.0->jupyterlab==3.0.7->colabcode->-r vscode_on_colab/requirements.txt (line 1)) (3.6.0)\n",
            "Requirement already satisfied: notebook<7 in /usr/local/lib/python3.7/dist-packages (from nbclassic~=0.2->jupyterlab==3.0.7->colabcode->-r vscode_on_colab/requirements.txt (line 1)) (5.3.1)\n",
            "Requirement already satisfied: ipykernel in /usr/local/lib/python3.7/dist-packages (from notebook<7->nbclassic~=0.2->jupyterlab==3.0.7->colabcode->-r vscode_on_colab/requirements.txt (line 1)) (4.10.1)\n",
            "Requirement already satisfied: PyYAML in /usr/local/lib/python3.7/dist-packages (from pyngrok>=5.0.0->colabcode->-r vscode_on_colab/requirements.txt (line 1)) (3.13)\n",
            "Requirement already satisfied: six>=1.5 in /usr/local/lib/python3.7/dist-packages (from python-dateutil>=2.1->jupyter-client>=6.1.1->jupyter-server~=1.2->jupyterlab==3.0.7->colabcode->-r vscode_on_colab/requirements.txt (line 1)) (1.15.0)\n",
            "Requirement already satisfied: ptyprocess in /usr/local/lib/python3.7/dist-packages (from terminado>=0.8.3->jupyter-server~=1.2->jupyterlab==3.0.7->colabcode->-r vscode_on_colab/requirements.txt (line 1)) (0.7.0)\n",
            "Requirement already satisfied: cffi>=1.0.0 in /usr/local/lib/python3.7/dist-packages (from argon2-cffi->jupyter-server~=1.2->jupyterlab==3.0.7->colabcode->-r vscode_on_colab/requirements.txt (line 1)) (1.15.0)\n",
            "Requirement already satisfied: pycparser in /usr/local/lib/python3.7/dist-packages (from cffi>=1.0.0->argon2-cffi->jupyter-server~=1.2->jupyterlab==3.0.7->colabcode->-r vscode_on_colab/requirements.txt (line 1)) (2.21)\n",
            "Requirement already satisfied: pytz>=2015.7 in /usr/local/lib/python3.7/dist-packages (from babel->jupyterlab-server~=2.0->jupyterlab==3.0.7->colabcode->-r vscode_on_colab/requirements.txt (line 1)) (2018.9)\n",
            "Requirement already satisfied: simplegeneric>0.8 in /usr/local/lib/python3.7/dist-packages (from ipython->jupyterlab==3.0.7->colabcode->-r vscode_on_colab/requirements.txt (line 1)) (0.8.1)\n",
            "Requirement already satisfied: pygments in /usr/local/lib/python3.7/dist-packages (from ipython->jupyterlab==3.0.7->colabcode->-r vscode_on_colab/requirements.txt (line 1)) (2.6.1)\n",
            "Requirement already satisfied: pickleshare in /usr/local/lib/python3.7/dist-packages (from ipython->jupyterlab==3.0.7->colabcode->-r vscode_on_colab/requirements.txt (line 1)) (0.7.5)\n",
            "Requirement already satisfied: setuptools>=18.5 in /usr/local/lib/python3.7/dist-packages (from ipython->jupyterlab==3.0.7->colabcode->-r vscode_on_colab/requirements.txt (line 1)) (57.4.0)\n",
            "Requirement already satisfied: decorator in /usr/local/lib/python3.7/dist-packages (from ipython->jupyterlab==3.0.7->colabcode->-r vscode_on_colab/requirements.txt (line 1)) (4.4.2)\n",
            "Requirement already satisfied: pexpect in /usr/local/lib/python3.7/dist-packages (from ipython->jupyterlab==3.0.7->colabcode->-r vscode_on_colab/requirements.txt (line 1)) (4.8.0)\n",
            "Requirement already satisfied: prompt-toolkit<2.0.0,>=1.0.4 in /usr/local/lib/python3.7/dist-packages (from ipython->jupyterlab==3.0.7->colabcode->-r vscode_on_colab/requirements.txt (line 1)) (1.0.18)\n",
            "Requirement already satisfied: wcwidth in /usr/local/lib/python3.7/dist-packages (from prompt-toolkit<2.0.0,>=1.0.4->ipython->jupyterlab==3.0.7->colabcode->-r vscode_on_colab/requirements.txt (line 1)) (0.2.5)\n",
            "Requirement already satisfied: bleach in /usr/local/lib/python3.7/dist-packages (from nbconvert->jupyter-server~=1.2->jupyterlab==3.0.7->colabcode->-r vscode_on_colab/requirements.txt (line 1)) (4.1.0)\n",
            "Requirement already satisfied: pandocfilters>=1.4.1 in /usr/local/lib/python3.7/dist-packages (from nbconvert->jupyter-server~=1.2->jupyterlab==3.0.7->colabcode->-r vscode_on_colab/requirements.txt (line 1)) (1.5.0)\n",
            "Requirement already satisfied: testpath in /usr/local/lib/python3.7/dist-packages (from nbconvert->jupyter-server~=1.2->jupyterlab==3.0.7->colabcode->-r vscode_on_colab/requirements.txt (line 1)) (0.5.0)\n",
            "Requirement already satisfied: defusedxml in /usr/local/lib/python3.7/dist-packages (from nbconvert->jupyter-server~=1.2->jupyterlab==3.0.7->colabcode->-r vscode_on_colab/requirements.txt (line 1)) (0.7.1)\n",
            "Requirement already satisfied: mistune<2,>=0.8.1 in /usr/local/lib/python3.7/dist-packages (from nbconvert->jupyter-server~=1.2->jupyterlab==3.0.7->colabcode->-r vscode_on_colab/requirements.txt (line 1)) (0.8.4)\n",
            "Requirement already satisfied: webencodings in /usr/local/lib/python3.7/dist-packages (from bleach->nbconvert->jupyter-server~=1.2->jupyterlab==3.0.7->colabcode->-r vscode_on_colab/requirements.txt (line 1)) (0.5.1)\n",
            "Requirement already satisfied: pyparsing!=3.0.5,>=2.0.2 in /usr/local/lib/python3.7/dist-packages (from packaging->jupyterlab==3.0.7->colabcode->-r vscode_on_colab/requirements.txt (line 1)) (3.0.6)\n",
            "Requirement already satisfied: urllib3!=1.25.0,!=1.25.1,<1.26,>=1.21.1 in /usr/local/lib/python3.7/dist-packages (from requests->jupyterlab-server~=2.0->jupyterlab==3.0.7->colabcode->-r vscode_on_colab/requirements.txt (line 1)) (1.24.3)\n",
            "Requirement already satisfied: certifi>=2017.4.17 in /usr/local/lib/python3.7/dist-packages (from requests->jupyterlab-server~=2.0->jupyterlab==3.0.7->colabcode->-r vscode_on_colab/requirements.txt (line 1)) (2021.10.8)\n",
            "Requirement already satisfied: chardet<4,>=3.0.2 in /usr/local/lib/python3.7/dist-packages (from requests->jupyterlab-server~=2.0->jupyterlab==3.0.7->colabcode->-r vscode_on_colab/requirements.txt (line 1)) (3.0.4)\n",
            "Building wheels for collected packages: pyngrok\n",
            "  Building wheel for pyngrok (setup.py) ... \u001b[?25l\u001b[?25hdone\n",
            "  Created wheel for pyngrok: filename=pyngrok-5.1.0-py3-none-any.whl size=19006 sha256=7773ebb2c0431e99b17e7ce23a963df067578613fa52a39378132d794851e7e3\n",
            "  Stored in directory: /root/.cache/pip/wheels/bf/e6/af/ccf6598ecefecd44104069371795cb9b3afbcd16987f6ccfb3\n",
            "Successfully built pyngrok\n",
            "Installing collected packages: tornado, jsonschema, sniffio, jupyter-client, websocket-client, anyio, jupyter-server, json5, nbclassic, jupyterlab-server, h11, uvicorn, pyngrok, nest-asyncio, jupyterlab, colabcode\n",
            "  Attempting uninstall: tornado\n",
            "    Found existing installation: tornado 5.1.1\n",
            "    Uninstalling tornado-5.1.1:\n",
            "      Successfully uninstalled tornado-5.1.1\n",
            "  Attempting uninstall: jsonschema\n",
            "    Found existing installation: jsonschema 2.6.0\n",
            "    Uninstalling jsonschema-2.6.0:\n",
            "      Successfully uninstalled jsonschema-2.6.0\n",
            "  Attempting uninstall: jupyter-client\n",
            "    Found existing installation: jupyter-client 5.3.5\n",
            "    Uninstalling jupyter-client-5.3.5:\n",
            "      Successfully uninstalled jupyter-client-5.3.5\n",
            "  Attempting uninstall: nest-asyncio\n",
            "    Found existing installation: nest-asyncio 1.5.1\n",
            "    Uninstalling nest-asyncio-1.5.1:\n",
            "      Successfully uninstalled nest-asyncio-1.5.1\n",
            "\u001b[31mERROR: pip's dependency resolver does not currently take into account all the packages that are installed. This behaviour is the source of the following dependency conflicts.\n",
            "google-colab 1.0.0 requires tornado~=5.1.0; python_version >= \"3.0\", but you have tornado 6.1 which is incompatible.\u001b[0m\n",
            "Successfully installed anyio-3.3.4 colabcode-0.3.0 h11-0.12.0 json5-0.9.6 jsonschema-4.2.1 jupyter-client-6.1.12 jupyter-server-1.11.2 jupyterlab-3.0.7 jupyterlab-server-2.8.2 nbclassic-0.3.4 nest-asyncio-1.4.3 pyngrok-5.1.0 sniffio-1.2.0 tornado-6.1 uvicorn-0.13.1 websocket-client-1.2.1\n"
          ]
        },
        {
          "output_type": "display_data",
          "data": {
            "application/vnd.colab-display-data+json": {
              "pip_warning": {
                "packages": [
                  "jupyter_client",
                  "tornado"
                ]
              }
            }
          },
          "metadata": {}
        }
      ]
    },
    {
      "cell_type": "code",
      "metadata": {
        "colab": {
          "base_uri": "https://localhost:8080/"
        },
        "id": "9OaHYIoup_lD",
        "outputId": "a166ed65-410b-4481-e6a4-18eafa17449a"
      },
      "source": [
        "!python vscode_on_colab/start.py"
      ],
      "execution_count": null,
      "outputs": [
        {
          "output_type": "stream",
          "name": "stdout",
          "text": [
            "--2021-11-21 02:40:53--  https://code-server.dev/install.sh\n",
            "Resolving code-server.dev (code-server.dev)... 104.21.16.171, 172.67.214.225, 2606:4700:3031::ac43:d6e1, ...\n",
            "Connecting to code-server.dev (code-server.dev)|104.21.16.171|:443... connected.\n",
            "HTTP request sent, awaiting response... 302 Found\n",
            "Location: https://raw.githubusercontent.com/cdr/code-server/main/install.sh [following]\n",
            "--2021-11-21 02:40:53--  https://raw.githubusercontent.com/cdr/code-server/main/install.sh\n",
            "Resolving raw.githubusercontent.com (raw.githubusercontent.com)... 185.199.108.133, 185.199.109.133, 185.199.110.133, ...\n",
            "Connecting to raw.githubusercontent.com (raw.githubusercontent.com)|185.199.108.133|:443... connected.\n",
            "HTTP request sent, awaiting response... 200 OK\n",
            "Length: 15580 (15K) [text/plain]\n",
            "Saving to: ‘install.sh.1’\n",
            "\n",
            "install.sh.1        100%[===================>]  15.21K  --.-KB/s    in 0.002s  \n",
            "\n",
            "2021-11-21 02:40:54 (6.47 MB/s) - ‘install.sh.1’ saved [15580/15580]\n",
            "\n",
            "######################################################################## 100.0%\n",
            "[2021-11-21T02:41:01.125Z] \u001b[38;2;0;143;191minfo  \u001b[0mWrote default config file to ~/.config/code-server/config.yaml\u001b[0m\n",
            "Installing extensions...\n",
            "Installing extension 'ms-python.python' v2021.10.1365161279...\n",
            "Extension 'ms-python.python' v2021.10.1365161279 was successfully installed.\n",
            "Installing extensions...\n",
            "Extension 'ms-toolsai.jupyter' v2021.6.832593372 is already installed. Use '--force' option to update to latest version or provide '@<version>' to install a specific version, for example: 'ms-toolsai.jupyter@1.2.3'.\n",
            "Installing extensions...\n",
            "Installing extension 'mechatroner.rainbow-csv' v0.3.0...\n",
            "Extension 'mechatroner.rainbow-csv' v0.3.0 was successfully installed.\n",
            "Installing extensions...\n",
            "Installing extension 'vscode-icons-team.vscode-icons' v10.0.0...\n",
            "Extension 'vscode-icons-team.vscode-icons' v10.0.0 was successfully installed.\n",
            "Code Server can be accessed on: NgrokTunnel: \"https://8bcb-34-75-100-158.ngrok.io\" -> \"http://localhost:10000\"\n",
            "[2021-11-21T02:41:17.992Z] info  code-server 3.10.2 387b12ef4ca404ffd39d84834e1f0776e9e3c005\n",
            "[2021-11-21T02:41:17.993Z] info  Using user-data-dir ~/.local/share/code-server\n",
            "[2021-11-21T02:41:18.013Z] info  Using config file ~/.config/code-server/config.yaml\n",
            "[2021-11-21T02:41:18.013Z] info  HTTP server listening on http://127.0.0.1:10000 \n",
            "[2021-11-21T02:41:18.013Z] info    - Authentication is enabled\n",
            "[2021-11-21T02:41:18.014Z] info      - Using password from $PASSWORD\n",
            "[2021-11-21T02:41:18.014Z] info    - Not serving HTTPS \n"
          ]
        }
      ]
    },
    {
      "cell_type": "code",
      "metadata": {
        "id": "C0UhILxPuXXJ"
      },
      "source": [
        ""
      ],
      "execution_count": null,
      "outputs": []
    }
  ]
}